{
 "cells": [
  {
   "cell_type": "code",
   "execution_count": 1,
   "metadata": {},
   "outputs": [
    {
     "name": "stderr",
     "output_type": "stream",
     "text": [
      "Using TensorFlow backend.\n"
     ]
    }
   ],
   "source": [
    "import math\n",
    "import numpy as np\n",
    "import pandas as pd\n",
    "from tqdm import tqdm_notebook\n",
    "from keras.utils import np_utils\n",
    "from sklearn.cluster import KMeans\n",
    "from matplotlib import pyplot as plt\n",
    "% matplotlib inline"
   ]
  },
  {
   "cell_type": "markdown",
   "metadata": {},
   "source": [
    "# Making feature dataset after concatenation"
   ]
  },
  {
   "cell_type": "code",
   "execution_count": 2,
   "metadata": {},
   "outputs": [],
   "source": [
    "def getDataframe(filepath):\n",
    "    return pd.read_csv(filepath)"
   ]
  },
  {
   "cell_type": "code",
   "execution_count": 3,
   "metadata": {},
   "outputs": [
    {
     "name": "stdout",
     "output_type": "stream",
     "text": [
      "   Unnamed: 0 img_id  f1  f2  f3  f4  f5  f6  f7  f8  f9\n",
      "0           0  0359a   2   1   1   0   2   2   0   2   2\n",
      "1           1  0577a   2   1   1   0   2   2   0   1   2\n",
      "2           2  1120a   2   1   1   3   2   2   0   2   2\n",
      "3           3  1120b   1   1   1   0   2   2   0   2   2\n",
      "4           4  1120c   2   1   1   0   2   2   0   0   2 \n",
      "\n",
      "(1026, 11)\n"
     ]
    }
   ],
   "source": [
    "# Importing HumanObserved-Features-Data.csv file\n",
    "humanObservedFeaturesData = getDataframe(\"HumanObserved-Features-Data.csv\")\n",
    "print(humanObservedFeaturesData.head(),\"\\n\")\n",
    "print(humanObservedFeaturesData.shape)"
   ]
  },
  {
   "cell_type": "code",
   "execution_count": 4,
   "metadata": {},
   "outputs": [],
   "source": [
    "humanObservedFeaturesData.drop('Unnamed: 0',axis=1,inplace=True) # removing the first column"
   ]
  },
  {
   "cell_type": "code",
   "execution_count": 5,
   "metadata": {},
   "outputs": [
    {
     "name": "stdout",
     "output_type": "stream",
     "text": [
      "  img_id  f1  f2  f3  f4  f5  f6  f7  f8  f9\n",
      "0  0359a   2   1   1   0   2   2   0   2   2\n",
      "1  0577a   2   1   1   0   2   2   0   1   2\n",
      "2  1120a   2   1   1   3   2   2   0   2   2\n",
      "3  1120b   1   1   1   0   2   2   0   2   2\n",
      "4  1120c   2   1   1   0   2   2   0   0   2 \n",
      "\n",
      "(1026, 10)\n"
     ]
    }
   ],
   "source": [
    "print(humanObservedFeaturesData.head(),\"\\n\")\n",
    "print(humanObservedFeaturesData.shape)"
   ]
  },
  {
   "cell_type": "code",
   "execution_count": 6,
   "metadata": {},
   "outputs": [
    {
     "name": "stdout",
     "output_type": "stream",
     "text": [
      "  img_id_A img_id_B  target\n",
      "0    0359a    0359b       1\n",
      "1    0577a    0577b       1\n",
      "2    0577a    0577c       1\n",
      "3    1120a    1120b       1\n",
      "4    1120a    1120c       1\n",
      "\n",
      " (791, 3)\n"
     ]
    }
   ],
   "source": [
    "# Importing same_pairs.csv file\n",
    "\n",
    "samePair = getDataframe(\"same_pairs.csv\")\n",
    "print(samePair.head())\n",
    "print(\"\\n\",samePair.shape)"
   ]
  },
  {
   "cell_type": "code",
   "execution_count": 7,
   "metadata": {},
   "outputs": [
    {
     "name": "stdout",
     "output_type": "stream",
     "text": [
      "(564,)\n",
      "(564,)\n"
     ]
    }
   ],
   "source": [
    "print(samePair['img_id_A'].unique().shape)  # It tells the number of distinct images in img_id_A column\n",
    "print(samePair['img_id_B'].unique().shape)  # It tells the number of distinct images in img_id_B column\n",
    "\n",
    "# Both columns have 564 distinct images out of 791 images"
   ]
  },
  {
   "cell_type": "code",
   "execution_count": 8,
   "metadata": {},
   "outputs": [],
   "source": [
    "# Importing diffn_pairs.csv file\n",
    "\n",
    "diffnPair = getDataframe(\"diffn_pairs.csv\")"
   ]
  },
  {
   "cell_type": "code",
   "execution_count": 9,
   "metadata": {},
   "outputs": [
    {
     "name": "stdout",
     "output_type": "stream",
     "text": [
      "  img_id_A img_id_B  target\n",
      "0    0359a    0577a       0\n",
      "1    0359a    1120a       0\n",
      "2    0359a    1120b       0\n",
      "3    0359a    1120c       0\n",
      "4    0359a    1121a       0 \n",
      "\n",
      "(293032, 3)\n"
     ]
    }
   ],
   "source": [
    "print(diffnPair.head(),\"\\n\")\n",
    "print(diffnPair.shape)"
   ]
  },
  {
   "cell_type": "code",
   "execution_count": 10,
   "metadata": {},
   "outputs": [
    {
     "name": "stdout",
     "output_type": "stream",
     "text": [
      "  img_id_A img_id_B  target\n",
      "0    0359a    0359b       1\n",
      "1    0577a    0577b       1\n",
      "2    0577a    0577c       1\n",
      "3    1120a    1120b       1\n",
      "4    1120a    1120c       1 \n",
      "\n",
      "(1582, 3)\n"
     ]
    }
   ],
   "source": [
    "# To make my feature dataset, here I am taking random 791 samples from diffnPair dataframe so that I can concatenate same pair\n",
    "# and different pair along row axis.\n",
    "\n",
    "humanObsFeatures = pd.concat([samePair, diffnPair[30:821]])\n",
    "print(humanObsFeatures.head(),\"\\n\")  # We can see in the target column, series of 1's is appearing and then series of 0's\n",
    "print(humanObsFeatures.shape)  "
   ]
  },
  {
   "cell_type": "code",
   "execution_count": 11,
   "metadata": {},
   "outputs": [],
   "source": [
    "hod = humanObsFeatures.values\n",
    "np.random.shuffle(hod)          # Here I have shuffled the samples along row axis"
   ]
  },
  {
   "cell_type": "code",
   "execution_count": 12,
   "metadata": {},
   "outputs": [
    {
     "name": "stdout",
     "output_type": "stream",
     "text": [
      "Index(['img_id_A', 'img_id_B', 'target'], dtype='object')\n"
     ]
    }
   ],
   "source": [
    "columnIndex = humanObsFeatures.columns\n",
    "print(columnIndex)"
   ]
  },
  {
   "cell_type": "code",
   "execution_count": 13,
   "metadata": {},
   "outputs": [
    {
     "name": "stdout",
     "output_type": "stream",
     "text": [
      "  img_id_A img_id_B target\n",
      "0    1468b    1468c      1\n",
      "1    1320b    1320c      1\n",
      "2    1521c    1521b      1\n",
      "3    0577a    1424b      0\n",
      "4    1271a    1271c      1\n"
     ]
    }
   ],
   "source": [
    "humanObsFeatures =  pd.DataFrame(data = hod,columns=columnIndex)\n",
    "print(humanObsFeatures.head())"
   ]
  },
  {
   "cell_type": "code",
   "execution_count": 14,
   "metadata": {},
   "outputs": [],
   "source": [
    "# To make human observed dataset after concatenation of features of image_A and image_B, we have to fetch features of image A\n",
    "# and B from \"humanObservedFeaturesData\" dataframe."
   ]
  },
  {
   "cell_type": "code",
   "execution_count": 15,
   "metadata": {},
   "outputs": [],
   "source": [
    "img_id_A = humanObsFeatures['img_id_A'].values\n",
    "img_id_B = humanObsFeatures['img_id_B'].values"
   ]
  },
  {
   "cell_type": "code",
   "execution_count": 16,
   "metadata": {},
   "outputs": [
    {
     "name": "stdout",
     "output_type": "stream",
     "text": [
      "        f1  f2  f3  f4  f5  f6  f7  f8  f9\n",
      "img_id                                    \n",
      "0359a    2   1   1   0   2   2   0   2   2\n",
      "0577a    2   1   1   0   2   2   0   1   2\n",
      "1120a    2   1   1   3   2   2   0   2   2\n",
      "1120b    1   1   1   0   2   2   0   2   2\n",
      "1120c    2   1   1   0   2   2   0   0   2\n"
     ]
    }
   ],
   "source": [
    "# To fetch the features we have to reset the index\n",
    "\n",
    "features = humanObservedFeaturesData.set_index(keys='img_id')\n",
    "print(features.head())"
   ]
  },
  {
   "cell_type": "code",
   "execution_count": 17,
   "metadata": {},
   "outputs": [
    {
     "name": "stdout",
     "output_type": "stream",
     "text": [
      "Features of Images_A:\n",
      "\n",
      "         f1  f2  f3  f4  f5  f6  f7  f8  f9\n",
      "img_id                                    \n",
      "1468b    3   1   1   2   2   2   1   3   2\n",
      "1320b    3   1   1   0   2   1   0   0   2\n",
      "1521c    0   1   1   2   2   2   1   0   2\n",
      "0577a    2   1   1   0   2   2   0   1   2\n",
      "1271a    1   1   1   2   0   1   1   4   1 \n",
      "\n",
      "(1582, 9)\n"
     ]
    }
   ],
   "source": [
    "# Fetching Images_A features\n",
    "\n",
    "img_id_A_features = features.loc[img_id_A]\n",
    "print(\"Features of Images_A:\\n\\n\",img_id_A_features.head(),\"\\n\")\n",
    "print(img_id_A_features.shape)"
   ]
  },
  {
   "cell_type": "code",
   "execution_count": 18,
   "metadata": {},
   "outputs": [
    {
     "name": "stdout",
     "output_type": "stream",
     "text": [
      "Features of Images_A:\n",
      "\n",
      "         f1  f2  f3  f4  f5  f6  f7  f8  f9\n",
      "img_id                                    \n",
      "1468c    1   2   1   3   2   2   0   4   2\n",
      "1320c    2   2   1   0   2   2   0   3   2\n",
      "1521b    3   1   1   3   0   2   3   3   2\n",
      "1424b    3   1   1   0   0   2   0   0   2\n",
      "1271c    0   1   2   4   2   2   2   2   2 \n",
      "\n",
      "(1582, 9)\n"
     ]
    }
   ],
   "source": [
    "# Fetching Images_B features\n",
    "\n",
    "img_id_B_features = features.loc[img_id_B]\n",
    "print(\"Features of Images_A:\\n\\n\",img_id_B_features.head(),\"\\n\")\n",
    "print(img_id_B_features.shape)"
   ]
  },
  {
   "cell_type": "code",
   "execution_count": 19,
   "metadata": {},
   "outputs": [],
   "source": [
    "imageIds = humanObsFeatures[['img_id_A', 'img_id_B']].values\n",
    "target = humanObsFeatures[['target']].values"
   ]
  },
  {
   "cell_type": "code",
   "execution_count": 20,
   "metadata": {},
   "outputs": [],
   "source": [
    "# absolute difference of Images_A features and Images_B features\n",
    "subtractedFeatures = np.abs(img_id_A_features.values - img_id_B_features.values)"
   ]
  },
  {
   "cell_type": "code",
   "execution_count": 21,
   "metadata": {},
   "outputs": [],
   "source": [
    "subtractedFeatures = np.hstack((imageIds, subtractedFeatures, target)) "
   ]
  },
  {
   "cell_type": "code",
   "execution_count": 22,
   "metadata": {},
   "outputs": [
    {
     "name": "stdout",
     "output_type": "stream",
     "text": [
      "['img_id_A', 'img_id_B', 'f1', 'f2', 'f3', 'f4', 'f5', 'f6', 'f7', 'f8', 'f9', 'target']\n"
     ]
    }
   ],
   "source": [
    "Indexcol = ['img_id_A', 'img_id_B'] + list(img_id_A_features.columns) + ['target']\n",
    "print(Indexcol)"
   ]
  },
  {
   "cell_type": "code",
   "execution_count": 23,
   "metadata": {},
   "outputs": [
    {
     "name": "stdout",
     "output_type": "stream",
     "text": [
      "The subtracted features is\n",
      "\n",
      "   img_id_A img_id_B f1 f2 f3 f4 f5 f6 f7 f8 f9 target\n",
      "0    1468b    1468c  2  1  0  1  0  0  1  1  0      1\n",
      "1    1320b    1320c  1  1  0  0  0  1  0  3  0      1\n",
      "2    1521c    1521b  3  0  0  1  2  0  2  3  0      1\n",
      "3    0577a    1424b  1  0  0  0  2  0  0  1  0      0\n",
      "4    1271a    1271c  1  0  1  2  2  1  1  2  1      1\n",
      "\n",
      " (1582, 12)\n"
     ]
    }
   ],
   "source": [
    "subtractedFeatures = pd.DataFrame(subtractedFeatures, columns = Indexcol)\n",
    "print(\"The subtracted features is\\n\\n\",subtractedFeatures.head())\n",
    "print(\"\\n\",subtractedFeatures.shape)"
   ]
  },
  {
   "cell_type": "code",
   "execution_count": 24,
   "metadata": {},
   "outputs": [
    {
     "data": {
      "text/plain": [
       "'f1 f2 f3 f4 f5 f6 f7 f8 f9 f10 f11 f12 f13 f14 f15 f16 f17 f18 '"
      ]
     },
     "execution_count": 24,
     "metadata": {},
     "output_type": "execute_result"
    }
   ],
   "source": [
    "columnIndex = \"\"\n",
    "\n",
    "for i in range(1,19):\n",
    "    columnIndex = columnIndex + 'f' + str(i) + ' '\n",
    "columnIndex"
   ]
  },
  {
   "cell_type": "code",
   "execution_count": 25,
   "metadata": {},
   "outputs": [],
   "source": [
    "# Concatenating features A and B\n",
    "ConcatenatedFeatures = np.hstack((imageIds, img_id_A_features.values, img_id_B_features.values, target)) "
   ]
  },
  {
   "cell_type": "code",
   "execution_count": 26,
   "metadata": {},
   "outputs": [
    {
     "name": "stdout",
     "output_type": "stream",
     "text": [
      "['img_id_A', 'img_id_B', 'f1', 'f2', 'f3', 'f4', 'f5', 'f6', 'f7', 'f8', 'f9', 'f10', 'f11', 'f12', 'f13', 'f14', 'f15', 'f16', 'f17', 'f18', 'target']\n"
     ]
    }
   ],
   "source": [
    "col = ['img_id_A', 'img_id_B']+columnIndex.split() + ['target']  # Index of Columns \n",
    "print(col)"
   ]
  },
  {
   "cell_type": "code",
   "execution_count": 27,
   "metadata": {},
   "outputs": [
    {
     "name": "stdout",
     "output_type": "stream",
     "text": [
      "\n",
      " (1582, 21)\n"
     ]
    }
   ],
   "source": [
    "ConcatenatedFeatures = pd.DataFrame(ConcatenatedFeatures, columns = col)\n",
    "ConcatenatedFeatures.head()\n",
    "print(\"\\n\",ConcatenatedFeatures.shape)"
   ]
  },
  {
   "cell_type": "code",
   "execution_count": 28,
   "metadata": {},
   "outputs": [],
   "source": [
    "# Generation of target vector from ConcatenatedFeatures and subtractedFeatures for human observed data and GSC\n",
    "\n",
    "def getTargetVector(file):\n",
    "    targetVec = file['target'].values\n",
    "    return targetVec\n",
    "\n",
    "\n",
    "# Generation of raw data matrix from ConcatenatedFeatures and subtractedFeatures for human observed data and GSC\n",
    "\n",
    "def rawDataMatrix(file):\n",
    "    rawData = file[file.columns].values\n",
    "    return rawData[:,2:len(rawData[0])-1].T"
   ]
  },
  {
   "cell_type": "code",
   "execution_count": 29,
   "metadata": {},
   "outputs": [],
   "source": [
    "# Creating the training target variable(70% of target variable)\n",
    "\n",
    "def getTrainingTarget(rawTraining,TrainingPercent = 70): \n",
    "    TrainingLen = math.ceil(len(rawTraining)*(TrainingPercent*0.01))\n",
    "    t = rawTraining[:TrainingLen]\n",
    "    return t \n",
    "\n",
    "\n",
    "# Making the Training dataMatrix which is 70% of input dataset\n",
    "\n",
    "def TrainingDataMatrix(rawData, TrainingPercent = 70): \n",
    "    T_len = math.ceil(len(rawData[0])*0.01*TrainingPercent)\n",
    "    d2 = rawData[:,0:T_len]\n",
    "    return d2 \n",
    "\n",
    "\n",
    "# Making the Validation target(15% of input dataset)\n",
    "\n",
    "def getValTargetVector(rawData, ValPercent, TrainingCount): \n",
    "    valSize = math.ceil(len(rawData)*ValPercent*0.01)\n",
    "    V_End = TrainingCount + valSize\n",
    "    t =rawData[TrainingCount+1:V_End]\n",
    "    return t\n",
    "\n",
    "\n",
    "# Creating Validation dataMatrix(15% of input dataset)\n",
    "\n",
    "def ValDataMatrix(rawData, ValPercent, TrainingCount): \n",
    "    valSize = math.ceil(len(rawData[0])*ValPercent*0.01)\n",
    "    V_End = TrainingCount + valSize\n",
    "    dataMatrix = rawData[:,TrainingCount+1:V_End]  \n",
    "    return dataMatrix "
   ]
  },
  {
   "cell_type": "code",
   "execution_count": 30,
   "metadata": {},
   "outputs": [],
   "source": [
    "def getBigSigma(Data,TrainingPercent):\n",
    "    BigSigma    = np.zeros((len(Data),len(Data)))\n",
    "    DataT       = np.transpose(Data)\n",
    "    TrainingLen = math.ceil(len(DataT)*(TrainingPercent*0.01))        \n",
    "    varVect     = []\n",
    "    for i in range(0,len(DataT[0])):\n",
    "        vct = []\n",
    "        for j in range(0,TrainingLen):\n",
    "            vct.append(Data[i][j])    \n",
    "        varVect.append(np.var(vct))\n",
    "    \n",
    "    for j in range(len(Data)):\n",
    "        BigSigma[j][j] = varVect[j]  # BigSigma is getting assigned diagonally by all values of varVect\n",
    "        \n",
    "    \n",
    "    return BigSigma"
   ]
  },
  {
   "cell_type": "code",
   "execution_count": 31,
   "metadata": {},
   "outputs": [],
   "source": [
    "def getScalar(DataRow,Mu, BigSigInv):  \n",
    "    R = np.subtract(DataRow,Mu)\n",
    "    T = np.dot(BigSigInv,np.transpose(R))  \n",
    "    L = np.dot(R,T)\n",
    "    return L\n",
    "\n",
    "def getRadialBasisOut(DataRow,Mu, BigSigInv):    \n",
    "    phi_x = math.exp(-0.5*getScalar(DataRow,Mu,BigSigInv))\n",
    "    return phi_x\n",
    "\n",
    "def getPhiMatrix(Data, Mu, BigSigma, TrainingPercent = 70):\n",
    "    DataT = np.transpose(Data) \n",
    "    TrainingLen = math.ceil(len(DataT)*(TrainingPercent*0.01))        \n",
    "    PHI = np.zeros((TrainingLen,len(Mu))) \n",
    "    BigSigInv = np.linalg.inv(BigSigma) \n",
    "    for  C in range(len(Mu)):\n",
    "        for R in range(TrainingLen):\n",
    "            PHI[R][C] = getRadialBasisOut(DataT[R], Mu[C], BigSigInv)\n",
    "    \n",
    "    return PHI"
   ]
  },
  {
   "cell_type": "code",
   "execution_count": 32,
   "metadata": {},
   "outputs": [],
   "source": [
    "def getWeightsClosedForm(PHI, T, Lambda):\n",
    "    Lambda_I = np.identity(len(PHI[0]))\n",
    "    for i in range(0,len(PHI[0])):\n",
    "        Lambda_I[i][i] = Lambda\n",
    "    PHI_T       = np.transpose(PHI)\n",
    "    PHI_SQR     = np.dot(PHI_T,PHI)\n",
    "    PHI_SQR_LI  = np.add(Lambda_I,PHI_SQR)\n",
    "    PHI_SQR_INV = np.linalg.inv(PHI_SQR_LI)\n",
    "    INTER       = np.dot(PHI_SQR_INV, PHI_T)\n",
    "    W           = np.dot(INTER, T)\n",
    "    return W "
   ]
  },
  {
   "cell_type": "code",
   "execution_count": 33,
   "metadata": {},
   "outputs": [],
   "source": [
    "def getValTest(VAL_PHI,W):\n",
    "    Y = np.dot(W,np.transpose(VAL_PHI))\n",
    "    return Y\n",
    "\n",
    "\n",
    "# rms = root mean square\n",
    "\n",
    "def getErms(VAL_TEST_OUT,ValDataAct): \n",
    "    sum = 0.0\n",
    "    accuracy = 0.0\n",
    "    counter = 0\n",
    "    for i in range (0,len(VAL_TEST_OUT)):\n",
    "        sum = sum + math.pow((ValDataAct[i] - VAL_TEST_OUT[i]),2)\n",
    "        if(int(np.around(VAL_TEST_OUT[i], 0)) == ValDataAct[i]):\n",
    "            counter+=1\n",
    "    accuracy = (float((counter*100))/float(len(VAL_TEST_OUT)))\n",
    "    return (str(accuracy) + ',' +  str(math.sqrt(sum/len(VAL_TEST_OUT))))"
   ]
  },
  {
   "cell_type": "markdown",
   "metadata": {},
   "source": [
    "# Preparing Dataset"
   ]
  },
  {
   "cell_type": "code",
   "execution_count": 34,
   "metadata": {},
   "outputs": [],
   "source": [
    "# For concatenatedFeatures Dataset\n",
    "\n",
    "RawTargetConcat = getTargetVector(ConcatenatedFeatures)\n",
    "RawDataConcat   = rawDataMatrix(ConcatenatedFeatures)\n",
    "\n",
    "\n",
    "# For subtractedFeatures Dataset \n",
    "\n",
    "RawTargetSubtract = getTargetVector(subtractedFeatures)\n",
    "RawDataSubtract   = rawDataMatrix(subtractedFeatures)"
   ]
  },
  {
   "cell_type": "markdown",
   "metadata": {},
   "source": [
    "# Preparing Training Data"
   ]
  },
  {
   "cell_type": "code",
   "execution_count": 35,
   "metadata": {},
   "outputs": [
    {
     "name": "stdout",
     "output_type": "stream",
     "text": [
      "(1108,)\n",
      "(18, 1108)\n",
      "\n",
      "(1108,)\n",
      "(9, 1108)\n"
     ]
    }
   ],
   "source": [
    "# For concatenatedFeatures Dataset\n",
    "\n",
    "TrainingPercent=70\n",
    "TrainingTargetConcat = getTrainingTarget(RawTargetConcat,TrainingPercent)\n",
    "TrainingDataConcat   = TrainingDataMatrix(RawDataConcat,TrainingPercent)\n",
    "print(TrainingTargetConcat.shape)\n",
    "print(TrainingDataConcat.shape)\n",
    "\n",
    "print()\n",
    "# For subtractedFeatures Dataset \n",
    "\n",
    "TrainingTargetSubtract = getTrainingTarget(RawTargetSubtract,TrainingPercent)\n",
    "TrainingDataSubtract   = TrainingDataMatrix(RawDataSubtract,TrainingPercent)\n",
    "print(TrainingTargetSubtract.shape)\n",
    "print(TrainingDataSubtract.shape)"
   ]
  },
  {
   "cell_type": "markdown",
   "metadata": {},
   "source": [
    "# Preparing Validation Data"
   ]
  },
  {
   "cell_type": "code",
   "execution_count": 36,
   "metadata": {},
   "outputs": [
    {
     "name": "stdout",
     "output_type": "stream",
     "text": [
      "(237,)\n",
      "(18, 237)\n",
      "\n",
      "(237,)\n",
      "(9, 237)\n"
     ]
    }
   ],
   "source": [
    "# For concatenatedFeatures Dataset\n",
    "\n",
    "ValidationPercent= 15\n",
    "ValDataActConcat = getValTargetVector(RawTargetConcat,ValidationPercent, (len(TrainingTargetConcat)))\n",
    "ValDataConcat    = ValDataMatrix(RawDataConcat,ValidationPercent, (len(TrainingTargetConcat)))\n",
    "print(ValDataActConcat.shape)\n",
    "print(ValDataConcat.shape)\n",
    "\n",
    "print()\n",
    "# For subtractedFeatures Dataset \n",
    "\n",
    "ValDataActSubtract = getValTargetVector(RawTargetSubtract,ValidationPercent, (len(TrainingTargetSubtract)))\n",
    "ValDataSubtract   = ValDataMatrix(RawDataSubtract,ValidationPercent, (len(TrainingTargetSubtract)))\n",
    "print(ValDataActSubtract.shape)\n",
    "print(ValDataSubtract.shape)"
   ]
  },
  {
   "cell_type": "markdown",
   "metadata": {},
   "source": [
    "# Preparing Test Data"
   ]
  },
  {
   "cell_type": "code",
   "execution_count": 37,
   "metadata": {},
   "outputs": [
    {
     "name": "stdout",
     "output_type": "stream",
     "text": [
      "(236,)\n",
      "(18, 236)\n",
      "\n",
      "(236,)\n",
      "(9, 236)\n"
     ]
    }
   ],
   "source": [
    "# For concatenatedFeatures Dataset\n",
    "\n",
    "TestPercent = 15\n",
    "TestDataActConcat = getValTargetVector(RawTargetConcat,TestPercent, (len(TrainingTargetConcat)+len(ValDataActConcat)))\n",
    "TestDataConcat = ValDataMatrix(RawDataConcat,TestPercent, (len(TrainingTargetConcat)+len(ValDataActConcat)))\n",
    "print(TestDataActConcat.shape)\n",
    "print(TestDataConcat.shape)\n",
    "\n",
    "print()\n",
    "# For subtractedFeatures Dataset \n",
    "\n",
    "TestDataActSubtract = getValTargetVector(RawTargetSubtract,TestPercent, (len(TrainingTargetSubtract)+len(ValDataActSubtract)))\n",
    "TestDataSubtract = ValDataMatrix(RawDataSubtract,TestPercent, (len(TrainingTargetSubtract)+len(ValDataActSubtract)))\n",
    "print(TestDataActSubtract.shape)\n",
    "print(TestDataSubtract.shape)"
   ]
  },
  {
   "cell_type": "code",
   "execution_count": 38,
   "metadata": {},
   "outputs": [
    {
     "data": {
      "text/plain": [
       "Text(0.5, 1.0, 'WCSS Vs. Number of clusters M')"
      ]
     },
     "execution_count": 38,
     "metadata": {},
     "output_type": "execute_result"
    },
    {
     "data": {
      "image/png": "[encoded data removed]",
      "text/plain": [
       "<Figure size 432x288 with 1 Axes>"
      ]
     },
     "metadata": {
      "needs_background": "light"
     },
     "output_type": "display_data"
    }
   ],
   "source": [
    "# For concatenatedFeatures Dataset\n",
    "\n",
    "k_list = [2*M for M in range(1,23)]\n",
    "WCSS = [] # Within cluster sum of square\n",
    "for M in k_list:\n",
    "    kmeans = KMeans(n_clusters=M, random_state=0).fit(np.transpose(TrainingDataConcat))\n",
    "    WCSS.append(kmeans.inertia_)\n",
    "\n",
    "# Elbow Method\n",
    "plt.plot(k_list,WCSS,'o-')\n",
    "plt.xlabel(\"Number of clusters M----->\")\n",
    "plt.ylabel(\"Within cluster sum of square----->\")\n",
    "plt.title(\"WCSS Vs. Number of clusters M\")"
   ]
  },
  {
   "cell_type": "code",
   "execution_count": 39,
   "metadata": {},
   "outputs": [
    {
     "data": {
      "text/plain": [
       "Text(0.5, 1.0, 'WCSS Vs. Number of clusters M')"
      ]
     },
     "execution_count": 39,
     "metadata": {},
     "output_type": "execute_result"
    },
    {
     "data": {
      "image/png": "[encoded data removed]",
      "text/plain": [
       "<Figure size 432x288 with 1 Axes>"
      ]
     },
     "metadata": {
      "needs_background": "light"
     },
     "output_type": "display_data"
    }
   ],
   "source": [
    "# For subtractedFeatures Dataset\n",
    "\n",
    "k_list = [2*M for M in range(1,23)]\n",
    "WCSS = [] # Within cluster sum of square\n",
    "for M in k_list:\n",
    "    kmeans = KMeans(n_clusters=M, random_state=0).fit(np.transpose(TrainingDataSubtract))\n",
    "    WCSS.append(kmeans.inertia_)\n",
    "\n",
    "# Elbow Method\n",
    "plt.plot(k_list,WCSS,'o-')\n",
    "plt.xlabel(\"Number of clusters M----->\")\n",
    "plt.ylabel(\"Within cluster sum of square----->\")\n",
    "plt.title(\"WCSS Vs. Number of clusters M\")"
   ]
  },
  {
   "cell_type": "markdown",
   "metadata": {},
   "source": [
    "# Closed form Solution"
   ]
  },
  {
   "cell_type": "code",
   "execution_count": 40,
   "metadata": {},
   "outputs": [],
   "source": [
    "C_Lambda = 0.3\n",
    "TrainingPercent = 70\n",
    "ValidationPercent = 15\n",
    "TestPercent = 15\n",
    "\n",
    "\n",
    "# For concatenatedFeatures Dataset\n",
    "\n",
    "kmeans = KMeans(n_clusters=9, random_state=0).fit(np.transpose(TrainingDataConcat))\n",
    "\n",
    "Mu_c = kmeans.cluster_centers_\n",
    "BigSigmaConcat      = getBigSigma(RawDataConcat, TrainingPercent)\n",
    "TRAINING_PHI_Concat = getPhiMatrix(RawDataConcat, Mu_c, BigSigmaConcat, TrainingPercent)\n",
    "W_Concat            = getWeightsClosedForm(TRAINING_PHI_Concat,TrainingTargetConcat,(C_Lambda)) \n",
    "TEST_PHI_Concat     = getPhiMatrix(TestDataConcat, Mu_c, BigSigmaConcat,100) \n",
    "VAL_PHI_Concat      = getPhiMatrix(ValDataConcat, Mu_c, BigSigmaConcat,100)\n",
    "\n",
    "\n",
    "# For subtractedFeatures Dataset \n",
    "C_Lambda_ = 2.5\n",
    "kmeans_ = KMeans(n_clusters=7, random_state=0).fit(np.transpose(TrainingDataSubtract))\n",
    "\n",
    "Mu = kmeans_.cluster_centers_\n",
    "BigSigmaSubtract      = getBigSigma(RawDataSubtract, TrainingPercent)\n",
    "TRAINING_PHI_Subtract = getPhiMatrix(RawDataSubtract, Mu, BigSigmaSubtract, TrainingPercent)\n",
    "W_Subtract            = getWeightsClosedForm(TRAINING_PHI_Subtract,TrainingTargetSubtract,(C_Lambda_)) \n",
    "TEST_PHI_Subtract     = getPhiMatrix(TestDataSubtract, Mu, BigSigmaSubtract,100) \n",
    "VAL_PHI_Subtract      = getPhiMatrix(ValDataSubtract, Mu, BigSigmaSubtract,100)"
   ]
  },
  {
   "cell_type": "code",
   "execution_count": 41,
   "metadata": {},
   "outputs": [
    {
     "name": "stdout",
     "output_type": "stream",
     "text": [
      "(9, 18)\n",
      "(18, 18)\n",
      "(1108, 9)\n",
      "(9,)\n",
      "(237, 9)\n",
      "(236, 9)\n",
      "\n",
      "(7, 9)\n",
      "(9, 9)\n",
      "(1108, 7)\n",
      "(7,)\n",
      "(237, 7)\n",
      "(236, 7)\n"
     ]
    }
   ],
   "source": [
    "# For concatenatedFeatures Dataset\n",
    "\n",
    "print(Mu_c.shape)\n",
    "print(BigSigmaConcat.shape)\n",
    "print(TRAINING_PHI_Concat.shape)\n",
    "print(W_Concat.shape)\n",
    "print(VAL_PHI_Concat.shape)\n",
    "print(TEST_PHI_Concat.shape)\n",
    "print()\n",
    "\n",
    "# For subtractedFeatures Dataset \n",
    "\n",
    "print(Mu.shape)\n",
    "print(BigSigmaSubtract.shape)\n",
    "print(TRAINING_PHI_Subtract.shape)\n",
    "print(W_Subtract.shape)\n",
    "print(VAL_PHI_Subtract.shape)\n",
    "print(TEST_PHI_Subtract.shape)"
   ]
  },
  {
   "cell_type": "code",
   "execution_count": 42,
   "metadata": {},
   "outputs": [
    {
     "data": {
      "text/plain": [
       "Text(0.5, 1.0, 'Training Accuracy Vs. Lamda')"
      ]
     },
     "execution_count": 42,
     "metadata": {},
     "output_type": "execute_result"
    },
    {
     "data": {
      "image/png": "[encoded data removed]",
      "text/plain": [
       "<Figure size 432x288 with 1 Axes>"
      ]
     },
     "metadata": {
      "needs_background": "light"
     },
     "output_type": "display_data"
    }
   ],
   "source": [
    "# To choose a value of regularization parameter(Lamda) with COncatenated training set\n",
    "\n",
    "Lamda=[lamda*0.42 for lamda in range(1,21)]\n",
    "Training_Accuracy = []\n",
    "for lamda in Lamda:\n",
    "  Weight = getWeightsClosedForm(TRAINING_PHI_Concat,TrainingTargetConcat,lamda) \n",
    "  TR_TEST_OUT  = getValTest(TRAINING_PHI_Concat,Weight)\n",
    "  TrainingAcc= str(getErms(TR_TEST_OUT,TrainingTargetConcat))\n",
    "  Training_Accuracy.append(float(TrainingAcc.split(',')[0]))\n",
    "plt.plot(Lamda,Training_Accuracy,'ro-')\n",
    "plt.ylabel(\"Training_Accuracy\")\n",
    "plt.xlabel(\"Lamda\")\n",
    "plt.title(\"Training Accuracy Vs. Lamda\")"
   ]
  },
  {
   "cell_type": "code",
   "execution_count": 43,
   "metadata": {},
   "outputs": [
    {
     "data": {
      "text/plain": [
       "Text(0.5, 1.0, 'Training Accuracy Vs. Lamda')"
      ]
     },
     "execution_count": 43,
     "metadata": {},
     "output_type": "execute_result"
    },
    {
     "data": {
      "image/png": "[encoded data removed]",
      "text/plain": [
       "<Figure size 432x288 with 1 Axes>"
      ]
     },
     "metadata": {
      "needs_background": "light"
     },
     "output_type": "display_data"
    }
   ],
   "source": [
    "# To choose a value of regularization parameter(Lamda) with Subtracted training set\n",
    "\n",
    "Lamda=[lamda*0.35 for lamda in range(1,21)]\n",
    "Training_Accuracy = []\n",
    "for lamda in Lamda:\n",
    "  Weight = getWeightsClosedForm(TRAINING_PHI_Subtract,TrainingTargetSubtract,lamda) \n",
    "  TR_TEST_OUT  = getValTest(TRAINING_PHI_Subtract,Weight)\n",
    "  TrainingAcc= str(getErms(TR_TEST_OUT,TrainingTargetSubtract))\n",
    "  Training_Accuracy.append(float(TrainingAcc.split(',')[0]))\n",
    "plt.plot(Lamda,Training_Accuracy,'ro-')\n",
    "plt.ylabel(\"Training_Accuracy\")\n",
    "plt.xlabel(\"Lamda\")\n",
    "plt.title(\"Training Accuracy Vs. Lamda\")"
   ]
  },
  {
   "cell_type": "markdown",
   "metadata": {},
   "source": [
    "# Finding Erms on training, validation and test set"
   ]
  },
  {
   "cell_type": "code",
   "execution_count": 44,
   "metadata": {},
   "outputs": [],
   "source": [
    "# For concatenatedFeatures Dataset\n",
    "\n",
    "TR_TEST_OUT_Concat  = getValTest(TRAINING_PHI_Concat,W_Concat)\n",
    "VAL_TEST_OUT_Concat = getValTest(VAL_PHI_Concat,W_Concat)\n",
    "TEST_OUT_Concat     = getValTest(TEST_PHI_Concat,W_Concat)\n",
    "\n",
    "TrainingAccuracy_Concat   = str(getErms(TR_TEST_OUT_Concat,TrainingTargetConcat))\n",
    "ValidationAccuracy_Concat = str(getErms(VAL_TEST_OUT_Concat,ValDataActConcat))\n",
    "TestAccuracy_Concat       = str(getErms(TEST_OUT_Concat,TestDataActConcat))\n",
    "\n",
    "# For subtractedFeatures Dataset \n",
    "\n",
    "TR_TEST_OUT_Subtract  = getValTest(TRAINING_PHI_Subtract,W_Subtract)\n",
    "VAL_TEST_OUT_Subtract = getValTest(VAL_PHI_Subtract,W_Subtract)\n",
    "TEST_OUT_Subtract     = getValTest(TEST_PHI_Subtract,W_Subtract)\n",
    "\n",
    "TrainingAccuracy_Subtract   = str(getErms(TR_TEST_OUT_Subtract,TrainingTargetSubtract))\n",
    "ValidationAccuracy_Subtract = str(getErms(VAL_TEST_OUT_Subtract,ValDataActSubtract))\n",
    "TestAccuracy_Subtract      = str(getErms(TEST_OUT_Subtract,TestDataActSubtract))"
   ]
  },
  {
   "cell_type": "code",
   "execution_count": 45,
   "metadata": {},
   "outputs": [
    {
     "name": "stdout",
     "output_type": "stream",
     "text": [
      "# Accuracy of concatenatedFeatures Dataset\n",
      "\n",
      "Training accuracy   = 48.285198555956676\n",
      "Validation accuracy = 55.69620253164557\n",
      "Test accuracy       = 52.11864406779661\n",
      "\n",
      "E_rms Training   = 0.7175364992631541\n",
      "E_rms Validation = 0.664637331157303\n",
      "E_rms Testing    = 0.6909647867989732\n",
      "\n",
      "\n",
      "\n",
      "# Accuracy of subtractedFeatures Dataset\n",
      "\n",
      "Training accuracy   = 48.285198555956676\n",
      "Validation accuracy = 55.69620253164557\n",
      "Test accuracy       = 52.54237288135593\n",
      "\n",
      "E_rms Training   = 0.6833191224825383\n",
      "E_rms Validation = 0.6306726936632406\n",
      "E_rms Testing    = 0.6592349507588103\n"
     ]
    }
   ],
   "source": [
    "# For concatenatedFeatures Dataset\n",
    "\n",
    "print(\"# Accuracy of concatenatedFeatures Dataset\\n\")\n",
    "\n",
    "print(\"Training accuracy   = \" + TrainingAccuracy_Concat.split(',')[0])\n",
    "print(\"Validation accuracy = \" +  ValidationAccuracy_Concat.split(',')[0])\n",
    "print(\"Test accuracy       = \" +  TestAccuracy_Concat.split(',')[0]+\"\\n\")\n",
    "\n",
    "print (\"E_rms Training   = \" + str(float(TrainingAccuracy_Concat.split(',')[1])))\n",
    "print (\"E_rms Validation = \" + str(float(ValidationAccuracy_Concat.split(',')[1])))\n",
    "print (\"E_rms Testing    = \" + str(float(TestAccuracy_Concat.split(',')[1]))+\"\\n\\n\\n\")\n",
    "\n",
    "\n",
    "# For subtractedFeatures Dataset \n",
    "\n",
    "print(\"# Accuracy of subtractedFeatures Dataset\\n\")\n",
    "\n",
    "print(\"Training accuracy   = \" + TrainingAccuracy_Subtract.split(',')[0])\n",
    "print(\"Validation accuracy = \" +  ValidationAccuracy_Subtract.split(',')[0])\n",
    "print(\"Test accuracy       = \" +  TestAccuracy_Subtract.split(',')[0]+\"\\n\")\n",
    "\n",
    "print (\"E_rms Training   = \" + str(float(TrainingAccuracy_Subtract.split(',')[1])))\n",
    "print (\"E_rms Validation = \" + str(float(ValidationAccuracy_Subtract.split(',')[1])))\n",
    "print (\"E_rms Testing    = \" + str(float(TestAccuracy_Subtract.split(',')[1])))"
   ]
  },
  {
   "cell_type": "markdown",
   "metadata": {},
   "source": [
    "# Gradient Descent Solution"
   ]
  },
  {
   "cell_type": "code",
   "execution_count": 46,
   "metadata": {},
   "outputs": [],
   "source": [
    "# For Concatenated features dataset\n",
    "\n",
    "W_Now        = np.dot(220, W_Concat) # It intializes with random value\n",
    "La           = 2 # Lamda\n",
    "learningRate = 0.125\n",
    "L_Erms_Val   = []\n",
    "L_Erms_TR    = []\n",
    "L_Erms_Test  = []\n",
    "W_Mat        = []\n",
    "\n",
    "for i in range(0,400):\n",
    "    \n",
    "    #print ('---------Iteration: ' + str(i) + '--------------')\n",
    "    Delta_E_D     = -np.dot((TrainingTargetConcat[i] - np.dot(np.transpose(W_Now),TRAINING_PHI_Concat[i])),TRAINING_PHI_Concat[i])\n",
    "    La_Delta_E_W  = np.dot(La,W_Now)\n",
    "    Delta_E       = np.add(Delta_E_D,La_Delta_E_W)    \n",
    "    Delta_W       = -np.dot(learningRate,Delta_E)\n",
    "    W_T_Next      = W_Now + Delta_W\n",
    "    W_Now         = W_T_Next\n",
    "    \n",
    "    #-----------------TrainingData Accuracy---------------------#\n",
    "    TR_TEST_OUT   = getValTest(TRAINING_PHI_Concat,W_T_Next) \n",
    "    Erms_TR       = getErms(TR_TEST_OUT,TrainingTargetConcat)\n",
    "    L_Erms_TR.append(float(Erms_TR.split(',')[1]))\n",
    "    \n",
    "    #-----------------ValidationData Accuracy---------------------#\n",
    "    VAL_TEST_OUT  = getValTest(VAL_PHI_Concat,W_T_Next) \n",
    "    Erms_Val      = getErms(VAL_TEST_OUT,ValDataActConcat)\n",
    "    L_Erms_Val.append(float(Erms_Val.split(',')[1]))\n",
    "    \n",
    "    #-----------------TestingData Accuracy---------------------#\n",
    "    TEST_OUT      = getValTest(TEST_PHI_Concat,W_T_Next) \n",
    "    Erms_Test = getErms(TEST_OUT,TestDataActConcat)\n",
    "    L_Erms_Test.append(float(Erms_Test.split(',')[1]))"
   ]
  },
  {
   "cell_type": "code",
   "execution_count": 47,
   "metadata": {},
   "outputs": [
    {
     "data": {
      "text/plain": [
       "Text(0.5, 1.0, 'Training_Erms Vs. Learningrate')"
      ]
     },
     "execution_count": 47,
     "metadata": {},
     "output_type": "execute_result"
    },
    {
     "data": {
      "image/png": "[encoded data removed]",
      "text/plain": [
       "<Figure size 432x288 with 1 Axes>"
      ]
     },
     "metadata": {
      "needs_background": "light"
     },
     "output_type": "display_data"
    }
   ],
   "source": [
    "# To find the learning rate for Concatenated features\n",
    "\n",
    "Learningrate = [0.009*i for i in range(1,21)]\n",
    "Training_Erms=[]\n",
    "for l in Learningrate:\n",
    "    \n",
    "    La_Delta_E_W  = np.dot(La,W_Now)\n",
    "    Delta_E       = np.add(Delta_E_D,La_Delta_E_W)    \n",
    "    Delta_W       = -np.dot(l,Delta_E)\n",
    "    W_T_Next      = W_Now + Delta_W\n",
    "    W_Now         = W_T_Next\n",
    "    \n",
    "    TR_TEST_OUT   = getValTest(TRAINING_PHI_Concat,W_T_Next) \n",
    "    Erms_TR       = getErms(TR_TEST_OUT,TrainingTargetConcat)\n",
    "    Training_Erms.append(float(Erms_TR.split(',')[1]))\n",
    "\n",
    "    \n",
    "plt.plot(Learningrate,Training_Erms,'ro-')\n",
    "plt.ylabel(\"Training_Erms\")\n",
    "plt.xlabel(\"Learningrate\")\n",
    "plt.title(\"Training_Erms Vs. Learningrate\")"
   ]
  },
  {
   "cell_type": "code",
   "execution_count": 48,
   "metadata": {},
   "outputs": [
    {
     "name": "stdout",
     "output_type": "stream",
     "text": [
      "----------Gradient Descent Solution for Concatenated features--------------------\n",
      "Accuracy\n",
      "Training accuracy   = 48.285198555956676\n",
      "Validation accuracy = 55.69620253164557\n",
      "Test accuracy       = 52.11864406779661\n",
      "\n",
      "E_rms Training   = 0.71592\n",
      "E_rms Validation = 0.66386\n",
      "E_rms Testing    = 0.69036\n"
     ]
    }
   ],
   "source": [
    "print ('----------Gradient Descent Solution for Concatenated features--------------------')\n",
    "print(\"Accuracy\")\n",
    "print(\"Training accuracy   = \" +TrainingAccuracy_Concat.split(',')[0])\n",
    "print(\"Validation accuracy = \" + ValidationAccuracy_Concat.split(',')[0])\n",
    "print(\"Test accuracy       = \" + TestAccuracy_Concat.split(',')[0]+\"\\n\")\n",
    "print (\"E_rms Training   = \" + str(np.around(min(L_Erms_TR),5)))\n",
    "print (\"E_rms Validation = \" + str(np.around(min(L_Erms_Val),5)))\n",
    "print (\"E_rms Testing    = \" + str(np.around(min(L_Erms_Test),5)))"
   ]
  },
  {
   "cell_type": "code",
   "execution_count": 49,
   "metadata": {},
   "outputs": [],
   "source": [
    "# For Subtracted features dataset\n",
    "\n",
    "W_Now_       = np.dot(220, W_Subtract) # It intializes with random value\n",
    "La           = 2 # Lamda\n",
    "learningRate = 0.01\n",
    "L_Erms_Val   = []\n",
    "L_Erms_TR    = []\n",
    "L_Erms_Test  = []\n",
    "W_Mat        = []\n",
    "\n",
    "for i in range(0,400):\n",
    "    \n",
    "    #print ('---------Iteration: ' + str(i) + '--------------')\n",
    "    Delta_E_D     = -np.dot((TrainingTargetSubtract[i] - np.dot(np.transpose(W_Now_),TRAINING_PHI_Subtract[i])),TRAINING_PHI_Subtract[i])\n",
    "    La_Delta_E_W  = np.dot(La,W_Now_)\n",
    "    Delta_E       = np.add(Delta_E_D,La_Delta_E_W)    \n",
    "    Delta_W       = -np.dot(learningRate,Delta_E)\n",
    "    W_T_Next      = W_Now_ + Delta_W\n",
    "    W_Now_        = W_T_Next\n",
    "    \n",
    "    #-----------------TrainingData Accuracy---------------------#\n",
    "    TR_TEST_OUT   = getValTest(TRAINING_PHI_Subtract,W_T_Next) \n",
    "    Erms_TR       = getErms(TR_TEST_OUT,TrainingTargetSubtract)\n",
    "    L_Erms_TR.append(float(Erms_TR.split(',')[1]))\n",
    "    \n",
    "    #-----------------ValidationData Accuracy---------------------#\n",
    "    VAL_TEST_OUT  = getValTest(VAL_PHI_Subtract,W_T_Next) \n",
    "    Erms_Val      = getErms(VAL_TEST_OUT,ValDataActSubtract)\n",
    "    L_Erms_Val.append(float(Erms_Val.split(',')[1]))\n",
    "    \n",
    "    #-----------------TestingData Accuracy---------------------#\n",
    "    TEST_OUT      = getValTest(TEST_PHI_Subtract,W_T_Next) \n",
    "    Erms_Test = getErms(TEST_OUT,TestDataActSubtract)\n",
    "    L_Erms_Test.append(float(Erms_Test.split(',')[1]))"
   ]
  },
  {
   "cell_type": "code",
   "execution_count": 50,
   "metadata": {},
   "outputs": [
    {
     "data": {
      "text/plain": [
       "Text(0.5, 1.0, 'Training_Erms Vs. Learningrate')"
      ]
     },
     "execution_count": 50,
     "metadata": {},
     "output_type": "execute_result"
    },
    {
     "data": {
      "image/png": "[encoded data removed]",
      "text/plain": [
       "<Figure size 432x288 with 1 Axes>"
      ]
     },
     "metadata": {
      "needs_background": "light"
     },
     "output_type": "display_data"
    }
   ],
   "source": [
    "# To find the learning rate for Subtracted features\n",
    "\n",
    "Learningrate = [0.009*i for i in range(1,19)]\n",
    "Training_Erms=[]\n",
    "for l in Learningrate:\n",
    "    \n",
    "    La_Delta_E_W  = np.dot(La,W_Now_)\n",
    "    Delta_E       = np.add(Delta_E_D,La_Delta_E_W)    \n",
    "    Delta_W       = -np.dot(l,Delta_E)\n",
    "    W_T_Next      = W_Now_ + Delta_W\n",
    "    W_Now         = W_T_Next\n",
    "    \n",
    "    TR_TEST_OUT   = getValTest(TRAINING_PHI_Subtract,W_T_Next) \n",
    "    Erms_TR       = getErms(TR_TEST_OUT,TrainingTargetSubtract)\n",
    "    Training_Erms.append(float(Erms_TR.split(',')[1]))\n",
    "\n",
    "    \n",
    "plt.plot(Learningrate,Training_Erms,'ro-')\n",
    "plt.ylabel(\"Training_Erms\")\n",
    "plt.xlabel(\"Learningrate\")\n",
    "plt.title(\"Training_Erms Vs. Learningrate\")"
   ]
  },
  {
   "cell_type": "code",
   "execution_count": 51,
   "metadata": {},
   "outputs": [
    {
     "name": "stdout",
     "output_type": "stream",
     "text": [
      "----------Gradient Descent Solution for Subtracted features--------------------\n",
      "Accuracy\n",
      "Training accuracy   = 48.285198555956676\n",
      "Validation accuracy = 55.69620253164557\n",
      "Test accuracy       = 52.54237288135593\n",
      "\n",
      "E_rms Training   = 0.67939\n",
      "E_rms Validation = 0.62933\n",
      "E_rms Testing    = 0.6568\n"
     ]
    }
   ],
   "source": [
    "print ('----------Gradient Descent Solution for Subtracted features--------------------')\n",
    "print(\"Accuracy\")\n",
    "print(\"Training accuracy   = \" +TrainingAccuracy_Subtract.split(',')[0])\n",
    "print(\"Validation accuracy = \" + ValidationAccuracy_Subtract.split(',')[0])\n",
    "print(\"Test accuracy       = \" + TestAccuracy_Subtract.split(',')[0]+\"\\n\")\n",
    "print (\"E_rms Training   = \" + str(np.around(min(L_Erms_TR),5)))\n",
    "print (\"E_rms Validation = \" + str(np.around(min(L_Erms_Val),5)))\n",
    "print (\"E_rms Testing    = \" + str(np.around(min(L_Erms_Test),5)))"
   ]
  },
  {
   "cell_type": "markdown",
   "metadata": {},
   "source": [
    "# Logistic Regression"
   ]
  },
  {
   "cell_type": "code",
   "execution_count": 52,
   "metadata": {},
   "outputs": [],
   "source": [
    "# We have our desirable dataset ConcatenaatedFeatures and SubtractedFearures"
   ]
  },
  {
   "cell_type": "code",
   "execution_count": 53,
   "metadata": {},
   "outputs": [
    {
     "name": "stdout",
     "output_type": "stream",
     "text": [
      "(1582, 1)\n"
     ]
    }
   ],
   "source": [
    "# Generating bias column\n",
    "Bias = pd.DataFrame(np.ones((len(ConcatenatedFeatures),1)), columns = ['Bias'])\n",
    "print(Bias.shape)"
   ]
  },
  {
   "cell_type": "code",
   "execution_count": 54,
   "metadata": {},
   "outputs": [
    {
     "name": "stdout",
     "output_type": "stream",
     "text": [
      "(1582, 19)\n"
     ]
    }
   ],
   "source": [
    "# Including bias in ConccatenatedFeatures\n",
    "\n",
    "ConcatenatedFeatures_ = pd.concat([Bias, ConcatenatedFeatures[ConcatenatedFeatures.columns[2:-1]]], axis=1)\n",
    "print(ConcatenatedFeatures_.shape)"
   ]
  },
  {
   "cell_type": "code",
   "execution_count": 55,
   "metadata": {},
   "outputs": [
    {
     "name": "stdout",
     "output_type": "stream",
     "text": [
      "\n",
      "The concatenated features with bias term is \n",
      "\n",
      "    Bias f1 f2 f3 f4 f5 f6 f7 f8 f9 f10 f11 f12 f13 f14 f15 f16 f17 f18\n",
      "0   1.0  3  1  1  2  2  2  1  3  2   1   2   1   3   2   2   0   4   2\n",
      "1   1.0  3  1  1  0  2  1  0  0  2   2   2   1   0   2   2   0   3   2\n",
      "2   1.0  0  1  1  2  2  2  1  0  2   3   1   1   3   0   2   3   3   2\n",
      "3   1.0  2  1  1  0  2  2  0  1  2   3   1   1   0   0   2   0   0   2\n",
      "4   1.0  1  1  1  2  0  1  1  4  1   0   1   2   4   2   2   2   2   2\n"
     ]
    }
   ],
   "source": [
    "print(\"\\nThe concatenated features with bias term is \\n\\n\",ConcatenatedFeatures_.head())"
   ]
  },
  {
   "cell_type": "code",
   "execution_count": 56,
   "metadata": {},
   "outputs": [
    {
     "name": "stdout",
     "output_type": "stream",
     "text": [
      "(1582, 10) \n",
      "\n",
      "The subtracted features with bias term is \n",
      "\n",
      "    Bias f1 f2 f3 f4 f5 f6 f7 f8 f9\n",
      "0   1.0  2  1  0  1  0  0  1  1  0\n",
      "1   1.0  1  1  0  0  0  1  0  3  0\n",
      "2   1.0  3  0  0  1  2  0  2  3  0\n",
      "3   1.0  1  0  0  0  2  0  0  1  0\n",
      "4   1.0  1  0  1  2  2  1  1  2  1\n"
     ]
    }
   ],
   "source": [
    "# Including bias in SubtractedFeatures\n",
    "subtractedFeatures_ = pd.concat([Bias, subtractedFeatures[subtractedFeatures.columns[2:-1]]], axis=1)\n",
    "print(subtractedFeatures_.shape,\"\\n\")\n",
    "print(\"The subtracted features with bias term is \\n\\n\",subtractedFeatures_.head())"
   ]
  },
  {
   "cell_type": "code",
   "execution_count": 57,
   "metadata": {},
   "outputs": [],
   "source": [
    "# For concatenatedfeatures\n",
    "weight = np.zeros(19)  # Bceause 19 is the number of features including bias"
   ]
  },
  {
   "cell_type": "code",
   "execution_count": 58,
   "metadata": {},
   "outputs": [],
   "source": [
    "def sigmoidFunction(inputData, weight):\n",
    "    sigmoid = 1/(np.exp(-1 * np.matmul(inputData, weight)))\n",
    "    return sigmoid"
   ]
  },
  {
   "cell_type": "code",
   "execution_count": 59,
   "metadata": {},
   "outputs": [],
   "source": [
    "def cost_function(m,data,weight,Target):\n",
    "    J = 1/m*(-1*Target.T.dot(np.log(sigmoidFunction(data,weight))) - (1 - Target).T.dot(np.log(1-sigmoidFunction(data,weight))))\n",
    "    return J"
   ]
  },
  {
   "cell_type": "code",
   "execution_count": 60,
   "metadata": {},
   "outputs": [],
   "source": [
    "def gd(m,weight,X, Target, Learningrate): # gd stands for Gradient Descent\n",
    "    cost_functionList = [0]* 500 \n",
    "    for i in tqdm_notebook(range(500)):\n",
    "        weight = weight - (Learningrate/m) * ( X.T.dot((sigmoidFunction(X,weight) - Target)))\n",
    "        cost = cost_function(m,X,weight,Target)\n",
    "        cost_functionList[i] = cost\n",
    "    return weight, cost_functionList"
   ]
  },
  {
   "cell_type": "code",
   "execution_count": 61,
   "metadata": {},
   "outputs": [
    {
     "data": {
      "application/vnd.jupyter.widget-view+json": {
       "model_id": "fe78181b5a0143049907948a9d0412e0",
       "version_major": 2,
       "version_minor": 0
      },
      "text/plain": [
       "HBox(children=(IntProgress(value=0, max=500), HTML(value='')))"
      ]
     },
     "metadata": {},
     "output_type": "display_data"
    },
    {
     "name": "stderr",
     "output_type": "stream",
     "text": [
      "C:\\Users\\abhi\\Anaconda3\\lib\\site-packages\\ipykernel_launcher.py:2: RuntimeWarning: invalid value encountered in log\n",
      "  \n"
     ]
    },
    {
     "name": "stdout",
     "output_type": "stream",
     "text": [
      "\n"
     ]
    }
   ],
   "source": [
    "# For ConcatenatedFeatures training set\n",
    "m = len(ConcatenatedFeatures_) # number of training examples\n",
    "Target_ = ConcatenatedFeatures['target'].values.astype(float)\n",
    "TrainingPercent = int((80/100)*len(Target_))\n",
    "Target = Target_[:TrainingPercent]\n",
    "Learningrate = 0.002\n",
    "X_ = ConcatenatedFeatures_.values.astype(float)\n",
    "concatInput = X_[:TrainingPercent]\n",
    "New_weight_concat, costList_concat = gd(m,weight,concatInput,Target,Learningrate)"
   ]
  },
  {
   "cell_type": "code",
   "execution_count": 62,
   "metadata": {},
   "outputs": [],
   "source": [
    "# For subtractedFeatures\n",
    "\n",
    "weight_subtract = np.zeros(10)  # Bceause 10 is the number of features including bias"
   ]
  },
  {
   "cell_type": "code",
   "execution_count": 63,
   "metadata": {},
   "outputs": [
    {
     "data": {
      "application/vnd.jupyter.widget-view+json": {
       "model_id": "4f7618966e714d749c6033e016e28b1b",
       "version_major": 2,
       "version_minor": 0
      },
      "text/plain": [
       "HBox(children=(IntProgress(value=0, max=500), HTML(value='')))"
      ]
     },
     "metadata": {},
     "output_type": "display_data"
    },
    {
     "name": "stderr",
     "output_type": "stream",
     "text": [
      "C:\\Users\\abhi\\Anaconda3\\lib\\site-packages\\ipykernel_launcher.py:2: RuntimeWarning: invalid value encountered in log\n",
      "  \n"
     ]
    },
    {
     "name": "stdout",
     "output_type": "stream",
     "text": [
      "\n"
     ]
    }
   ],
   "source": [
    "# For subtractedFeatures training set\n",
    "\n",
    "Learningrate_ = 0.05\n",
    "X_subtract = subtractedFeatures_.values.astype(float)\n",
    "subtractInput = X_subtract[:TrainingPercent]\n",
    "New_weight_subtract, costList_subtract = gd(m,weight_subtract,subtractInput,Target,Learningrate_)"
   ]
  },
  {
   "cell_type": "code",
   "execution_count": 64,
   "metadata": {},
   "outputs": [],
   "source": [
    "# For concatenated test set\n",
    "\n",
    "predict_concat = sigmoidFunction(X_[TrainingPercent+1:],New_weight_concat)\n",
    "\n",
    "# For subtracted test set\n",
    "\n",
    "predict_subtract = sigmoidFunction(X_subtract[TrainingPercent+1:],New_weight_subtract)"
   ]
  },
  {
   "cell_type": "code",
   "execution_count": 65,
   "metadata": {},
   "outputs": [],
   "source": [
    "def estimatedOutput(predict,Target):\n",
    "    right = 0\n",
    "    wrong = 0\n",
    "    \n",
    "    for i in range(len(Target)):\n",
    "        if np.around(predict[i]) == Target[i]:\n",
    "            right += 1\n",
    "        else:\n",
    "            wrong +=1\n",
    "    return right, wrong"
   ]
  },
  {
   "cell_type": "code",
   "execution_count": 66,
   "metadata": {
    "scrolled": true
   },
   "outputs": [
    {
     "name": "stdout",
     "output_type": "stream",
     "text": [
      "Accuracy is 82.91139240506328\n",
      "Error is 17.088607594936708\n",
      "\n",
      "Accuracy is 79.74683544303798\n",
      "Error is 20.253164556962027\n"
     ]
    }
   ],
   "source": [
    "# For concatenatedfeatures\n",
    "Target_concat = Target_[TrainingPercent+1:]\n",
    "Right, Wrong = estimatedOutput(predict_concat,Target_concat)\n",
    "print(\"Accuracy is \" + str(Right/len(Target_concat)*100))\n",
    "print(\"Error is \" + str(Wrong/len(Target_concat)*100))\n",
    "\n",
    "\n",
    "print()\n",
    "# For subtractedfeatures\n",
    "\n",
    "Target_subtract = Target_[TrainingPercent+1:]\n",
    "Right, Wrong = estimatedOutput(predict_subtract,Target_subtract)\n",
    "print(\"Accuracy is \" + str(Right/len(Target_subtract)*100))\n",
    "print(\"Error is \" + str(Wrong/len(Target_subtract)*100))"
   ]
  },
  {
   "cell_type": "code",
   "execution_count": 67,
   "metadata": {},
   "outputs": [
    {
     "data": {
      "text/plain": [
       "Text(0.5, 1.0, 'Cost funcion J Vs. Iterations')"
      ]
     },
     "execution_count": 67,
     "metadata": {},
     "output_type": "execute_result"
    },
    {
     "data": {
      "image/png": "[encoded data removed]",
      "text/plain": [
       "<Figure size 432x288 with 1 Axes>"
      ]
     },
     "metadata": {
      "needs_background": "light"
     },
     "output_type": "display_data"
    }
   ],
   "source": [
    "# For Concatenated set\n",
    "\n",
    "Iterations = list(range(500))\n",
    "plt.plot(Iterations,costList_concat,'r-')\n",
    "plt.ylabel(\"Cost funcion Concat ----->\")\n",
    "plt.xlabel(\"Iterations ----->\")\n",
    "plt.title(\"Cost funcion J Vs. Iterations\")"
   ]
  },
  {
   "cell_type": "code",
   "execution_count": 68,
   "metadata": {},
   "outputs": [
    {
     "data": {
      "text/plain": [
       "Text(0.5, 1.0, 'Cost funcion J Vs. Iterations')"
      ]
     },
     "execution_count": 68,
     "metadata": {},
     "output_type": "execute_result"
    },
    {
     "data": {
      "image/png": "[encoded data removed]",
      "text/plain": [
       "<Figure size 432x288 with 1 Axes>"
      ]
     },
     "metadata": {
      "needs_background": "light"
     },
     "output_type": "display_data"
    }
   ],
   "source": [
    "# For Subtracted set\n",
    "\n",
    "Iterations = list(range(500))\n",
    "plt.plot(Iterations,costList_subtract,'r-')\n",
    "plt.ylabel(\"Cost funcion subtract ----->\")\n",
    "plt.xlabel(\"Iterations ----->\")\n",
    "plt.title(\"Cost funcion J Vs. Iterations\")"
   ]
  },
  {
   "cell_type": "markdown",
   "metadata": {},
   "source": [
    "# Artificial Neural Network"
   ]
  },
  {
   "cell_type": "markdown",
   "metadata": {},
   "source": [
    "# Training the Model"
   ]
  },
  {
   "cell_type": "code",
   "execution_count": 69,
   "metadata": {},
   "outputs": [],
   "source": [
    "from sklearn.model_selection import train_test_split"
   ]
  },
  {
   "cell_type": "code",
   "execution_count": 70,
   "metadata": {},
   "outputs": [],
   "source": [
    "# For concatenated set\n",
    "\n",
    "X_train_concat, X_test_concat, y_train_concat, y_test_concat = train_test_split(ConcatenatedFeatures_.values[:,1:], ConcatenatedFeatures['target'].values,test_size =0.2,random_state=0)"
   ]
  },
  {
   "cell_type": "code",
   "execution_count": 71,
   "metadata": {},
   "outputs": [],
   "source": [
    "# For subtracted set\n",
    "\n",
    "X_train_subtract, X_test_subtract, y_train_subtract, y_test_subtract = train_test_split(subtractedFeatures_.values[:,1:], subtractedFeatures['target'].values,test_size =0.2,random_state=0)"
   ]
  },
  {
   "cell_type": "code",
   "execution_count": 72,
   "metadata": {},
   "outputs": [],
   "source": [
    "import keras\n",
    "from keras.models import Sequential\n",
    "from keras.layers import Dense"
   ]
  },
  {
   "cell_type": "code",
   "execution_count": 73,
   "metadata": {},
   "outputs": [],
   "source": [
    "# Initialising the ANN"
   ]
  },
  {
   "cell_type": "code",
   "execution_count": 74,
   "metadata": {},
   "outputs": [],
   "source": [
    "classifier_concat = Sequential()\n",
    "classifier_subtract =Sequential()"
   ]
  },
  {
   "cell_type": "code",
   "execution_count": 75,
   "metadata": {},
   "outputs": [],
   "source": [
    "# Adding the input layer and the first hidden layer"
   ]
  },
  {
   "cell_type": "code",
   "execution_count": 76,
   "metadata": {},
   "outputs": [],
   "source": [
    "# For concatenated dataset\n",
    "\n",
    "classifier_concat.add(Dense(units=64, kernel_initializer='uniform',activation='relu',input_dim=18))\n",
    "\n",
    "# For subtracted dataset\n",
    "\n",
    "classifier_subtract.add(Dense(units=64, kernel_initializer='uniform',activation='relu',input_dim=9))"
   ]
  },
  {
   "cell_type": "code",
   "execution_count": 77,
   "metadata": {},
   "outputs": [],
   "source": [
    "# For concatenated dataset\n",
    "\n",
    "classifier_concat.add(Dense(units=1, kernel_initializer='uniform',activation='sigmoid'))\n",
    "\n",
    "# For subtracted dataset\n",
    "\n",
    "classifier_subtract.add(Dense(units=1, kernel_initializer='uniform',activation='sigmoid'))"
   ]
  },
  {
   "cell_type": "code",
   "execution_count": 78,
   "metadata": {},
   "outputs": [],
   "source": [
    "# Compiling the ANN"
   ]
  },
  {
   "cell_type": "code",
   "execution_count": 79,
   "metadata": {},
   "outputs": [],
   "source": [
    "# For concatenated dataset\n",
    "\n",
    "classifier_concat.compile(optimizer='sgd',loss ='binary_crossentropy', metrics=['accuracy'])\n",
    "\n",
    "# For subtracted dataset\n",
    "\n",
    "classifier_subtract.compile(optimizer='sgd',loss ='binary_crossentropy', metrics=['accuracy'])"
   ]
  },
  {
   "cell_type": "code",
   "execution_count": 80,
   "metadata": {},
   "outputs": [
    {
     "name": "stdout",
     "output_type": "stream",
     "text": [
      "Epoch 1/100\n",
      "1265/1265 [==============================] - ETA: 1:28 - loss: 0.6954 - acc: 0.416 - ETA: 6s - loss: 0.6926 - acc: 0.4848  - ETA: 0s - loss: 0.6911 - acc: 0.514 - 2s 1ms/step - loss: 0.6901 - acc: 0.5241\n",
      "Epoch 2/100\n",
      "1265/1265 [==============================] - ETA: 0s - loss: 0.6890 - acc: 0.458 - ETA: 0s - loss: 0.6851 - acc: 0.742 - 0s 69us/step - loss: 0.6840 - acc: 0.7518\n",
      "Epoch 3/100\n",
      "1265/1265 [==============================] - ETA: 0s - loss: 0.6750 - acc: 0.833 - ETA: 0s - loss: 0.6780 - acc: 0.792 - 0s 64us/step - loss: 0.6762 - acc: 0.7905\n",
      "Epoch 4/100\n",
      "1265/1265 [==============================] - ETA: 0s - loss: 0.6629 - acc: 0.916 - ETA: 0s - loss: 0.6679 - acc: 0.809 - 0s 73us/step - loss: 0.6657 - acc: 0.8198\n",
      "Epoch 5/100\n",
      "1265/1265 [==============================] - ETA: 0s - loss: 0.6487 - acc: 0.958 - ETA: 0s - loss: 0.6549 - acc: 0.838 - 0s 66us/step - loss: 0.6518 - acc: 0.8419\n",
      "Epoch 6/100\n",
      "1265/1265 [==============================] - ETA: 0s - loss: 0.6490 - acc: 0.833 - ETA: 0s - loss: 0.6368 - acc: 0.845 - 0s 70us/step - loss: 0.6332 - acc: 0.8545\n",
      "Epoch 7/100\n",
      "1265/1265 [==============================] - ETA: 0s - loss: 0.6206 - acc: 0.833 - ETA: 0s - loss: 0.6148 - acc: 0.847 - 0s 65us/step - loss: 0.6095 - acc: 0.8427\n",
      "Epoch 8/100\n",
      "1265/1265 [==============================] - ETA: 0s - loss: 0.5539 - acc: 0.958 - ETA: 0s - loss: 0.5889 - acc: 0.847 - 0s 64us/step - loss: 0.5807 - acc: 0.8522\n",
      "Epoch 9/100\n",
      "1265/1265 [==============================] - ETA: 0s - loss: 0.5627 - acc: 0.833 - ETA: 0s - loss: 0.5504 - acc: 0.854 - 0s 70us/step - loss: 0.5480 - acc: 0.8490\n",
      "Epoch 10/100\n",
      "1265/1265 [==============================] - ETA: 0s - loss: 0.5330 - acc: 0.875 - ETA: 0s - loss: 0.5219 - acc: 0.846 - 0s 65us/step - loss: 0.5148 - acc: 0.8506\n",
      "Epoch 11/100\n",
      "1265/1265 [==============================] - ETA: 0s - loss: 0.4787 - acc: 0.916 - ETA: 0s - loss: 0.4938 - acc: 0.845 - 0s 69us/step - loss: 0.4827 - acc: 0.8545\n",
      "Epoch 12/100\n",
      "1265/1265 [==============================] - ETA: 0s - loss: 0.4758 - acc: 0.833 - ETA: 0s - loss: 0.4606 - acc: 0.857 - 0s 65us/step - loss: 0.4532 - acc: 0.8609\n",
      "Epoch 13/100\n",
      "1265/1265 [==============================] - ETA: 0s - loss: 0.4536 - acc: 0.833 - ETA: 0s - loss: 0.4315 - acc: 0.872 - 0s 68us/step - loss: 0.4284 - acc: 0.8672\n",
      "Epoch 14/100\n",
      "1265/1265 [==============================] - ETA: 0s - loss: 0.4618 - acc: 0.875 - ETA: 0s - loss: 0.4172 - acc: 0.868 - 0s 66us/step - loss: 0.4063 - acc: 0.8711\n",
      "Epoch 15/100\n",
      "1265/1265 [==============================] - ETA: 0s - loss: 0.3671 - acc: 0.875 - ETA: 0s - loss: 0.3961 - acc: 0.862 - 0s 67us/step - loss: 0.3877 - acc: 0.8711\n",
      "Epoch 16/100\n",
      "1265/1265 [==============================] - ETA: 0s - loss: 0.4322 - acc: 0.833 - ETA: 0s - loss: 0.3761 - acc: 0.873 - 0s 70us/step - loss: 0.3724 - acc: 0.8759\n",
      "Epoch 17/100\n",
      "1265/1265 [==============================] - ETA: 0s - loss: 0.4406 - acc: 0.875 - ETA: 0s - loss: 0.3564 - acc: 0.881 - 0s 66us/step - loss: 0.3591 - acc: 0.8759\n",
      "Epoch 18/100\n",
      "1265/1265 [==============================] - ETA: 0s - loss: 0.3234 - acc: 0.916 - ETA: 0s - loss: 0.3517 - acc: 0.880 - 0s 70us/step - loss: 0.3476 - acc: 0.8822\n",
      "Epoch 19/100\n",
      "1265/1265 [==============================] - ETA: 0s - loss: 0.2600 - acc: 0.916 - ETA: 0s - loss: 0.3399 - acc: 0.884 - 0s 74us/step - loss: 0.3380 - acc: 0.8814\n",
      "Epoch 20/100\n",
      "1265/1265 [==============================] - ETA: 0s - loss: 0.2686 - acc: 0.916 - ETA: 0s - loss: 0.3291 - acc: 0.890 - 0s 66us/step - loss: 0.3288 - acc: 0.8870\n",
      "Epoch 21/100\n",
      "1265/1265 [==============================] - ETA: 0s - loss: 0.3447 - acc: 0.833 - ETA: 0s - loss: 0.3095 - acc: 0.890 - 0s 66us/step - loss: 0.3211 - acc: 0.8846\n",
      "Epoch 22/100\n",
      "1265/1265 [==============================] - ETA: 0s - loss: 0.3939 - acc: 0.833 - ETA: 0s - loss: 0.3246 - acc: 0.883 - 0s 66us/step - loss: 0.3144 - acc: 0.8917\n",
      "Epoch 23/100\n",
      "1265/1265 [==============================] - ETA: 0s - loss: 0.2524 - acc: 0.875 - ETA: 0s - loss: 0.3147 - acc: 0.885 - 0s 66us/step - loss: 0.3069 - acc: 0.8893\n",
      "Epoch 24/100\n",
      "1265/1265 [==============================] - ETA: 0s - loss: 0.2840 - acc: 0.958 - ETA: 0s - loss: 0.3099 - acc: 0.892 - 0s 67us/step - loss: 0.3014 - acc: 0.8957\n",
      "Epoch 25/100\n",
      "1265/1265 [==============================] - ETA: 0s - loss: 0.2606 - acc: 0.916 - ETA: 0s - loss: 0.3045 - acc: 0.889 - 0s 75us/step - loss: 0.2956 - acc: 0.8957\n",
      "Epoch 26/100\n",
      "1265/1265 [==============================] - ETA: 0s - loss: 0.2839 - acc: 0.875 - ETA: 0s - loss: 0.2901 - acc: 0.899 - 0s 66us/step - loss: 0.2905 - acc: 0.8972\n",
      "Epoch 27/100\n",
      "1265/1265 [==============================] - ETA: 0s - loss: 0.1911 - acc: 0.958 - ETA: 0s - loss: 0.2782 - acc: 0.897 - 0s 64us/step - loss: 0.2856 - acc: 0.8980\n",
      "Epoch 28/100\n",
      "1265/1265 [==============================] - ETA: 0s - loss: 0.2633 - acc: 0.958 - ETA: 0s - loss: 0.3021 - acc: 0.889 - 0s 70us/step - loss: 0.2818 - acc: 0.9012\n",
      "Epoch 29/100\n",
      "1265/1265 [==============================] - ETA: 0s - loss: 0.2573 - acc: 0.916 - ETA: 0s - loss: 0.2876 - acc: 0.899 - 0s 73us/step - loss: 0.2783 - acc: 0.9036\n",
      "Epoch 30/100\n",
      "1265/1265 [==============================] - ETA: 0s - loss: 0.1634 - acc: 0.958 - ETA: 0s - loss: 0.2667 - acc: 0.901 - 0s 65us/step - loss: 0.2738 - acc: 0.9020\n",
      "Epoch 31/100\n",
      "1265/1265 [==============================] - ETA: 0s - loss: 0.1704 - acc: 1.000 - ETA: 0s - loss: 0.2738 - acc: 0.907 - 0s 66us/step - loss: 0.2699 - acc: 0.9067\n",
      "Epoch 32/100\n",
      "1265/1265 [==============================] - ETA: 0s - loss: 0.2863 - acc: 0.875 - ETA: 0s - loss: 0.2812 - acc: 0.904 - 0s 70us/step - loss: 0.2670 - acc: 0.9075\n",
      "Epoch 33/100\n",
      "1265/1265 [==============================] - ETA: 0s - loss: 0.1874 - acc: 0.958 - ETA: 0s - loss: 0.2682 - acc: 0.908 - 0s 67us/step - loss: 0.2629 - acc: 0.9083\n",
      "Epoch 34/100\n",
      "1265/1265 [==============================] - ETA: 0s - loss: 0.2342 - acc: 0.875 - ETA: 0s - loss: 0.2646 - acc: 0.912 - 0s 68us/step - loss: 0.2583 - acc: 0.9138\n",
      "Epoch 35/100\n",
      "1265/1265 [==============================] - ETA: 0s - loss: 0.1524 - acc: 1.000 - ETA: 0s - loss: 0.2533 - acc: 0.907 - 0s 77us/step - loss: 0.2575 - acc: 0.9115\n",
      "Epoch 36/100\n",
      "1265/1265 [==============================] - ETA: 0s - loss: 0.3914 - acc: 0.875 - ETA: 0s - loss: 0.2450 - acc: 0.915 - 0s 66us/step - loss: 0.2538 - acc: 0.9130\n",
      "Epoch 37/100\n",
      "1265/1265 [==============================] - ETA: 0s - loss: 0.1922 - acc: 0.916 - ETA: 0s - loss: 0.2514 - acc: 0.913 - 0s 67us/step - loss: 0.2514 - acc: 0.9138\n",
      "Epoch 38/100\n",
      "1265/1265 [==============================] - ETA: 0s - loss: 0.1640 - acc: 1.000 - ETA: 0s - loss: 0.2257 - acc: 0.927 - 0s 66us/step - loss: 0.2486 - acc: 0.9146\n",
      "Epoch 39/100\n",
      "1265/1265 [==============================] - ETA: 0s - loss: 0.4100 - acc: 0.833 - ETA: 0s - loss: 0.2437 - acc: 0.920 - 0s 68us/step - loss: 0.2456 - acc: 0.9186\n",
      "Epoch 40/100\n",
      "1265/1265 [==============================] - ETA: 0s - loss: 0.3282 - acc: 0.833 - ETA: 0s - loss: 0.2536 - acc: 0.911 - 0s 67us/step - loss: 0.2439 - acc: 0.9170\n",
      "Epoch 41/100\n",
      "1265/1265 [==============================] - ETA: 0s - loss: 0.2527 - acc: 0.916 - ETA: 0s - loss: 0.2387 - acc: 0.919 - 0s 74us/step - loss: 0.2406 - acc: 0.9186\n",
      "Epoch 42/100\n",
      "1265/1265 [==============================] - ETA: 0s - loss: 0.2801 - acc: 0.875 - ETA: 0s - loss: 0.2518 - acc: 0.917 - 0s 64us/step - loss: 0.2388 - acc: 0.9194\n",
      "Epoch 43/100\n",
      "1265/1265 [==============================] - ETA: 0s - loss: 0.1668 - acc: 0.958 - ETA: 0s - loss: 0.2215 - acc: 0.923 - 0s 66us/step - loss: 0.2354 - acc: 0.9186\n",
      "Epoch 44/100\n",
      "1265/1265 [==============================] - ETA: 0s - loss: 0.1261 - acc: 1.000 - ETA: 0s - loss: 0.2478 - acc: 0.916 - 0s 66us/step - loss: 0.2337 - acc: 0.9233\n",
      "Epoch 45/100\n",
      "1265/1265 [==============================] - ETA: 0s - loss: 0.3584 - acc: 0.875 - ETA: 0s - loss: 0.2317 - acc: 0.926 - 0s 61us/step - loss: 0.2306 - acc: 0.9249\n",
      "Epoch 46/100\n",
      "1265/1265 [==============================] - ETA: 0s - loss: 0.2521 - acc: 0.916 - ETA: 0s - loss: 0.2351 - acc: 0.921 - 0s 61us/step - loss: 0.2297 - acc: 0.9217\n",
      "Epoch 47/100\n"
     ]
    },
    {
     "name": "stdout",
     "output_type": "stream",
     "text": [
      "1265/1265 [==============================] - ETA: 0s - loss: 0.2715 - acc: 0.916 - ETA: 0s - loss: 0.2252 - acc: 0.921 - 0s 60us/step - loss: 0.2271 - acc: 0.9249\n",
      "Epoch 48/100\n",
      "1265/1265 [==============================] - ETA: 0s - loss: 0.1645 - acc: 0.958 - ETA: 0s - loss: 0.2209 - acc: 0.919 - 0s 62us/step - loss: 0.2248 - acc: 0.9217\n",
      "Epoch 49/100\n",
      "1265/1265 [==============================] - ETA: 0s - loss: 0.3228 - acc: 0.875 - ETA: 0s - loss: 0.2323 - acc: 0.917 - 0s 62us/step - loss: 0.2228 - acc: 0.9265\n",
      "Epoch 50/100\n",
      "1265/1265 [==============================] - ETA: 0s - loss: 0.2359 - acc: 0.916 - ETA: 0s - loss: 0.2263 - acc: 0.922 - 0s 65us/step - loss: 0.2217 - acc: 0.9257\n",
      "Epoch 51/100\n",
      "1265/1265 [==============================] - ETA: 0s - loss: 0.2071 - acc: 0.916 - ETA: 0s - loss: 0.2181 - acc: 0.923 - 0s 64us/step - loss: 0.2193 - acc: 0.9273\n",
      "Epoch 52/100\n",
      "1265/1265 [==============================] - ETA: 0s - loss: 0.3338 - acc: 0.833 - ETA: 0s - loss: 0.2199 - acc: 0.927 - 0s 64us/step - loss: 0.2174 - acc: 0.9289\n",
      "Epoch 53/100\n",
      "1265/1265 [==============================] - ETA: 0s - loss: 0.2244 - acc: 0.916 - ETA: 0s - loss: 0.2132 - acc: 0.930 - 0s 64us/step - loss: 0.2158 - acc: 0.9304\n",
      "Epoch 54/100\n",
      "1265/1265 [==============================] - ETA: 0s - loss: 0.2381 - acc: 0.916 - ETA: 0s - loss: 0.2201 - acc: 0.927 - 0s 63us/step - loss: 0.2133 - acc: 0.9296\n",
      "Epoch 55/100\n",
      "1265/1265 [==============================] - ETA: 0s - loss: 0.1246 - acc: 1.000 - ETA: 0s - loss: 0.2023 - acc: 0.936 - 0s 64us/step - loss: 0.2108 - acc: 0.9281\n",
      "Epoch 56/100\n",
      "1265/1265 [==============================] - ETA: 0s - loss: 0.1515 - acc: 0.958 - ETA: 0s - loss: 0.2057 - acc: 0.933 - 0s 64us/step - loss: 0.2098 - acc: 0.9296\n",
      "Epoch 57/100\n",
      "1265/1265 [==============================] - ETA: 0s - loss: 0.1777 - acc: 0.958 - ETA: 0s - loss: 0.2088 - acc: 0.929 - 0s 63us/step - loss: 0.2075 - acc: 0.9296\n",
      "Epoch 58/100\n",
      "1265/1265 [==============================] - ETA: 0s - loss: 0.1811 - acc: 0.958 - ETA: 0s - loss: 0.2101 - acc: 0.927 - 0s 63us/step - loss: 0.2065 - acc: 0.9289\n",
      "Epoch 59/100\n",
      "1265/1265 [==============================] - ETA: 0s - loss: 0.0846 - acc: 1.000 - ETA: 0s - loss: 0.1921 - acc: 0.939 - 0s 65us/step - loss: 0.2042 - acc: 0.9320\n",
      "Epoch 60/100\n",
      "1265/1265 [==============================] - ETA: 0s - loss: 0.2600 - acc: 0.958 - ETA: 0s - loss: 0.1983 - acc: 0.936 - 0s 64us/step - loss: 0.2029 - acc: 0.9352\n",
      "Epoch 61/100\n",
      "1265/1265 [==============================] - ETA: 0s - loss: 0.1446 - acc: 0.958 - ETA: 0s - loss: 0.1938 - acc: 0.935 - 0s 64us/step - loss: 0.2012 - acc: 0.9320\n",
      "Epoch 62/100\n",
      "1265/1265 [==============================] - ETA: 0s - loss: 0.2417 - acc: 0.916 - ETA: 0s - loss: 0.2009 - acc: 0.930 - 0s 63us/step - loss: 0.1996 - acc: 0.9336\n",
      "Epoch 63/100\n",
      "1265/1265 [==============================] - ETA: 0s - loss: 0.1508 - acc: 0.958 - ETA: 0s - loss: 0.1950 - acc: 0.936 - 0s 62us/step - loss: 0.1979 - acc: 0.9352\n",
      "Epoch 64/100\n",
      "1265/1265 [==============================] - ETA: 0s - loss: 0.2494 - acc: 0.875 - ETA: 0s - loss: 0.2036 - acc: 0.931 - 0s 66us/step - loss: 0.1960 - acc: 0.9328\n",
      "Epoch 65/100\n",
      "1265/1265 [==============================] - ETA: 0s - loss: 0.2165 - acc: 0.958 - ETA: 0s - loss: 0.2031 - acc: 0.930 - 0s 63us/step - loss: 0.1951 - acc: 0.9360\n",
      "Epoch 66/100\n",
      "1265/1265 [==============================] - ETA: 0s - loss: 0.1996 - acc: 0.916 - ETA: 0s - loss: 0.1941 - acc: 0.932 - 0s 61us/step - loss: 0.1924 - acc: 0.9352\n",
      "Epoch 67/100\n",
      "1265/1265 [==============================] - ETA: 0s - loss: 0.2413 - acc: 0.875 - ETA: 0s - loss: 0.1893 - acc: 0.934 - 0s 60us/step - loss: 0.1909 - acc: 0.9336\n",
      "Epoch 68/100\n",
      "1265/1265 [==============================] - ETA: 0s - loss: 0.1972 - acc: 0.875 - ETA: 0s - loss: 0.1909 - acc: 0.941 - 0s 63us/step - loss: 0.1890 - acc: 0.9391\n",
      "Epoch 69/100\n",
      "1265/1265 [==============================] - ETA: 0s - loss: 0.1552 - acc: 0.958 - ETA: 0s - loss: 0.2011 - acc: 0.932 - 0s 62us/step - loss: 0.1870 - acc: 0.9415\n",
      "Epoch 70/100\n",
      "1265/1265 [==============================] - ETA: 0s - loss: 0.1650 - acc: 0.958 - ETA: 0s - loss: 0.1684 - acc: 0.941 - 0s 62us/step - loss: 0.1864 - acc: 0.9344\n",
      "Epoch 71/100\n",
      "1265/1265 [==============================] - ETA: 0s - loss: 0.1174 - acc: 1.000 - ETA: 0s - loss: 0.1948 - acc: 0.931 - 0s 63us/step - loss: 0.1836 - acc: 0.9399\n",
      "Epoch 72/100\n",
      "1265/1265 [==============================] - ETA: 0s - loss: 0.2259 - acc: 0.916 - ETA: 0s - loss: 0.1901 - acc: 0.938 - 0s 61us/step - loss: 0.1831 - acc: 0.9383\n",
      "Epoch 73/100\n",
      "1265/1265 [==============================] - ETA: 0s - loss: 0.2160 - acc: 0.916 - ETA: 0s - loss: 0.1733 - acc: 0.946 - 0s 62us/step - loss: 0.1804 - acc: 0.9399\n",
      "Epoch 74/100\n",
      "1265/1265 [==============================] - ETA: 0s - loss: 0.2180 - acc: 0.958 - ETA: 0s - loss: 0.1783 - acc: 0.940 - 0s 63us/step - loss: 0.1794 - acc: 0.9391\n",
      "Epoch 75/100\n",
      "1265/1265 [==============================] - ETA: 0s - loss: 0.2786 - acc: 0.875 - ETA: 0s - loss: 0.1764 - acc: 0.937 - 0s 64us/step - loss: 0.1778 - acc: 0.9383\n",
      "Epoch 76/100\n",
      "1265/1265 [==============================] - ETA: 0s - loss: 0.1453 - acc: 0.958 - ETA: 0s - loss: 0.1665 - acc: 0.940 - 0s 78us/step - loss: 0.1770 - acc: 0.9391\n",
      "Epoch 77/100\n",
      "1265/1265 [==============================] - ETA: 0s - loss: 0.1343 - acc: 1.000 - ETA: 0s - loss: 0.1746 - acc: 0.944 - 0s 67us/step - loss: 0.1750 - acc: 0.9399\n",
      "Epoch 78/100\n",
      "1265/1265 [==============================] - ETA: 0s - loss: 0.1050 - acc: 0.958 - ETA: 0s - loss: 0.1727 - acc: 0.942 - 0s 66us/step - loss: 0.1739 - acc: 0.9399\n",
      "Epoch 79/100\n",
      "1265/1265 [==============================] - ETA: 0s - loss: 0.0974 - acc: 1.000 - ETA: 0s - loss: 0.1778 - acc: 0.940 - 0s 66us/step - loss: 0.1717 - acc: 0.9407\n",
      "Epoch 80/100\n",
      "1265/1265 [==============================] - ETA: 0s - loss: 0.0786 - acc: 1.000 - ETA: 0s - loss: 0.1760 - acc: 0.938 - 0s 63us/step - loss: 0.1700 - acc: 0.9407\n",
      "Epoch 81/100\n",
      "1265/1265 [==============================] - ETA: 0s - loss: 0.1048 - acc: 0.958 - ETA: 0s - loss: 0.1543 - acc: 0.947 - 0s 64us/step - loss: 0.1689 - acc: 0.9431\n",
      "Epoch 82/100\n",
      "1265/1265 [==============================] - ETA: 0s - loss: 0.1300 - acc: 0.958 - ETA: 0s - loss: 0.1745 - acc: 0.940 - ETA: 0s - loss: 0.1706 - acc: 0.940 - 0s 91us/step - loss: 0.1677 - acc: 0.9423\n",
      "Epoch 83/100\n",
      "1265/1265 [==============================] - ETA: 0s - loss: 0.1115 - acc: 0.958 - ETA: 0s - loss: 0.1712 - acc: 0.939 - 0s 66us/step - loss: 0.1662 - acc: 0.9439\n",
      "Epoch 84/100\n",
      "1265/1265 [==============================] - ETA: 0s - loss: 0.3125 - acc: 0.875 - ETA: 0s - loss: 0.1672 - acc: 0.943 - 0s 66us/step - loss: 0.1646 - acc: 0.9431\n",
      "Epoch 85/100\n",
      "1265/1265 [==============================] - ETA: 0s - loss: 0.2325 - acc: 0.916 - ETA: 0s - loss: 0.1649 - acc: 0.944 - 0s 67us/step - loss: 0.1630 - acc: 0.9439\n",
      "Epoch 86/100\n",
      "1265/1265 [==============================] - ETA: 0s - loss: 0.1818 - acc: 0.916 - ETA: 0s - loss: 0.1622 - acc: 0.943 - 0s 74us/step - loss: 0.1623 - acc: 0.9447\n",
      "Epoch 87/100\n",
      "1265/1265 [==============================] - ETA: 0s - loss: 0.1390 - acc: 0.958 - ETA: 0s - loss: 0.1561 - acc: 0.947 - 0s 69us/step - loss: 0.1608 - acc: 0.9447\n",
      "Epoch 88/100\n",
      "1265/1265 [==============================] - ETA: 0s - loss: 0.1032 - acc: 1.000 - ETA: 0s - loss: 0.1589 - acc: 0.949 - 0s 67us/step - loss: 0.1590 - acc: 0.9478\n",
      "Epoch 89/100\n",
      "1265/1265 [==============================] - ETA: 0s - loss: 0.1033 - acc: 1.000 - ETA: 0s - loss: 0.1510 - acc: 0.951 - 0s 67us/step - loss: 0.1582 - acc: 0.9455\n",
      "Epoch 90/100\n",
      "1265/1265 [==============================] - ETA: 0s - loss: 0.0770 - acc: 1.000 - ETA: 0s - loss: 0.1595 - acc: 0.944 - 0s 67us/step - loss: 0.1559 - acc: 0.9478\n",
      "Epoch 91/100\n",
      "1265/1265 [==============================] - ETA: 0s - loss: 0.0885 - acc: 1.000 - ETA: 0s - loss: 0.1388 - acc: 0.953 - 0s 63us/step - loss: 0.1547 - acc: 0.9455\n",
      "Epoch 92/100\n",
      "1265/1265 [==============================] - ETA: 0s - loss: 0.3089 - acc: 0.916 - ETA: 0s - loss: 0.1531 - acc: 0.947 - 0s 63us/step - loss: 0.1537 - acc: 0.9462\n",
      "Epoch 93/100\n"
     ]
    },
    {
     "name": "stdout",
     "output_type": "stream",
     "text": [
      "1265/1265 [==============================] - ETA: 0s - loss: 0.1236 - acc: 0.958 - ETA: 0s - loss: 0.1428 - acc: 0.956 - 0s 62us/step - loss: 0.1523 - acc: 0.9486\n",
      "Epoch 94/100\n",
      "1265/1265 [==============================] - ETA: 0s - loss: 0.1043 - acc: 1.000 - ETA: 0s - loss: 0.1444 - acc: 0.950 - 0s 68us/step - loss: 0.1509 - acc: 0.9478\n",
      "Epoch 95/100\n",
      "1265/1265 [==============================] - ETA: 0s - loss: 0.0713 - acc: 1.000 - ETA: 0s - loss: 0.1550 - acc: 0.946 - 0s 69us/step - loss: 0.1501 - acc: 0.9478\n",
      "Epoch 96/100\n",
      "1265/1265 [==============================] - ETA: 0s - loss: 0.1869 - acc: 0.916 - ETA: 0s - loss: 0.1540 - acc: 0.945 - 0s 74us/step - loss: 0.1484 - acc: 0.9494\n",
      "Epoch 97/100\n",
      "1265/1265 [==============================] - ETA: 0s - loss: 0.1339 - acc: 1.000 - ETA: 0s - loss: 0.1329 - acc: 0.953 - 0s 75us/step - loss: 0.1468 - acc: 0.9470\n",
      "Epoch 98/100\n",
      "1265/1265 [==============================] - ETA: 0s - loss: 0.1503 - acc: 0.958 - ETA: 0s - loss: 0.1390 - acc: 0.952 - 0s 75us/step - loss: 0.1458 - acc: 0.9486\n",
      "Epoch 99/100\n",
      "1265/1265 [==============================] - ETA: 0s - loss: 0.1324 - acc: 0.958 - ETA: 0s - loss: 0.1318 - acc: 0.954 - 0s 71us/step - loss: 0.1441 - acc: 0.9534\n",
      "Epoch 100/100\n",
      "1265/1265 [==============================] - ETA: 0s - loss: 0.0965 - acc: 1.000 - ETA: 0s - loss: 0.1299 - acc: 0.959 - 0s 66us/step - loss: 0.1437 - acc: 0.9510\n"
     ]
    },
    {
     "data": {
      "text/plain": [
       "<keras.callbacks.History at 0x8365282e8>"
      ]
     },
     "execution_count": 80,
     "metadata": {},
     "output_type": "execute_result"
    }
   ],
   "source": [
    "# fitting the ANN to the Training set\n",
    "\n",
    "# For concatenated Dataset\n",
    "classifier_concat.fit(X_train_concat,y_train_concat,batch_size=24,epochs=100)"
   ]
  },
  {
   "cell_type": "code",
   "execution_count": 81,
   "metadata": {},
   "outputs": [
    {
     "name": "stdout",
     "output_type": "stream",
     "text": [
      "Epoch 1/100\n",
      "1265/1265 [==============================] - ETA: 10s - loss: 0.6915 - acc: 0.66 - ETA: 0s - loss: 0.6926 - acc: 0.4989 - 0s 221us/step - loss: 0.6924 - acc: 0.5020\n",
      "Epoch 2/100\n",
      "1265/1265 [==============================] - ETA: 0s - loss: 0.6939 - acc: 0.416 - ETA: 0s - loss: 0.6913 - acc: 0.570 - 0s 68us/step - loss: 0.6909 - acc: 0.5534\n",
      "Epoch 3/100\n",
      "1265/1265 [==============================] - ETA: 0s - loss: 0.6866 - acc: 0.708 - ETA: 0s - loss: 0.6899 - acc: 0.493 - 0s 67us/step - loss: 0.6894 - acc: 0.5107\n",
      "Epoch 4/100\n",
      "1265/1265 [==============================] - ETA: 0s - loss: 0.6891 - acc: 0.500 - ETA: 0s - loss: 0.6880 - acc: 0.506 - 0s 67us/step - loss: 0.6875 - acc: 0.5083\n",
      "Epoch 5/100\n",
      "1265/1265 [==============================] - ETA: 0s - loss: 0.6910 - acc: 0.416 - ETA: 0s - loss: 0.6864 - acc: 0.512 - 0s 66us/step - loss: 0.6853 - acc: 0.5225\n",
      "Epoch 6/100\n",
      "1265/1265 [==============================] - ETA: 0s - loss: 0.6784 - acc: 0.625 - ETA: 0s - loss: 0.6831 - acc: 0.510 - 0s 68us/step - loss: 0.6826 - acc: 0.5202\n",
      "Epoch 7/100\n",
      "1265/1265 [==============================] - ETA: 0s - loss: 0.6768 - acc: 0.541 - ETA: 0s - loss: 0.6804 - acc: 0.515 - 0s 64us/step - loss: 0.6794 - acc: 0.5225\n",
      "Epoch 8/100\n",
      "1265/1265 [==============================] - ETA: 0s - loss: 0.6912 - acc: 0.416 - ETA: 0s - loss: 0.6774 - acc: 0.525 - 0s 68us/step - loss: 0.6757 - acc: 0.5281\n",
      "Epoch 9/100\n",
      "1265/1265 [==============================] - ETA: 0s - loss: 0.6800 - acc: 0.458 - ETA: 0s - loss: 0.6718 - acc: 0.536 - 0s 66us/step - loss: 0.6713 - acc: 0.5336\n",
      "Epoch 10/100\n",
      "1265/1265 [==============================] - ETA: 0s - loss: 0.6620 - acc: 0.666 - ETA: 0s - loss: 0.6672 - acc: 0.535 - 0s 70us/step - loss: 0.6664 - acc: 0.5423\n",
      "Epoch 11/100\n",
      "1265/1265 [==============================] - ETA: 0s - loss: 0.6648 - acc: 0.541 - ETA: 0s - loss: 0.6622 - acc: 0.546 - 0s 62us/step - loss: 0.6609 - acc: 0.5534\n",
      "Epoch 12/100\n",
      "1265/1265 [==============================] - ETA: 0s - loss: 0.6583 - acc: 0.500 - ETA: 0s - loss: 0.6582 - acc: 0.541 - 0s 65us/step - loss: 0.6549 - acc: 0.5573\n",
      "Epoch 13/100\n",
      "1265/1265 [==============================] - ETA: 0s - loss: 0.6616 - acc: 0.583 - ETA: 0s - loss: 0.6507 - acc: 0.578 - 0s 64us/step - loss: 0.6485 - acc: 0.5850\n",
      "Epoch 14/100\n",
      "1265/1265 [==============================] - ETA: 0s - loss: 0.5973 - acc: 0.625 - ETA: 0s - loss: 0.6409 - acc: 0.600 - 0s 67us/step - loss: 0.6416 - acc: 0.5929\n",
      "Epoch 15/100\n",
      "1265/1265 [==============================] - ETA: 0s - loss: 0.6208 - acc: 0.666 - ETA: 0s - loss: 0.6330 - acc: 0.621 - 0s 65us/step - loss: 0.6347 - acc: 0.6277\n",
      "Epoch 16/100\n",
      "1265/1265 [==============================] - ETA: 0s - loss: 0.6232 - acc: 0.708 - ETA: 0s - loss: 0.6362 - acc: 0.661 - 0s 66us/step - loss: 0.6270 - acc: 0.6751\n",
      "Epoch 17/100\n",
      "1265/1265 [==============================] - ETA: 0s - loss: 0.5966 - acc: 0.708 - ETA: 0s - loss: 0.6180 - acc: 0.686 - 0s 66us/step - loss: 0.6195 - acc: 0.6838\n",
      "Epoch 18/100\n",
      "1265/1265 [==============================] - ETA: 0s - loss: 0.5733 - acc: 0.708 - ETA: 0s - loss: 0.6172 - acc: 0.675 - 0s 66us/step - loss: 0.6117 - acc: 0.6972\n",
      "Epoch 19/100\n",
      "1265/1265 [==============================] - ETA: 0s - loss: 0.6347 - acc: 0.666 - ETA: 0s - loss: 0.6053 - acc: 0.727 - 0s 67us/step - loss: 0.6039 - acc: 0.7154\n",
      "Epoch 20/100\n",
      "1265/1265 [==============================] - ETA: 0s - loss: 0.5761 - acc: 0.833 - ETA: 0s - loss: 0.5964 - acc: 0.717 - 0s 66us/step - loss: 0.5961 - acc: 0.7233\n",
      "Epoch 21/100\n",
      "1265/1265 [==============================] - ETA: 0s - loss: 0.5810 - acc: 0.666 - ETA: 0s - loss: 0.5877 - acc: 0.725 - 0s 72us/step - loss: 0.5885 - acc: 0.7328\n",
      "Epoch 22/100\n",
      "1265/1265 [==============================] - ETA: 0s - loss: 0.5632 - acc: 0.875 - ETA: 0s - loss: 0.5825 - acc: 0.763 - 0s 71us/step - loss: 0.5807 - acc: 0.7510\n",
      "Epoch 23/100\n",
      "1265/1265 [==============================] - ETA: 0s - loss: 0.6074 - acc: 0.791 - ETA: 0s - loss: 0.5757 - acc: 0.770 - 0s 74us/step - loss: 0.5733 - acc: 0.7494\n",
      "Epoch 24/100\n",
      "1265/1265 [==============================] - ETA: 0s - loss: 0.5485 - acc: 0.791 - ETA: 0s - loss: 0.5697 - acc: 0.751 - 0s 66us/step - loss: 0.5660 - acc: 0.7557\n",
      "Epoch 25/100\n",
      "1265/1265 [==============================] - ETA: 0s - loss: 0.5476 - acc: 0.708 - ETA: 0s - loss: 0.5589 - acc: 0.752 - 0s 65us/step - loss: 0.5588 - acc: 0.7613\n",
      "Epoch 26/100\n",
      "1265/1265 [==============================] - ETA: 0s - loss: 0.5529 - acc: 0.708 - ETA: 0s - loss: 0.5591 - acc: 0.771 - 0s 64us/step - loss: 0.5518 - acc: 0.7660\n",
      "Epoch 27/100\n",
      "1265/1265 [==============================] - ETA: 0s - loss: 0.5761 - acc: 0.708 - ETA: 0s - loss: 0.5537 - acc: 0.748 - 0s 65us/step - loss: 0.5450 - acc: 0.7644\n",
      "Epoch 28/100\n",
      "1265/1265 [==============================] - ETA: 0s - loss: 0.5110 - acc: 0.750 - ETA: 0s - loss: 0.5370 - acc: 0.769 - 0s 60us/step - loss: 0.5383 - acc: 0.7660\n",
      "Epoch 29/100\n",
      "1265/1265 [==============================] - ETA: 0s - loss: 0.5079 - acc: 0.833 - ETA: 0s - loss: 0.5410 - acc: 0.758 - 0s 62us/step - loss: 0.5321 - acc: 0.7684\n",
      "Epoch 30/100\n",
      "1265/1265 [==============================] - ETA: 0s - loss: 0.5539 - acc: 0.750 - ETA: 0s - loss: 0.5272 - acc: 0.760 - 0s 66us/step - loss: 0.5257 - acc: 0.7715\n",
      "Epoch 31/100\n",
      "1265/1265 [==============================] - ETA: 0s - loss: 0.4741 - acc: 0.833 - ETA: 0s - loss: 0.5201 - acc: 0.772 - 0s 62us/step - loss: 0.5197 - acc: 0.7731\n",
      "Epoch 32/100\n",
      "1265/1265 [==============================] - ETA: 0s - loss: 0.4930 - acc: 0.791 - ETA: 0s - loss: 0.5136 - acc: 0.785 - 0s 62us/step - loss: 0.5139 - acc: 0.7747\n",
      "Epoch 33/100\n",
      "1265/1265 [==============================] - ETA: 0s - loss: 0.4751 - acc: 0.791 - ETA: 0s - loss: 0.5103 - acc: 0.783 - 0s 62us/step - loss: 0.5084 - acc: 0.7826\n",
      "Epoch 34/100\n",
      "1265/1265 [==============================] - ETA: 0s - loss: 0.4685 - acc: 0.875 - ETA: 0s - loss: 0.4968 - acc: 0.797 - 0s 61us/step - loss: 0.5030 - acc: 0.7866\n",
      "Epoch 35/100\n",
      "1265/1265 [==============================] - ETA: 0s - loss: 0.5775 - acc: 0.583 - ETA: 0s - loss: 0.4941 - acc: 0.800 - 0s 61us/step - loss: 0.4979 - acc: 0.7960\n",
      "Epoch 36/100\n",
      "1265/1265 [==============================] - ETA: 0s - loss: 0.4451 - acc: 0.875 - ETA: 0s - loss: 0.5009 - acc: 0.792 - 0s 62us/step - loss: 0.4927 - acc: 0.7984\n",
      "Epoch 37/100\n",
      "1265/1265 [==============================] - ETA: 0s - loss: 0.4819 - acc: 0.791 - ETA: 0s - loss: 0.4926 - acc: 0.788 - 0s 62us/step - loss: 0.4880 - acc: 0.7953\n",
      "Epoch 38/100\n",
      "1265/1265 [==============================] - ETA: 0s - loss: 0.4434 - acc: 0.750 - ETA: 0s - loss: 0.4790 - acc: 0.799 - 0s 62us/step - loss: 0.4836 - acc: 0.7960\n",
      "Epoch 39/100\n",
      "1265/1265 [==============================] - ETA: 0s - loss: 0.4749 - acc: 0.833 - ETA: 0s - loss: 0.4861 - acc: 0.793 - 0s 66us/step - loss: 0.4792 - acc: 0.8024\n",
      "Epoch 40/100\n",
      "1265/1265 [==============================] - ETA: 0s - loss: 0.4923 - acc: 0.833 - ETA: 0s - loss: 0.4784 - acc: 0.802 - 0s 66us/step - loss: 0.4749 - acc: 0.8016\n",
      "Epoch 41/100\n",
      "1265/1265 [==============================] - ETA: 0s - loss: 0.4801 - acc: 0.750 - ETA: 0s - loss: 0.4654 - acc: 0.800 - 0s 60us/step - loss: 0.4710 - acc: 0.7968\n",
      "Epoch 42/100\n",
      "1265/1265 [==============================] - ETA: 0s - loss: 0.4510 - acc: 0.833 - ETA: 0s - loss: 0.4575 - acc: 0.806 - 0s 65us/step - loss: 0.4672 - acc: 0.7960\n",
      "Epoch 43/100\n",
      "1265/1265 [==============================] - ETA: 0s - loss: 0.5366 - acc: 0.791 - ETA: 0s - loss: 0.4695 - acc: 0.792 - 0s 69us/step - loss: 0.4634 - acc: 0.7968\n",
      "Epoch 44/100\n",
      "1265/1265 [==============================] - ETA: 0s - loss: 0.4705 - acc: 0.833 - ETA: 0s - loss: 0.4577 - acc: 0.798 - 0s 60us/step - loss: 0.4601 - acc: 0.7960\n",
      "Epoch 45/100\n",
      "1265/1265 [==============================] - ETA: 0s - loss: 0.4359 - acc: 0.875 - ETA: 0s - loss: 0.4497 - acc: 0.806 - 0s 63us/step - loss: 0.4565 - acc: 0.7984\n",
      "Epoch 46/100\n",
      "1265/1265 [==============================] - ETA: 0s - loss: 0.4488 - acc: 0.833 - ETA: 0s - loss: 0.4526 - acc: 0.801 - 0s 63us/step - loss: 0.4534 - acc: 0.8000\n",
      "Epoch 47/100\n"
     ]
    },
    {
     "name": "stdout",
     "output_type": "stream",
     "text": [
      "1265/1265 [==============================] - ETA: 0s - loss: 0.4192 - acc: 0.791 - ETA: 0s - loss: 0.4490 - acc: 0.802 - 0s 65us/step - loss: 0.4504 - acc: 0.8032\n",
      "Epoch 48/100\n",
      "1265/1265 [==============================] - ETA: 0s - loss: 0.4255 - acc: 0.791 - ETA: 0s - loss: 0.4503 - acc: 0.791 - 0s 66us/step - loss: 0.4473 - acc: 0.8024\n",
      "Epoch 49/100\n",
      "1265/1265 [==============================] - ETA: 0s - loss: 0.5040 - acc: 0.666 - ETA: 0s - loss: 0.4557 - acc: 0.800 - 0s 70us/step - loss: 0.4445 - acc: 0.8024\n",
      "Epoch 50/100\n",
      "1265/1265 [==============================] - ETA: 0s - loss: 0.4192 - acc: 0.833 - ETA: 0s - loss: 0.4437 - acc: 0.790 - 0s 74us/step - loss: 0.4421 - acc: 0.8024\n",
      "Epoch 51/100\n",
      "1265/1265 [==============================] - ETA: 0s - loss: 0.4367 - acc: 0.750 - ETA: 0s - loss: 0.4384 - acc: 0.805 - 0s 66us/step - loss: 0.4393 - acc: 0.8032\n",
      "Epoch 52/100\n",
      "1265/1265 [==============================] - ETA: 0s - loss: 0.4863 - acc: 0.791 - ETA: 0s - loss: 0.4441 - acc: 0.802 - 0s 74us/step - loss: 0.4370 - acc: 0.8103\n",
      "Epoch 53/100\n",
      "1265/1265 [==============================] - ETA: 0s - loss: 0.5071 - acc: 0.833 - ETA: 0s - loss: 0.4331 - acc: 0.811 - 0s 71us/step - loss: 0.4350 - acc: 0.8095\n",
      "Epoch 54/100\n",
      "1265/1265 [==============================] - ETA: 0s - loss: 0.4413 - acc: 0.833 - ETA: 0s - loss: 0.4447 - acc: 0.795 - 0s 66us/step - loss: 0.4325 - acc: 0.8103\n",
      "Epoch 55/100\n",
      "1265/1265 [==============================] - ETA: 0s - loss: 0.6065 - acc: 0.666 - ETA: 0s - loss: 0.4332 - acc: 0.815 - 0s 66us/step - loss: 0.4305 - acc: 0.8079\n",
      "Epoch 56/100\n",
      "1265/1265 [==============================] - ETA: 0s - loss: 0.3896 - acc: 0.833 - ETA: 0s - loss: 0.4333 - acc: 0.795 - 0s 66us/step - loss: 0.4285 - acc: 0.8103\n",
      "Epoch 57/100\n",
      "1265/1265 [==============================] - ETA: 0s - loss: 0.3437 - acc: 0.875 - ETA: 0s - loss: 0.4165 - acc: 0.825 - 0s 63us/step - loss: 0.4268 - acc: 0.8119\n",
      "Epoch 58/100\n",
      "1265/1265 [==============================] - ETA: 0s - loss: 0.4267 - acc: 0.708 - ETA: 0s - loss: 0.4315 - acc: 0.814 - 0s 69us/step - loss: 0.4248 - acc: 0.8119\n",
      "Epoch 59/100\n",
      "1265/1265 [==============================] - ETA: 0s - loss: 0.4828 - acc: 0.708 - ETA: 0s - loss: 0.4241 - acc: 0.811 - 0s 66us/step - loss: 0.4233 - acc: 0.8111\n",
      "Epoch 60/100\n",
      "1265/1265 [==============================] - ETA: 0s - loss: 0.5556 - acc: 0.750 - ETA: 0s - loss: 0.4266 - acc: 0.806 - 0s 75us/step - loss: 0.4215 - acc: 0.8150\n",
      "Epoch 61/100\n",
      "1265/1265 [==============================] - ETA: 0s - loss: 0.3760 - acc: 0.916 - ETA: 0s - loss: 0.4202 - acc: 0.816 - 0s 76us/step - loss: 0.4198 - acc: 0.8190\n",
      "Epoch 62/100\n",
      "1265/1265 [==============================] - ETA: 0s - loss: 0.2626 - acc: 0.958 - ETA: 0s - loss: 0.4104 - acc: 0.821 - 0s 67us/step - loss: 0.4181 - acc: 0.8166\n",
      "Epoch 63/100\n",
      "1265/1265 [==============================] - ETA: 0s - loss: 0.4300 - acc: 0.833 - ETA: 0s - loss: 0.4173 - acc: 0.814 - 0s 66us/step - loss: 0.4170 - acc: 0.8158\n",
      "Epoch 64/100\n",
      "1265/1265 [==============================] - ETA: 0s - loss: 0.4129 - acc: 0.833 - ETA: 0s - loss: 0.4265 - acc: 0.807 - 0s 64us/step - loss: 0.4157 - acc: 0.8166\n",
      "Epoch 65/100\n",
      "1265/1265 [==============================] - ETA: 0s - loss: 0.3838 - acc: 0.833 - ETA: 0s - loss: 0.4013 - acc: 0.823 - 0s 66us/step - loss: 0.4142 - acc: 0.8190\n",
      "Epoch 66/100\n",
      "1265/1265 [==============================] - ETA: 0s - loss: 0.4379 - acc: 0.750 - ETA: 0s - loss: 0.3982 - acc: 0.825 - 0s 71us/step - loss: 0.4130 - acc: 0.8166\n",
      "Epoch 67/100\n",
      "1265/1265 [==============================] - ETA: 0s - loss: 0.4581 - acc: 0.750 - ETA: 0s - loss: 0.3990 - acc: 0.828 - 0s 79us/step - loss: 0.4117 - acc: 0.8142\n",
      "Epoch 68/100\n",
      "1265/1265 [==============================] - ETA: 0s - loss: 0.4985 - acc: 0.791 - ETA: 0s - loss: 0.4144 - acc: 0.816 - 0s 64us/step - loss: 0.4107 - acc: 0.8142\n",
      "Epoch 69/100\n",
      "1265/1265 [==============================] - ETA: 0s - loss: 0.4005 - acc: 0.833 - ETA: 0s - loss: 0.4144 - acc: 0.812 - 0s 65us/step - loss: 0.4095 - acc: 0.8150\n",
      "Epoch 70/100\n",
      "1265/1265 [==============================] - ETA: 0s - loss: 0.4609 - acc: 0.791 - ETA: 0s - loss: 0.4093 - acc: 0.819 - 0s 70us/step - loss: 0.4086 - acc: 0.8111\n",
      "Epoch 71/100\n",
      "1265/1265 [==============================] - ETA: 0s - loss: 0.3152 - acc: 0.833 - ETA: 0s - loss: 0.4043 - acc: 0.813 - 0s 61us/step - loss: 0.4073 - acc: 0.8150\n",
      "Epoch 72/100\n",
      "1265/1265 [==============================] - ETA: 0s - loss: 0.3902 - acc: 0.875 - ETA: 0s - loss: 0.4017 - acc: 0.821 - 0s 66us/step - loss: 0.4065 - acc: 0.8182\n",
      "Epoch 73/100\n",
      "1265/1265 [==============================] - ETA: 0s - loss: 0.3534 - acc: 0.875 - ETA: 0s - loss: 0.4199 - acc: 0.800 - 0s 68us/step - loss: 0.4054 - acc: 0.8126\n",
      "Epoch 74/100\n",
      "1265/1265 [==============================] - ETA: 0s - loss: 0.3480 - acc: 0.875 - ETA: 0s - loss: 0.3950 - acc: 0.818 - 0s 66us/step - loss: 0.4046 - acc: 0.8174\n",
      "Epoch 75/100\n",
      "1265/1265 [==============================] - ETA: 0s - loss: 0.5046 - acc: 0.708 - ETA: 0s - loss: 0.4021 - acc: 0.819 - 0s 66us/step - loss: 0.4037 - acc: 0.8174\n",
      "Epoch 76/100\n",
      "1265/1265 [==============================] - ETA: 0s - loss: 0.4399 - acc: 0.791 - ETA: 0s - loss: 0.3911 - acc: 0.832 - 0s 67us/step - loss: 0.4030 - acc: 0.8174\n",
      "Epoch 77/100\n",
      "1265/1265 [==============================] - ETA: 0s - loss: 0.2972 - acc: 0.958 - ETA: 0s - loss: 0.4119 - acc: 0.815 - 0s 71us/step - loss: 0.4027 - acc: 0.8166\n",
      "Epoch 78/100\n",
      "1265/1265 [==============================] - ETA: 0s - loss: 0.5514 - acc: 0.750 - ETA: 0s - loss: 0.4128 - acc: 0.798 - 0s 66us/step - loss: 0.4016 - acc: 0.8182\n",
      "Epoch 79/100\n",
      "1265/1265 [==============================] - ETA: 0s - loss: 0.4982 - acc: 0.708 - ETA: 0s - loss: 0.4072 - acc: 0.814 - 0s 62us/step - loss: 0.4009 - acc: 0.8174\n",
      "Epoch 80/100\n",
      "1265/1265 [==============================] - ETA: 0s - loss: 0.4749 - acc: 0.750 - ETA: 0s - loss: 0.3956 - acc: 0.820 - 0s 66us/step - loss: 0.3996 - acc: 0.8166\n",
      "Epoch 81/100\n",
      "1265/1265 [==============================] - ETA: 0s - loss: 0.4335 - acc: 0.750 - ETA: 0s - loss: 0.4218 - acc: 0.801 - 0s 74us/step - loss: 0.3998 - acc: 0.8166\n",
      "Epoch 82/100\n",
      "1265/1265 [==============================] - ETA: 0s - loss: 0.3512 - acc: 0.833 - ETA: 0s - loss: 0.4013 - acc: 0.814 - 0s 65us/step - loss: 0.3989 - acc: 0.8198\n",
      "Epoch 83/100\n",
      "1265/1265 [==============================] - ETA: 0s - loss: 0.4131 - acc: 0.833 - ETA: 0s - loss: 0.4201 - acc: 0.806 - 0s 66us/step - loss: 0.3981 - acc: 0.8206\n",
      "Epoch 84/100\n",
      "1265/1265 [==============================] - ETA: 0s - loss: 0.6166 - acc: 0.750 - ETA: 0s - loss: 0.4020 - acc: 0.819 - 0s 67us/step - loss: 0.3976 - acc: 0.8198\n",
      "Epoch 85/100\n",
      "1265/1265 [==============================] - ETA: 0s - loss: 0.6491 - acc: 0.625 - ETA: 0s - loss: 0.3848 - acc: 0.839 - 0s 71us/step - loss: 0.3972 - acc: 0.8245\n",
      "Epoch 86/100\n",
      "1265/1265 [==============================] - ETA: 0s - loss: 0.3032 - acc: 0.875 - ETA: 0s - loss: 0.3917 - acc: 0.821 - 0s 65us/step - loss: 0.3967 - acc: 0.8198\n",
      "Epoch 87/100\n",
      "1265/1265 [==============================] - ETA: 0s - loss: 0.3059 - acc: 0.875 - ETA: 0s - loss: 0.3998 - acc: 0.816 - 0s 68us/step - loss: 0.3962 - acc: 0.8221\n",
      "Epoch 88/100\n",
      "1265/1265 [==============================] - ETA: 0s - loss: 0.2794 - acc: 0.916 - ETA: 0s - loss: 0.3986 - acc: 0.821 - 0s 64us/step - loss: 0.3955 - acc: 0.8213\n",
      "Epoch 89/100\n",
      "1265/1265 [==============================] - ETA: 0s - loss: 0.2770 - acc: 0.916 - ETA: 0s - loss: 0.3872 - acc: 0.819 - 0s 65us/step - loss: 0.3952 - acc: 0.8221\n",
      "Epoch 90/100\n",
      "1265/1265 [==============================] - ETA: 0s - loss: 0.2744 - acc: 0.916 - ETA: 0s - loss: 0.4079 - acc: 0.815 - 0s 56us/step - loss: 0.3945 - acc: 0.8237\n",
      "Epoch 91/100\n",
      "1265/1265 [==============================] - ETA: 0s - loss: 0.2508 - acc: 0.916 - ETA: 0s - loss: 0.4023 - acc: 0.813 - 0s 61us/step - loss: 0.3938 - acc: 0.8245\n",
      "Epoch 92/100\n",
      "1265/1265 [==============================] - ETA: 0s - loss: 0.3469 - acc: 0.791 - ETA: 0s - loss: 0.3876 - acc: 0.824 - 0s 57us/step - loss: 0.3937 - acc: 0.8213\n",
      "Epoch 93/100\n"
     ]
    },
    {
     "name": "stdout",
     "output_type": "stream",
     "text": [
      "1265/1265 [==============================] - ETA: 0s - loss: 0.3145 - acc: 0.833 - ETA: 0s - loss: 0.3897 - acc: 0.824 - 0s 57us/step - loss: 0.3928 - acc: 0.8213\n",
      "Epoch 94/100\n",
      "1265/1265 [==============================] - ETA: 0s - loss: 0.3598 - acc: 0.833 - ETA: 0s - loss: 0.3995 - acc: 0.814 - 0s 58us/step - loss: 0.3925 - acc: 0.8213\n",
      "Epoch 95/100\n",
      "1265/1265 [==============================] - ETA: 0s - loss: 0.2384 - acc: 0.958 - ETA: 0s - loss: 0.3957 - acc: 0.819 - 0s 60us/step - loss: 0.3921 - acc: 0.8221\n",
      "Epoch 96/100\n",
      "1265/1265 [==============================] - ETA: 0s - loss: 0.2895 - acc: 0.916 - ETA: 0s - loss: 0.3961 - acc: 0.817 - 0s 62us/step - loss: 0.3918 - acc: 0.8198\n",
      "Epoch 97/100\n",
      "1265/1265 [==============================] - ETA: 0s - loss: 0.3994 - acc: 0.791 - ETA: 0s - loss: 0.3849 - acc: 0.824 - 0s 63us/step - loss: 0.3911 - acc: 0.8221\n",
      "Epoch 98/100\n",
      "1265/1265 [==============================] - ETA: 0s - loss: 0.3508 - acc: 0.833 - ETA: 0s - loss: 0.3806 - acc: 0.825 - 0s 62us/step - loss: 0.3910 - acc: 0.8261\n",
      "Epoch 99/100\n",
      "1265/1265 [==============================] - ETA: 0s - loss: 0.4248 - acc: 0.833 - ETA: 0s - loss: 0.3814 - acc: 0.828 - 0s 71us/step - loss: 0.3906 - acc: 0.8245\n",
      "Epoch 100/100\n",
      "1265/1265 [==============================] - ETA: 0s - loss: 0.2312 - acc: 1.000 - ETA: 0s - loss: 0.3790 - acc: 0.828 - 0s 65us/step - loss: 0.3900 - acc: 0.8245\n"
     ]
    },
    {
     "data": {
      "text/plain": [
       "<keras.callbacks.History at 0x840e4c748>"
      ]
     },
     "execution_count": 81,
     "metadata": {},
     "output_type": "execute_result"
    }
   ],
   "source": [
    "# fitting the ANN to the Training set\n",
    "\n",
    "# For subtracted Dataset\n",
    "classifier_subtract.fit(X_train_subtract,y_train_subtract,batch_size=24,epochs=100)"
   ]
  },
  {
   "cell_type": "code",
   "execution_count": 82,
   "metadata": {},
   "outputs": [],
   "source": [
    "# For concatenated Dataset\n",
    "\n",
    "y_pred_concat = classifier_concat.predict(X_test_concat)\n",
    "\n",
    "# For subtracted Dataset\n",
    "\n",
    "y_pred_subtract = classifier_subtract.predict(X_test_subtract)"
   ]
  },
  {
   "cell_type": "code",
   "execution_count": 83,
   "metadata": {},
   "outputs": [],
   "source": [
    "y_pred_concat = (y_pred_concat > 0.5)\n",
    "y_pred_concat =y_pred_concat.astype(int)\n",
    "y_pred_concat = [y_pred_concat[i][0] for i in range(len(y_pred_subtract))]\n",
    "\n",
    "y_pred_subtract = (y_pred_subtract > 0.5)\n",
    "y_pred_subtract = y_pred_subtract.astype(int)\n",
    "y_pred_subtract = [y_pred_subtract[i][0] for i in range(len(y_pred_subtract))]"
   ]
  },
  {
   "cell_type": "code",
   "execution_count": 84,
   "metadata": {},
   "outputs": [],
   "source": [
    "def evaluation(predict,Target):\n",
    "    right = 0\n",
    "    wrong = 0\n",
    "    \n",
    "    for i in range(len(Target)):\n",
    "        if predict[i] == Target[i]:\n",
    "            right += 1\n",
    "        else:\n",
    "            wrong +=1\n",
    "    return right, wrong"
   ]
  },
  {
   "cell_type": "code",
   "execution_count": 85,
   "metadata": {},
   "outputs": [
    {
     "name": "stdout",
     "output_type": "stream",
     "text": [
      "Accuracy is 95.89905362776025\n",
      "Error is 4.100946372239748\n",
      "\n",
      "Accuracy is 78.86435331230284\n",
      "Error is 21.13564668769716\n"
     ]
    }
   ],
   "source": [
    "# For concatenatedfeatures\n",
    "\n",
    "Right_concat, Wrong_concat = evaluation(y_pred_concat,y_test_concat)\n",
    "print(\"Accuracy is \" + str(Right_concat/len(y_test_concat)*100))\n",
    "print(\"Error is \" + str(Wrong_concat/len(y_test_concat)*100))\n",
    "\n",
    "print()\n",
    "# For subtractedfeatures\n",
    "\n",
    "Right_subtract, Wrong_subtract = evaluation(y_pred_subtract,y_test_subtract)\n",
    "print(\"Accuracy is \" + str(Right_subtract/len(y_test_subtract)*100))\n",
    "print(\"Error is \" + str(Wrong_subtract/len(y_test_subtract)*100))"
   ]
  }
 ],
 "metadata": {
  "kernelspec": {
   "display_name": "Python 3",
   "language": "python",
   "name": "python3"
  },
  "language_info": {
   "codemirror_mode": {
    "name": "ipython",
    "version": 3
   },
   "file_extension": ".py",
   "mimetype": "text/x-python",
   "name": "python",
   "nbconvert_exporter": "python",
   "pygments_lexer": "ipython3",
   "version": "3.5.6"
  }
 },
 "nbformat": 4,
 "nbformat_minor": 2
}
