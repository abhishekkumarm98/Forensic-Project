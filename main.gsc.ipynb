{
 "cells": [
  {
   "cell_type": "code",
   "execution_count": 1,
   "metadata": {},
   "outputs": [],
   "source": [
    "import math\n",
    "import numpy as np\n",
    "import pandas as pd\n",
    "from tqdm import tqdm_notebook\n",
    "from sklearn.cluster import KMeans\n",
    "from matplotlib import pyplot as plt\n",
    "% matplotlib inline"
   ]
  },
  {
   "cell_type": "markdown",
   "metadata": {},
   "source": [
    "# Making feature dataset after concatenation"
   ]
  },
  {
   "cell_type": "code",
   "execution_count": 2,
   "metadata": {},
   "outputs": [],
   "source": [
    "def getDataframe(filepath):\n",
    "    return pd.read_csv(filepath)"
   ]
  },
  {
   "cell_type": "code",
   "execution_count": 3,
   "metadata": {},
   "outputs": [
    {
     "name": "stdout",
     "output_type": "stream",
     "text": [
      "           img_id  f1  f2  f3  f4  f5  f6  f7  f8  f9  ...   f503  f504  f505  \\\n",
      "0  0001a_num1.png   0   0   0   0   0   0   0   0   0  ...      0     0     0   \n",
      "1  0001a_num2.png   0   0   0   0   0   0   0   0   0  ...      0     0     0   \n",
      "2  0001a_num3.png   0   0   0   0   0   0   0   0   0  ...      0     0     0   \n",
      "3  0001a_num4.png   0   0   0   0   0   0   0   0   0  ...      0     0     0   \n",
      "4  0001a_num5.png   0   0   0   0   0   0   0   0   0  ...      0     0     0   \n",
      "\n",
      "   f506  f507  f508  f509  f510  f511  f512  \n",
      "0     0     0     0     0     0     0     0  \n",
      "1     0     0     0     0     0     0     0  \n",
      "2     0     0     0     0     0     0     0  \n",
      "3     0     0     0     0     0     0     0  \n",
      "4     0     0     0     0     0     0     0  \n",
      "\n",
      "[5 rows x 513 columns] \n",
      "\n",
      "(14072, 513)\n"
     ]
    }
   ],
   "source": [
    "# Importing GSC-Features.csv file\n",
    "\n",
    "gscFeaturesData = getDataframe(\"GSC-Features.csv\")\n",
    "print(gscFeaturesData.head(),\"\\n\")\n",
    "print(gscFeaturesData.shape)"
   ]
  },
  {
   "cell_type": "code",
   "execution_count": 4,
   "metadata": {},
   "outputs": [
    {
     "name": "stdout",
     "output_type": "stream",
     "text": [
      "         img_id_A        img_id_B  target\n",
      "0  0001a_num1.png  0001a_num2.png       1\n",
      "1  0001a_num1.png  0001a_num3.png       1\n",
      "2  0001a_num1.png  0001a_num4.png       1\n",
      "3  0001a_num1.png  0001a_num5.png       1\n",
      "4  0001a_num1.png  0001b_num1.png       1 \n",
      "\n",
      "(71531, 3)\n"
     ]
    }
   ],
   "source": [
    "# Importing same_pairs_gsc.csv file\n",
    "\n",
    "samePair = getDataframe(\"same_pairs_gsc.csv\")\n",
    "print(samePair.head(),\"\\n\")\n",
    "print(samePair.shape)"
   ]
  },
  {
   "cell_type": "code",
   "execution_count": 5,
   "metadata": {},
   "outputs": [
    {
     "name": "stdout",
     "output_type": "stream",
     "text": [
      "(12539,)\n",
      "(12539,)\n"
     ]
    }
   ],
   "source": [
    "print(samePair['img_id_A'].unique().shape)  # It tells the number of distinct images in img_id_A column\n",
    "print(samePair['img_id_B'].unique().shape)  # It tells the number of distinct images in img_id_B column\n",
    "\n",
    "# Both columns have 564 distinct images out of 791 images"
   ]
  },
  {
   "cell_type": "code",
   "execution_count": 6,
   "metadata": {},
   "outputs": [
    {
     "name": "stdout",
     "output_type": "stream",
     "text": [
      "         img_id_A        img_id_B  target\n",
      "0  0001a_num1.png  0002a_num1.png       0\n",
      "1  0001a_num1.png  0002a_num2.png       0\n",
      "2  0001a_num1.png  0002a_num3.png       0\n",
      "3  0001a_num1.png  0002a_num4.png       0\n",
      "4  0001a_num1.png  0002b_num1.png       0 \n",
      "\n",
      "(762557, 3)\n"
     ]
    }
   ],
   "source": [
    "# Importing diffn_pairs.csv file\n",
    "\n",
    "diffnPair = getDataframe(\"diffn_pairs_gsc.csv\")\n",
    "print(diffnPair.head(),\"\\n\")\n",
    "print(diffnPair.shape)"
   ]
  },
  {
   "cell_type": "code",
   "execution_count": 7,
   "metadata": {},
   "outputs": [
    {
     "name": "stdout",
     "output_type": "stream",
     "text": [
      "         img_id_A        img_id_B  target\n",
      "0  0001a_num1.png  0001a_num2.png       1\n",
      "1  0001a_num1.png  0001a_num3.png       1\n",
      "2  0001a_num1.png  0001a_num4.png       1\n",
      "3  0001a_num1.png  0001a_num5.png       1\n",
      "4  0001a_num1.png  0001b_num1.png       1 \n",
      "\n",
      "(4000, 3)\n"
     ]
    }
   ],
   "source": [
    "# To make my feature dataset, here I am taking random 2000 samples from diffnPair dataframe so that I can concatenate same pair\n",
    "# and different pair along row axis.\n",
    "\n",
    "gscFeatures = pd.concat([samePair[:2000], diffnPair[:2000]])\n",
    "print(gscFeatures.head(),\"\\n\")  #  We can see in the target column, series of 1's is appearing and then series of 0's\n",
    "print(gscFeatures.shape)"
   ]
  },
  {
   "cell_type": "code",
   "execution_count": 8,
   "metadata": {},
   "outputs": [],
   "source": [
    "gsc = gscFeatures.values\n",
    "np.random.shuffle(gsc)    # I have shuffled here"
   ]
  },
  {
   "cell_type": "code",
   "execution_count": 9,
   "metadata": {},
   "outputs": [
    {
     "name": "stdout",
     "output_type": "stream",
     "text": [
      "Index(['img_id_A', 'img_id_B', 'target'], dtype='object')\n"
     ]
    }
   ],
   "source": [
    "columnIndex = gscFeatures.columns\n",
    "print(columnIndex)"
   ]
  },
  {
   "cell_type": "code",
   "execution_count": 10,
   "metadata": {},
   "outputs": [
    {
     "name": "stdout",
     "output_type": "stream",
     "text": [
      "         img_id_A        img_id_B target\n",
      "0  0003a_num1.png  0011b_num2.png      0\n",
      "1  0030a_num1.png  0030b_num4.png      1\n",
      "2  0038b_num5.png  0038c_num1.png      1\n",
      "3  0008b_num1.png  0008c_num4.png      1\n",
      "4  0005a_num2.png  0005a_num3.png      1\n"
     ]
    }
   ],
   "source": [
    "gscFeatures =  pd.DataFrame(data = gsc,columns=columnIndex)\n",
    "print(gscFeatures.head())"
   ]
  },
  {
   "cell_type": "code",
   "execution_count": 11,
   "metadata": {},
   "outputs": [],
   "source": [
    "# To make gsc dataset after concatenation of features of image_A and image_B, we have to fetch features of image A\n",
    "# and B from \"gscFeaturesData\" dataframe."
   ]
  },
  {
   "cell_type": "code",
   "execution_count": 12,
   "metadata": {},
   "outputs": [],
   "source": [
    "img_id_A = gscFeatures['img_id_A'].values\n",
    "img_id_B = gscFeatures['img_id_B'].values"
   ]
  },
  {
   "cell_type": "code",
   "execution_count": 13,
   "metadata": {},
   "outputs": [
    {
     "name": "stdout",
     "output_type": "stream",
     "text": [
      "                f1  f2  f3  f4  f5  f6  f7  f8  f9  f10  ...   f503  f504  \\\n",
      "img_id                                                   ...                \n",
      "0001a_num1.png   0   0   0   0   0   0   0   0   0    0  ...      0     0   \n",
      "0001a_num2.png   0   0   0   0   0   0   0   0   0    0  ...      0     0   \n",
      "0001a_num3.png   0   0   0   0   0   0   0   0   0    0  ...      0     0   \n",
      "0001a_num4.png   0   0   0   0   0   0   0   0   0    0  ...      0     0   \n",
      "0001a_num5.png   0   0   0   0   0   0   0   0   0    0  ...      0     0   \n",
      "\n",
      "                f505  f506  f507  f508  f509  f510  f511  f512  \n",
      "img_id                                                          \n",
      "0001a_num1.png     0     0     0     0     0     0     0     0  \n",
      "0001a_num2.png     0     0     0     0     0     0     0     0  \n",
      "0001a_num3.png     0     0     0     0     0     0     0     0  \n",
      "0001a_num4.png     0     0     0     0     0     0     0     0  \n",
      "0001a_num5.png     0     0     0     0     0     0     0     0  \n",
      "\n",
      "[5 rows x 512 columns]\n"
     ]
    }
   ],
   "source": [
    "# To fetch the features we have to reset the index gscFeaturesData\n",
    "\n",
    "features = gscFeaturesData.set_index(keys='img_id')\n",
    "print(features.head())"
   ]
  },
  {
   "cell_type": "code",
   "execution_count": 14,
   "metadata": {},
   "outputs": [
    {
     "name": "stdout",
     "output_type": "stream",
     "text": [
      "                f1  f2  f3  f4  f5  f6  f7  f8  f9  f10  ...   f503  f504  \\\n",
      "img_id                                                   ...                \n",
      "0003a_num1.png   0   0   0   0   0   0   0   0   0    0  ...      0     0   \n",
      "0030a_num1.png   0   1   1   0   0   0   0   1   0    0  ...      0     0   \n",
      "0038b_num5.png   0   0   0   0   0   0   0   0   0    0  ...      0     0   \n",
      "0008b_num1.png   0   1   1   0   1   0   0   0   0    0  ...      0     1   \n",
      "0005a_num2.png   0   0   0   0   0   0   0   0   0    0  ...      0     0   \n",
      "\n",
      "                f505  f506  f507  f508  f509  f510  f511  f512  \n",
      "img_id                                                          \n",
      "0003a_num1.png     0     0     0     0     0     0     0     0  \n",
      "0030a_num1.png     0     0     0     0     0     0     0     0  \n",
      "0038b_num5.png     0     0     0     0     0     0     0     0  \n",
      "0008b_num1.png     0     0     0     0     0     0     0     0  \n",
      "0005a_num2.png     0     0     0     0     0     0     0     0  \n",
      "\n",
      "[5 rows x 512 columns] \n",
      "\n",
      "(4000, 512)\n"
     ]
    }
   ],
   "source": [
    "# Fetching Images_A features\n",
    "\n",
    "img_id_A_features = features.loc[img_id_A]\n",
    "print(img_id_A_features.head(),\"\\n\")\n",
    "print(img_id_A_features.shape)"
   ]
  },
  {
   "cell_type": "code",
   "execution_count": 15,
   "metadata": {},
   "outputs": [
    {
     "name": "stdout",
     "output_type": "stream",
     "text": [
      "                f1  f2  f3  f4  f5  f6  f7  f8  f9  f10  ...   f503  f504  \\\n",
      "img_id                                                   ...                \n",
      "0011b_num2.png   0   0   0   0   0   0   0   0   0    0  ...      0     0   \n",
      "0030b_num4.png   0   1   0   0   0   0   0   1   0    0  ...      0     0   \n",
      "0038c_num1.png   0   0   0   0   0   0   0   0   0    0  ...      0     0   \n",
      "0008c_num4.png   0   0   0   0   0   0   0   0   0    0  ...      0     1   \n",
      "0005a_num3.png   0   0   0   0   0   0   0   0   0    0  ...      0     0   \n",
      "\n",
      "                f505  f506  f507  f508  f509  f510  f511  f512  \n",
      "img_id                                                          \n",
      "0011b_num2.png     0     0     0     0     0     0     0     0  \n",
      "0030b_num4.png     0     0     0     0     0     0     0     0  \n",
      "0038c_num1.png     0     0     0     0     0     0     0     0  \n",
      "0008c_num4.png     0     0     0     0     0     0     0     0  \n",
      "0005a_num3.png     0     0     0     0     0     0     0     0  \n",
      "\n",
      "[5 rows x 512 columns] \n",
      "\n",
      "(4000, 512)\n"
     ]
    }
   ],
   "source": [
    "# Fetching Images_B features\n",
    "\n",
    "img_id_B_features = features.loc[img_id_B]\n",
    "print(img_id_B_features.head(),\"\\n\")\n",
    "print(img_id_B_features.shape)"
   ]
  },
  {
   "cell_type": "code",
   "execution_count": 16,
   "metadata": {},
   "outputs": [],
   "source": [
    "imageIds = gscFeatures[['img_id_A', 'img_id_B']].values\n",
    "target = gscFeatures[['target']].values"
   ]
  },
  {
   "cell_type": "code",
   "execution_count": 17,
   "metadata": {},
   "outputs": [],
   "source": [
    "# Absolute difference of image_A features and image_B features\n",
    "subtractedFeatures = np.abs(img_id_A_features.values - img_id_B_features.values)"
   ]
  },
  {
   "cell_type": "code",
   "execution_count": 18,
   "metadata": {},
   "outputs": [],
   "source": [
    "# Concatenating all\n",
    "subtractedFeatures = np.hstack((imageIds, subtractedFeatures, target)) "
   ]
  },
  {
   "cell_type": "code",
   "execution_count": 19,
   "metadata": {},
   "outputs": [],
   "source": [
    "Indexcol = ['img_id_A', 'img_id_B'] + list(img_id_A_features.columns) + ['target']"
   ]
  },
  {
   "cell_type": "code",
   "execution_count": 20,
   "metadata": {},
   "outputs": [
    {
     "name": "stdout",
     "output_type": "stream",
     "text": [
      "         img_id_A        img_id_B f1 f2 f3 f4 f5 f6 f7 f8  ...   f504 f505  \\\n",
      "0  0003a_num1.png  0011b_num2.png  0  0  0  0  0  0  0  0  ...      0    0   \n",
      "1  0030a_num1.png  0030b_num4.png  0  0  1  0  0  0  0  0  ...      0    0   \n",
      "2  0038b_num5.png  0038c_num1.png  0  0  0  0  0  0  0  0  ...      0    0   \n",
      "3  0008b_num1.png  0008c_num4.png  0  1  1  0  1  0  0  0  ...      0    0   \n",
      "4  0005a_num2.png  0005a_num3.png  0  0  0  0  0  0  0  0  ...      0    0   \n",
      "\n",
      "  f506 f507 f508 f509 f510 f511 f512 target  \n",
      "0    0    0    0    0    0    0    0      0  \n",
      "1    0    0    0    0    0    0    0      1  \n",
      "2    0    0    0    0    0    0    0      1  \n",
      "3    0    0    0    0    0    0    0      1  \n",
      "4    0    0    0    0    0    0    0      1  \n",
      "\n",
      "[5 rows x 515 columns]\n",
      "\n",
      " (4000, 515)\n"
     ]
    }
   ],
   "source": [
    "subtractedFeatures = pd.DataFrame(subtractedFeatures, columns = Indexcol)\n",
    "print(subtractedFeatures.head())\n",
    "print(\"\\n\",subtractedFeatures.shape)"
   ]
  },
  {
   "cell_type": "code",
   "execution_count": 21,
   "metadata": {},
   "outputs": [],
   "source": [
    "columnIndex = \"\"\n",
    "\n",
    "for i in range(1,1025):\n",
    "    columnIndex = columnIndex + 'f' + str(i) + ' '"
   ]
  },
  {
   "cell_type": "code",
   "execution_count": 22,
   "metadata": {},
   "outputs": [],
   "source": [
    "ConcatenatedFeatures = np.hstack((imageIds, img_id_A_features.values, img_id_B_features.values, target)) "
   ]
  },
  {
   "cell_type": "code",
   "execution_count": 23,
   "metadata": {
    "scrolled": true
   },
   "outputs": [
    {
     "data": {
      "text/plain": [
       "array([['0003a_num1.png', '0011b_num2.png', 0, ..., 0, 0, 0],\n",
       "       ['0030a_num1.png', '0030b_num4.png', 0, ..., 0, 0, 1],\n",
       "       ['0038b_num5.png', '0038c_num1.png', 0, ..., 0, 0, 1],\n",
       "       ...,\n",
       "       ['0002a_num1.png', '0008b_num4.png', 0, ..., 0, 0, 0],\n",
       "       ['0021c_num1.png', '0021c_num2.png', 0, ..., 0, 0, 1],\n",
       "       ['0002a_num1.png', '0041b_num4.png', 0, ..., 0, 0, 0]],\n",
       "      dtype=object)"
      ]
     },
     "execution_count": 23,
     "metadata": {},
     "output_type": "execute_result"
    }
   ],
   "source": [
    "ConcatenatedFeatures"
   ]
  },
  {
   "cell_type": "code",
   "execution_count": 24,
   "metadata": {},
   "outputs": [],
   "source": [
    "col = ['img_id_A', 'img_id_B']+columnIndex.split() + ['target']  # Index of Columns "
   ]
  },
  {
   "cell_type": "code",
   "execution_count": 25,
   "metadata": {},
   "outputs": [
    {
     "name": "stdout",
     "output_type": "stream",
     "text": [
      "         img_id_A        img_id_B f1 f2 f3 f4 f5 f6 f7 f8  ...   f1016 f1017  \\\n",
      "0  0003a_num1.png  0011b_num2.png  0  0  0  0  0  0  0  0  ...       0     0   \n",
      "1  0030a_num1.png  0030b_num4.png  0  1  1  0  0  0  0  1  ...       0     0   \n",
      "2  0038b_num5.png  0038c_num1.png  0  0  0  0  0  0  0  0  ...       0     0   \n",
      "3  0008b_num1.png  0008c_num4.png  0  1  1  0  1  0  0  0  ...       1     0   \n",
      "4  0005a_num2.png  0005a_num3.png  0  0  0  0  0  0  0  0  ...       0     0   \n",
      "\n",
      "  f1018 f1019 f1020 f1021 f1022 f1023 f1024 target  \n",
      "0     0     0     0     0     0     0     0      0  \n",
      "1     0     0     0     0     0     0     0      1  \n",
      "2     0     0     0     0     0     0     0      1  \n",
      "3     0     0     0     0     0     0     0      1  \n",
      "4     0     0     0     0     0     0     0      1  \n",
      "\n",
      "[5 rows x 1027 columns] \n",
      "\n",
      "(4000, 1027)\n"
     ]
    }
   ],
   "source": [
    "ConcatenatedFeatures = pd.DataFrame(ConcatenatedFeatures, columns = col)\n",
    "print(ConcatenatedFeatures.head(),\"\\n\")\n",
    "print(ConcatenatedFeatures.shape)"
   ]
  },
  {
   "cell_type": "code",
   "execution_count": 26,
   "metadata": {},
   "outputs": [],
   "source": [
    "# Generation of target vector from ConcatenatedFeatures and subtractedFeatures for human observed data and GSC\n",
    "\n",
    "def getTargetVector(file):\n",
    "    targetVec = file['target'].values\n",
    "    return targetVec\n",
    "\n",
    "\n",
    "# Generation of raw data matrix from ConcatenatedFeatures and subtractedFeatures for human observed data and GSC\n",
    "\n",
    "def rawDataMatrix(file):\n",
    "    rawData = file[file.columns].values\n",
    "    return rawData[:,2:len(rawData[0])-1].T"
   ]
  },
  {
   "cell_type": "code",
   "execution_count": 27,
   "metadata": {},
   "outputs": [],
   "source": [
    "# Creating the training target variable(70% of target variable)\n",
    "\n",
    "def getTrainingTarget(rawTraining,TrainingPercent = 70): \n",
    "    TrainingLen = math.ceil(len(rawTraining)*(TrainingPercent*0.01))\n",
    "    t = rawTraining[:TrainingLen]\n",
    "    return t \n",
    "\n",
    "\n",
    "# Making the Training dataMatrix which is 70% of input dataset\n",
    "\n",
    "def TrainingDataMatrix(rawData, TrainingPercent = 70): \n",
    "    T_len = math.ceil(len(rawData[0])*0.01*TrainingPercent)\n",
    "    d2 = rawData[:,0:T_len]\n",
    "    return d2 \n",
    "\n",
    "\n",
    "# Making the Validation target(15% of input dataset)\n",
    "\n",
    "def getValTargetVector(rawData, ValPercent, TrainingCount): \n",
    "    valSize = math.ceil(len(rawData)*ValPercent*0.01)\n",
    "    V_End = TrainingCount + valSize\n",
    "    t =rawData[TrainingCount+1:V_End]\n",
    "    return t\n",
    "\n",
    "\n",
    "# Creating Validation dataMatrix(15% of input dataset)\n",
    "\n",
    "def ValDataMatrix(rawData, ValPercent, TrainingCount): \n",
    "    valSize = math.ceil(len(rawData[0])*ValPercent*0.01)\n",
    "    V_End = TrainingCount + valSize\n",
    "    dataMatrix = rawData[:,TrainingCount+1:V_End]  \n",
    "    return dataMatrix "
   ]
  },
  {
   "cell_type": "code",
   "execution_count": 28,
   "metadata": {},
   "outputs": [],
   "source": [
    "def getBigSigma(Data,TrainingPercent):\n",
    "    BigSigma    = np.zeros((len(Data),len(Data)))\n",
    "    DataT       = np.transpose(Data)\n",
    "    TrainingLen = math.ceil(len(DataT)*(TrainingPercent*0.01))        \n",
    "    varVect     = []\n",
    "    for i in range(0,len(DataT[0])):\n",
    "        vct = []\n",
    "        for j in range(0,TrainingLen):\n",
    "            vct.append(Data[i][j])    \n",
    "        varVect.append(np.var(vct))\n",
    "    \n",
    "    for j in range(len(Data)):\n",
    "        BigSigma[j][j] = varVect[j]+0.2  # BigSigma is getting assigned diagonally by all values of varVect\n",
    "        \n",
    "    \n",
    "    return BigSigma"
   ]
  },
  {
   "cell_type": "code",
   "execution_count": 29,
   "metadata": {},
   "outputs": [],
   "source": [
    "def getScalar(DataRow,Mu, BigSigInv):  \n",
    "    R = np.subtract(DataRow,Mu)\n",
    "    T = np.dot(BigSigInv,np.transpose(R))  \n",
    "    L = np.dot(R,T)\n",
    "    return L\n",
    "\n",
    "def getRadialBasisOut(DataRow,Mu, BigSigInv):    \n",
    "    phi_x = math.exp(-0.5*getScalar(DataRow,Mu,BigSigInv))\n",
    "    return phi_x\n",
    "\n",
    "def getPhiMatrix(Data, Mu, BigSigma, TrainingPercent = 70):\n",
    "    DataT = np.transpose(Data) \n",
    "    TrainingLen = math.ceil(len(DataT)*(TrainingPercent*0.01))        \n",
    "    PHI = np.zeros((TrainingLen,len(Mu))) \n",
    "    BigSigInv = np.linalg.inv(BigSigma) \n",
    "    for  C in range(len(Mu)):\n",
    "        for R in range(TrainingLen):\n",
    "            PHI[R][C] = getRadialBasisOut(DataT[R], Mu[C], BigSigInv)\n",
    "    \n",
    "    return PHI"
   ]
  },
  {
   "cell_type": "code",
   "execution_count": 30,
   "metadata": {},
   "outputs": [],
   "source": [
    "def getWeightsClosedForm(PHI, T, Lambda):\n",
    "    Lambda_I = np.identity(len(PHI[0]))\n",
    "    for i in range(0,len(PHI[0])):\n",
    "        Lambda_I[i][i] = Lambda\n",
    "    PHI_T       = np.transpose(PHI)\n",
    "    PHI_SQR     = np.dot(PHI_T,PHI)\n",
    "    PHI_SQR_LI  = np.add(Lambda_I,PHI_SQR)\n",
    "    PHI_SQR_INV = np.linalg.inv(PHI_SQR_LI)\n",
    "    INTER       = np.dot(PHI_SQR_INV, PHI_T)\n",
    "    W           = np.dot(INTER, T)\n",
    "    return W "
   ]
  },
  {
   "cell_type": "code",
   "execution_count": 31,
   "metadata": {},
   "outputs": [],
   "source": [
    "def getValTest(VAL_PHI,W):\n",
    "    Y = np.dot(W,np.transpose(VAL_PHI))\n",
    "    return Y\n",
    "\n",
    "\n",
    "# rms = root mean square\n",
    "\n",
    "def getErms(VAL_TEST_OUT,ValDataAct): \n",
    "    sum = 0.0\n",
    "    accuracy = 0.0\n",
    "    counter = 0\n",
    "    for i in range (0,len(VAL_TEST_OUT)):\n",
    "        sum = sum + math.pow((ValDataAct[i] - VAL_TEST_OUT[i]),2)\n",
    "        if(int(np.around(VAL_TEST_OUT[i], 0)) == ValDataAct[i]):\n",
    "            counter+=1\n",
    "    accuracy = (float((counter*100))/float(len(VAL_TEST_OUT)))\n",
    "    return (str(accuracy) + ',' +  str(math.sqrt(sum/len(VAL_TEST_OUT))))"
   ]
  },
  {
   "cell_type": "markdown",
   "metadata": {},
   "source": [
    "# Preparing Dataset"
   ]
  },
  {
   "cell_type": "code",
   "execution_count": 32,
   "metadata": {},
   "outputs": [],
   "source": [
    "# For concatenatedFeatures Dataset\n",
    "\n",
    "RawTargetConcat = getTargetVector(ConcatenatedFeatures)\n",
    "RawDataConcat   = rawDataMatrix(ConcatenatedFeatures)\n",
    "\n",
    "\n",
    "# For subtractedFeatures Dataset \n",
    "\n",
    "RawTargetSubtract = getTargetVector(subtractedFeatures)\n",
    "RawDataSubtract   = rawDataMatrix(subtractedFeatures)"
   ]
  },
  {
   "cell_type": "markdown",
   "metadata": {},
   "source": [
    "# Preparing Training Data"
   ]
  },
  {
   "cell_type": "code",
   "execution_count": 33,
   "metadata": {},
   "outputs": [
    {
     "name": "stdout",
     "output_type": "stream",
     "text": [
      "(2801,)\n",
      "(1024, 2800)\n",
      "\n",
      "(2801,)\n",
      "(512, 2800)\n"
     ]
    }
   ],
   "source": [
    "# For concatenatedFeatures Dataset\n",
    "\n",
    "TrainingPercent=70\n",
    "TrainingTargetConcat = getTrainingTarget(RawTargetConcat,TrainingPercent)\n",
    "TrainingDataConcat   = TrainingDataMatrix(RawDataConcat,TrainingPercent)\n",
    "print(TrainingTargetConcat.shape)\n",
    "print(TrainingDataConcat.shape)\n",
    "\n",
    "print()\n",
    "# For subtractedFeatures Dataset \n",
    "\n",
    "TrainingTargetSubtract = getTrainingTarget(RawTargetSubtract,TrainingPercent)\n",
    "TrainingDataSubtract   = TrainingDataMatrix(RawDataSubtract,TrainingPercent)\n",
    "print(TrainingTargetSubtract.shape)\n",
    "print(TrainingDataSubtract.shape)"
   ]
  },
  {
   "cell_type": "markdown",
   "metadata": {},
   "source": [
    "# Preparing Validation Data"
   ]
  },
  {
   "cell_type": "code",
   "execution_count": 34,
   "metadata": {},
   "outputs": [
    {
     "name": "stdout",
     "output_type": "stream",
     "text": [
      "(599,)\n",
      "(1024, 599)\n",
      "\n",
      "(599,)\n",
      "(512, 599)\n"
     ]
    }
   ],
   "source": [
    "# For concatenatedFeatures Dataset\n",
    "\n",
    "ValidationPercent= 15\n",
    "ValDataActConcat = getValTargetVector(RawTargetConcat,ValidationPercent, (len(TrainingTargetConcat)))\n",
    "ValDataConcat    = ValDataMatrix(RawDataConcat,ValidationPercent, (len(TrainingTargetConcat)))\n",
    "print(ValDataActConcat.shape)\n",
    "print(ValDataConcat.shape)\n",
    "\n",
    "print()\n",
    "# For subtractedFeatures Dataset \n",
    "\n",
    "ValDataActSubtract = getValTargetVector(RawTargetSubtract,ValidationPercent, (len(TrainingTargetSubtract)))\n",
    "ValDataSubtract   = ValDataMatrix(RawDataSubtract,ValidationPercent, (len(TrainingTargetSubtract)))\n",
    "print(ValDataActSubtract.shape)\n",
    "print(ValDataSubtract.shape)"
   ]
  },
  {
   "cell_type": "markdown",
   "metadata": {},
   "source": [
    "# Preparing Test Data"
   ]
  },
  {
   "cell_type": "code",
   "execution_count": 35,
   "metadata": {},
   "outputs": [
    {
     "name": "stdout",
     "output_type": "stream",
     "text": [
      "(599,)\n",
      "(1024, 599)\n",
      "\n",
      "(599,)\n",
      "(512, 599)\n"
     ]
    }
   ],
   "source": [
    "# For concatenatedFeatures Dataset\n",
    "\n",
    "TestPercent = 15\n",
    "TestDataActConcat = getValTargetVector(RawTargetConcat,TestPercent, (len(TrainingTargetConcat)+len(ValDataActConcat)))\n",
    "TestDataConcat = ValDataMatrix(RawDataConcat,TestPercent, (len(TrainingTargetConcat)+len(ValDataActConcat)))\n",
    "print(TestDataActConcat.shape)\n",
    "print(TestDataConcat.shape)\n",
    "\n",
    "print()\n",
    "# For subtractedFeatures Dataset \n",
    "\n",
    "TestDataActSubtract = getValTargetVector(RawTargetSubtract,TestPercent, (len(TrainingTargetSubtract)+len(ValDataActSubtract)))\n",
    "TestDataSubtract = ValDataMatrix(RawDataSubtract,TestPercent, (len(TrainingTargetSubtract)+len(ValDataActSubtract)))\n",
    "print(TestDataActSubtract.shape)\n",
    "print(TestDataSubtract.shape)"
   ]
  },
  {
   "cell_type": "code",
   "execution_count": 36,
   "metadata": {},
   "outputs": [
    {
     "data": {
      "application/vnd.jupyter.widget-view+json": {
       "model_id": "1d52d7812a60444e9700c22d41e30b5f",
       "version_major": 2,
       "version_minor": 0
      },
      "text/plain": [
       "HBox(children=(IntProgress(value=0, max=22), HTML(value='')))"
      ]
     },
     "metadata": {},
     "output_type": "display_data"
    },
    {
     "name": "stdout",
     "output_type": "stream",
     "text": [
      "\n"
     ]
    },
    {
     "data": {
      "text/plain": [
       "Text(0.5, 1.0, 'WCSS Vs. Number of clusters M')"
      ]
     },
     "execution_count": 36,
     "metadata": {},
     "output_type": "execute_result"
    },
    {
     "data": {
      "image/png": "[encoded data removed]",
      "text/plain": [
       "<Figure size 432x288 with 1 Axes>"
      ]
     },
     "metadata": {
      "needs_background": "light"
     },
     "output_type": "display_data"
    }
   ],
   "source": [
    "# For concatenatedFeatures Dataset\n",
    "\n",
    "k_list = [2*M for M in range(1,23)]\n",
    "WCSS = [] # Within cluster sum of square\n",
    "for M in tqdm_notebook(k_list):\n",
    "    kmeans = KMeans(n_clusters=M, random_state=0).fit(np.transpose(TrainingDataConcat))\n",
    "    WCSS.append(kmeans.inertia_)\n",
    "\n",
    "# Elbow Method\n",
    "plt.plot(k_list,WCSS,'o-')\n",
    "plt.xlabel(\"Number of clusters M----->\")\n",
    "plt.ylabel(\"Within cluster sum of square----->\")\n",
    "plt.title(\"WCSS Vs. Number of clusters M\")"
   ]
  },
  {
   "cell_type": "code",
   "execution_count": 37,
   "metadata": {},
   "outputs": [
    {
     "data": {
      "application/vnd.jupyter.widget-view+json": {
       "model_id": "807307c821e14776ba45bc334c20c1d9",
       "version_major": 2,
       "version_minor": 0
      },
      "text/plain": [
       "HBox(children=(IntProgress(value=0, max=22), HTML(value='')))"
      ]
     },
     "metadata": {},
     "output_type": "display_data"
    },
    {
     "name": "stdout",
     "output_type": "stream",
     "text": [
      "\n"
     ]
    },
    {
     "data": {
      "text/plain": [
       "Text(0.5, 1.0, 'WCSS Vs. Number of clusters M')"
      ]
     },
     "execution_count": 37,
     "metadata": {},
     "output_type": "execute_result"
    },
    {
     "data": {
      "image/png": "[encoded data removed]",
      "text/plain": [
       "<Figure size 432x288 with 1 Axes>"
      ]
     },
     "metadata": {
      "needs_background": "light"
     },
     "output_type": "display_data"
    }
   ],
   "source": [
    "# For subtractedFeatures Dataset\n",
    "\n",
    "k_list_ = [2*M for M in range(1,23)]\n",
    "WCSS_ = [] # Within cluster sum of square\n",
    "for M in tqdm_notebook(k_list_):\n",
    "    kmeans_ = KMeans(n_clusters=M, random_state=0).fit(np.transpose(TrainingDataSubtract))\n",
    "    WCSS_.append(kmeans_.inertia_)\n",
    "\n",
    "# Elbow Method\n",
    "plt.plot(k_list_,WCSS_,'o-')\n",
    "plt.xlabel(\"Number of clusters M----->\")\n",
    "plt.ylabel(\"Within cluster sum of square----->\")\n",
    "plt.title(\"WCSS Vs. Number of clusters M\")"
   ]
  },
  {
   "cell_type": "markdown",
   "metadata": {},
   "source": [
    "# Closed form Solution"
   ]
  },
  {
   "cell_type": "code",
   "execution_count": 38,
   "metadata": {},
   "outputs": [],
   "source": [
    "C_Lambda = 0.3\n",
    "TrainingPercent = 70\n",
    "ValidationPercent = 15\n",
    "TestPercent = 15\n",
    "\n",
    "\n",
    "# For concatenatedFeatures Dataset\n",
    "\n",
    "kmeans = KMeans(n_clusters=7, random_state=0).fit(np.transpose(TrainingDataConcat))\n",
    "\n",
    "Mu_c = kmeans.cluster_centers_\n",
    "BigSigmaConcat      = getBigSigma(RawDataConcat, TrainingPercent)\n",
    "TRAINING_PHI_Concat = getPhiMatrix(RawDataConcat, Mu_c, BigSigmaConcat, TrainingPercent)\n",
    "W_Concat            = getWeightsClosedForm(TRAINING_PHI_Concat,TrainingTargetConcat,(C_Lambda)) \n",
    "TEST_PHI_Concat     = getPhiMatrix(TestDataConcat, Mu_c, BigSigmaConcat,100) \n",
    "VAL_PHI_Concat      = getPhiMatrix(ValDataConcat, Mu_c, BigSigmaConcat,100)\n",
    "\n",
    "\n",
    "# For subtractedFeatures Dataset \n",
    "\n",
    "kmeans_ = KMeans(n_clusters=14, random_state=0).fit(np.transpose(TrainingDataSubtract))\n",
    "\n",
    "Mu_ = kmeans_.cluster_centers_\n",
    "BigSigmaSubtract      = getBigSigma(RawDataSubtract, TrainingPercent)\n",
    "TRAINING_PHI_Subtract = getPhiMatrix(RawDataSubtract, Mu_, BigSigmaSubtract, TrainingPercent)\n",
    "W_Subtract            = getWeightsClosedForm(TRAINING_PHI_Subtract,TrainingTargetSubtract,(C_Lambda)) \n",
    "TEST_PHI_Subtract     = getPhiMatrix(TestDataSubtract, Mu_, BigSigmaSubtract,100) \n",
    "VAL_PHI_Subtract      = getPhiMatrix(ValDataSubtract, Mu_, BigSigmaSubtract,100)"
   ]
  },
  {
   "cell_type": "code",
   "execution_count": 39,
   "metadata": {},
   "outputs": [
    {
     "name": "stdout",
     "output_type": "stream",
     "text": [
      "(7, 1024)\n",
      "(1024, 1024)\n",
      "(2801, 7)\n",
      "(7,)\n",
      "(599, 7)\n",
      "(599, 7)\n",
      "\n",
      "(14, 512)\n",
      "(512, 512)\n",
      "(2801, 14)\n",
      "(14,)\n",
      "(599, 14)\n",
      "(599, 14)\n"
     ]
    }
   ],
   "source": [
    "# For concatenatedFeatures Dataset\n",
    "\n",
    "print(Mu_c.shape)\n",
    "print(BigSigmaConcat.shape)\n",
    "print(TRAINING_PHI_Concat.shape)\n",
    "print(W_Concat.shape)\n",
    "print(VAL_PHI_Concat.shape)\n",
    "print(TEST_PHI_Concat.shape)\n",
    "print()\n",
    "\n",
    "# For subtractedFeatures Dataset \n",
    "\n",
    "print(Mu_.shape)\n",
    "print(BigSigmaSubtract.shape)\n",
    "print(TRAINING_PHI_Subtract.shape)\n",
    "print(W_Subtract.shape)\n",
    "print(VAL_PHI_Subtract.shape)\n",
    "print(TEST_PHI_Subtract.shape)"
   ]
  },
  {
   "cell_type": "code",
   "execution_count": 40,
   "metadata": {},
   "outputs": [
    {
     "data": {
      "text/plain": [
       "Text(0.5, 1.0, 'Training Accuracy Vs. Lamda')"
      ]
     },
     "execution_count": 40,
     "metadata": {},
     "output_type": "execute_result"
    },
    {
     "data": {
      "image/png": "[encoded data removed]",
      "text/plain": [
       "<Figure size 432x288 with 1 Axes>"
      ]
     },
     "metadata": {
      "needs_background": "light"
     },
     "output_type": "display_data"
    }
   ],
   "source": [
    "# To choose a value of regularization parameter(Lamda) with COncatenated training set\n",
    "\n",
    "Lamda=[lamda*0.42 for lamda in range(1,21)]\n",
    "Training_Accuracy = []\n",
    "for lamda in Lamda:\n",
    "  Weight = getWeightsClosedForm(TRAINING_PHI_Concat,TrainingTargetConcat,lamda) \n",
    "  TR_TEST_OUT  = getValTest(TRAINING_PHI_Concat,Weight)\n",
    "  TrainingAcc= str(getErms(TR_TEST_OUT,TrainingTargetConcat))\n",
    "  Training_Accuracy.append(float(TrainingAcc.split(',')[0]))\n",
    "plt.plot(Lamda,Training_Accuracy,'ro-')\n",
    "plt.ylabel(\"Training_Accuracy\")\n",
    "plt.xlabel(\"Lamda\")\n",
    "plt.title(\"Training Accuracy Vs. Lamda\")"
   ]
  },
  {
   "cell_type": "code",
   "execution_count": 41,
   "metadata": {},
   "outputs": [
    {
     "data": {
      "text/plain": [
       "Text(0.5, 1.0, 'Training Accuracy Vs. Lamda')"
      ]
     },
     "execution_count": 41,
     "metadata": {},
     "output_type": "execute_result"
    },
    {
     "data": {
      "image/png": "[encoded data removed]",
      "text/plain": [
       "<Figure size 432x288 with 1 Axes>"
      ]
     },
     "metadata": {
      "needs_background": "light"
     },
     "output_type": "display_data"
    }
   ],
   "source": [
    "# To choose a value of regularization parameter(Lamda) with Subtracted training set\n",
    "\n",
    "Lamda=[lamda*0.35 for lamda in range(1,21)]\n",
    "Training_Accuracy = []\n",
    "for lamda in Lamda:\n",
    "  Weight = getWeightsClosedForm(TRAINING_PHI_Subtract,TrainingTargetSubtract,lamda) \n",
    "  TR_TEST_OUT  = getValTest(TRAINING_PHI_Subtract,Weight)\n",
    "  TrainingAcc= str(getErms(TR_TEST_OUT,TrainingTargetSubtract))\n",
    "  Training_Accuracy.append(float(TrainingAcc.split(',')[0]))\n",
    "plt.plot(Lamda,Training_Accuracy,'ro-')\n",
    "plt.ylabel(\"Training_Accuracy\")\n",
    "plt.xlabel(\"Lamda\")\n",
    "plt.title(\"Training Accuracy Vs. Lamda\")"
   ]
  },
  {
   "cell_type": "markdown",
   "metadata": {},
   "source": [
    "# Finding Erms on training, validation and test set"
   ]
  },
  {
   "cell_type": "code",
   "execution_count": 54,
   "metadata": {},
   "outputs": [],
   "source": [
    "# For concatenatedFeatures Dataset\n",
    "\n",
    "TR_TEST_OUT_Concat  = getValTest(TRAINING_PHI_Concat,W_Concat)\n",
    "VAL_TEST_OUT_Concat = getValTest(VAL_PHI_Concat,W_Concat)\n",
    "TEST_OUT_Concat     = getValTest(TEST_PHI_Concat,W_Concat)\n",
    "\n",
    "TrainingAccuracy_Concat   = str(getErms(TR_TEST_OUT_Concat,TrainingTargetConcat))\n",
    "ValidationAccuracy_Concat = str(getErms(VAL_TEST_OUT_Concat,ValDataActConcat))\n",
    "TestAccuracy_Concat       = str(getErms(TEST_OUT_Concat,TestDataActConcat))\n",
    "\n",
    "# For subtractedFeatures Dataset \n",
    "\n",
    "TR_TEST_OUT_Subtract  = getValTest(TRAINING_PHI_Subtract,W_Subtract)\n",
    "VAL_TEST_OUT_Subtract = getValTest(VAL_PHI_Subtract,W_Subtract)\n",
    "TEST_OUT_Subtract     = getValTest(TEST_PHI_Subtract,W_Subtract)\n",
    "\n",
    "TrainingAccuracy_Subtract   = str(getErms(TR_TEST_OUT_Subtract,TrainingTargetSubtract))\n",
    "ValidationAccuracy_Subtract = str(getErms(VAL_TEST_OUT_Subtract,ValDataActSubtract))\n",
    "TestAccuracy_Subtract      = str(getErms(TEST_OUT_Subtract,TestDataActSubtract))"
   ]
  },
  {
   "cell_type": "code",
   "execution_count": 55,
   "metadata": {},
   "outputs": [
    {
     "name": "stdout",
     "output_type": "stream",
     "text": [
      "# Accuracy of concatenatedFeatures Dataset\n",
      "\n",
      "Training accuracy   = 49.553730810424845\n",
      "Validation accuracy = 52.75459098497496\n",
      "Test accuracy       = 49.41569282136895\n",
      "\n",
      "E_rms Training   = 0.7102553709024322\n",
      "E_rms Validation = 0.6873529589303086\n",
      "E_rms Testing    = 0.7112264560506102\n",
      "\n",
      "\n",
      "\n",
      "# Accuracy of subtractedFeatures Dataset\n",
      "\n",
      "Training accuracy   = 49.553730810424845\n",
      "Validation accuracy = 52.75459098497496\n",
      "Test accuracy       = 49.41569282136895\n",
      "\n",
      "E_rms Training   = 0.7102553709024322\n",
      "E_rms Validation = 0.6873529589303086\n",
      "E_rms Testing    = 0.7112264560506102\n"
     ]
    }
   ],
   "source": [
    "# For concatenatedFeatures Dataset\n",
    "\n",
    "print(\"# Accuracy of concatenatedFeatures Dataset\\n\")\n",
    "\n",
    "print(\"Training accuracy   = \" + TrainingAccuracy_Concat.split(',')[0])\n",
    "print(\"Validation accuracy = \" +  ValidationAccuracy_Concat.split(',')[0])\n",
    "print(\"Test accuracy       = \" +  TestAccuracy_Concat.split(',')[0]+\"\\n\")\n",
    "\n",
    "print (\"E_rms Training   = \" + str(float(TrainingAccuracy_Concat.split(',')[1])))\n",
    "print (\"E_rms Validation = \" + str(float(ValidationAccuracy_Concat.split(',')[1])))\n",
    "print (\"E_rms Testing    = \" + str(float(TestAccuracy_Concat.split(',')[1]))+\"\\n\\n\\n\")\n",
    "\n",
    "\n",
    "# For subtractedFeatures Dataset \n",
    "\n",
    "print(\"# Accuracy of subtractedFeatures Dataset\\n\")\n",
    "\n",
    "print(\"Training accuracy   = \" + TrainingAccuracy_Subtract.split(',')[0])\n",
    "print(\"Validation accuracy = \" +  ValidationAccuracy_Subtract.split(',')[0])\n",
    "print(\"Test accuracy       = \" +  TestAccuracy_Subtract.split(',')[0]+\"\\n\")\n",
    "\n",
    "print (\"E_rms Training   = \" + str(float(TrainingAccuracy_Subtract.split(',')[1])))\n",
    "print (\"E_rms Validation = \" + str(float(ValidationAccuracy_Subtract.split(',')[1])))\n",
    "print (\"E_rms Testing    = \" + str(float(TestAccuracy_Subtract.split(',')[1])))"
   ]
  },
  {
   "cell_type": "markdown",
   "metadata": {},
   "source": [
    "# Gradient Descent Solution"
   ]
  },
  {
   "cell_type": "code",
   "execution_count": 56,
   "metadata": {},
   "outputs": [],
   "source": [
    "# For Concatenated features dataset\n",
    "\n",
    "W_Now        = np.dot(220, W_Concat) # It intializes with random value\n",
    "La           = 2 # Lamda\n",
    "learningRate = 0.01\n",
    "L_Erms_Val   = []\n",
    "L_Erms_TR    = []\n",
    "L_Erms_Test  = []\n",
    "W_Mat        = []\n",
    "\n",
    "for i in range(0,400):\n",
    "    \n",
    "    #print ('---------Iteration: ' + str(i) + '--------------')\n",
    "    Delta_E_D     = -np.dot((TrainingTargetConcat[i] - np.dot(np.transpose(W_Now),TRAINING_PHI_Concat[i])),TRAINING_PHI_Concat[i])\n",
    "    La_Delta_E_W  = np.dot(La,W_Now)\n",
    "    Delta_E       = np.add(Delta_E_D,La_Delta_E_W)    \n",
    "    Delta_W       = -np.dot(learningRate,Delta_E)\n",
    "    W_T_Next      = W_Now + Delta_W\n",
    "    W_Now         = W_T_Next\n",
    "    \n",
    "    #-----------------TrainingData Accuracy---------------------#\n",
    "    TR_TEST_OUT   = getValTest(TRAINING_PHI_Concat,W_T_Next) \n",
    "    Erms_TR       = getErms(TR_TEST_OUT,TrainingTargetConcat)\n",
    "    L_Erms_TR.append(float(Erms_TR.split(',')[1]))\n",
    "    \n",
    "    #-----------------ValidationData Accuracy---------------------#\n",
    "    VAL_TEST_OUT  = getValTest(VAL_PHI_Concat,W_T_Next) \n",
    "    Erms_Val      = getErms(VAL_TEST_OUT,ValDataActConcat)\n",
    "    L_Erms_Val.append(float(Erms_Val.split(',')[1]))\n",
    "    \n",
    "    #-----------------TestingData Accuracy---------------------#\n",
    "    TEST_OUT      = getValTest(TEST_PHI_Concat,W_T_Next) \n",
    "    Erms_Test = getErms(TEST_OUT,TestDataActConcat)\n",
    "    L_Erms_Test.append(float(Erms_Test.split(',')[1]))"
   ]
  },
  {
   "cell_type": "code",
   "execution_count": 57,
   "metadata": {},
   "outputs": [
    {
     "data": {
      "text/plain": [
       "Text(0.5, 1.0, 'Training_Erms Vs. Learningrate')"
      ]
     },
     "execution_count": 57,
     "metadata": {},
     "output_type": "execute_result"
    },
    {
     "data": {
      "image/png": "[encoded data removed]",
      "text/plain": [
       "<Figure size 432x288 with 1 Axes>"
      ]
     },
     "metadata": {
      "needs_background": "light"
     },
     "output_type": "display_data"
    }
   ],
   "source": [
    "# To find the learning rate for Concatenated features\n",
    "\n",
    "Learningrate = [0.009*i for i in range(1,21)]\n",
    "Training_Erms=[]\n",
    "for l in Learningrate:\n",
    "    \n",
    "    La_Delta_E_W  = np.dot(La,W_Now)\n",
    "    Delta_E       = np.add(Delta_E_D,La_Delta_E_W)    \n",
    "    Delta_W       = -np.dot(l,Delta_E)\n",
    "    W_T_Next      = W_Now + Delta_W\n",
    "    W_Now         = W_T_Next\n",
    "    \n",
    "    TR_TEST_OUT   = getValTest(TRAINING_PHI_Concat,W_T_Next) \n",
    "    Erms_TR       = getErms(TR_TEST_OUT,TrainingTargetConcat)\n",
    "    Training_Erms.append(float(Erms_TR.split(',')[1]))\n",
    "\n",
    "    \n",
    "plt.plot(Learningrate,Training_Erms,'ro-')\n",
    "plt.ylabel(\"Training_Erms\")\n",
    "plt.xlabel(\"Learningrate\")\n",
    "plt.title(\"Training_Erms Vs. Learningrate\")"
   ]
  },
  {
   "cell_type": "code",
   "execution_count": 58,
   "metadata": {},
   "outputs": [
    {
     "name": "stdout",
     "output_type": "stream",
     "text": [
      "----------Gradient Descent Solution for Concatenated features--------------------\n",
      "Accuracy\n",
      "Training accuracy   = 49.553730810424845\n",
      "Validation accuracy = 52.75459098497496\n",
      "Test accuracy       = 49.41569282136895\n",
      "\n",
      "E_rms Training   = 0.71026\n",
      "E_rms Validation = 0.68735\n",
      "E_rms Testing    = 0.71123\n"
     ]
    }
   ],
   "source": [
    "print ('----------Gradient Descent Solution for Concatenated features--------------------')\n",
    "print(\"Accuracy\")\n",
    "print(\"Training accuracy   = \" +TrainingAccuracy_Concat.split(',')[0])\n",
    "print(\"Validation accuracy = \" + ValidationAccuracy_Concat.split(',')[0])\n",
    "print(\"Test accuracy       = \" + TestAccuracy_Concat.split(',')[0]+\"\\n\")\n",
    "print (\"E_rms Training   = \" + str(np.around(min(L_Erms_TR),5)))\n",
    "print (\"E_rms Validation = \" + str(np.around(min(L_Erms_Val),5)))\n",
    "print (\"E_rms Testing    = \" + str(np.around(min(L_Erms_Test),5)))"
   ]
  },
  {
   "cell_type": "code",
   "execution_count": 59,
   "metadata": {},
   "outputs": [],
   "source": [
    "# For Subtracted features dataset\n",
    "\n",
    "W_Now_       = np.dot(220, W_Subtract) # It intializes with random value\n",
    "La           = 2 # Lamda\n",
    "learningRate = 0.01\n",
    "L_Erms_Val   = []\n",
    "L_Erms_TR    = []\n",
    "L_Erms_Test  = []\n",
    "W_Mat        = []\n",
    "\n",
    "for i in range(0,400):\n",
    "    \n",
    "    #print ('---------Iteration: ' + str(i) + '--------------')\n",
    "    Delta_E_D_     = -np.dot((TrainingTargetSubtract[i] - np.dot(np.transpose(W_Now_),TRAINING_PHI_Subtract[i])),TRAINING_PHI_Subtract[i])\n",
    "    La_Delta_E_W  = np.dot(La,W_Now_)\n",
    "    Delta_E       = np.add(Delta_E_D_,La_Delta_E_W)    \n",
    "    Delta_W       = -np.dot(learningRate,Delta_E)\n",
    "    W_T_Next      = W_Now_ + Delta_W\n",
    "    W_Now_         = W_T_Next\n",
    "    \n",
    "    #-----------------TrainingData Accuracy---------------------#\n",
    "    TR_TEST_OUT   = getValTest(TRAINING_PHI_Subtract,W_T_Next) \n",
    "    Erms_TR       = getErms(TR_TEST_OUT,TrainingTargetSubtract)\n",
    "    L_Erms_TR.append(float(Erms_TR.split(',')[1]))\n",
    "    \n",
    "    #-----------------ValidationData Accuracy---------------------#\n",
    "    VAL_TEST_OUT  = getValTest(VAL_PHI_Subtract,W_T_Next) \n",
    "    Erms_Val      = getErms(VAL_TEST_OUT,ValDataActSubtract)\n",
    "    L_Erms_Val.append(float(Erms_Val.split(',')[1]))\n",
    "    \n",
    "    #-----------------TestingData Accuracy---------------------#\n",
    "    TEST_OUT      = getValTest(TEST_PHI_Subtract,W_T_Next) \n",
    "    Erms_Test = getErms(TEST_OUT,TestDataActSubtract)\n",
    "    L_Erms_Test.append(float(Erms_Test.split(',')[1]))"
   ]
  },
  {
   "cell_type": "code",
   "execution_count": 62,
   "metadata": {},
   "outputs": [
    {
     "data": {
      "text/plain": [
       "Text(0.5, 1.0, 'Training_Erms Vs. Learningrate')"
      ]
     },
     "execution_count": 62,
     "metadata": {},
     "output_type": "execute_result"
    },
    {
     "data": {
      "image/png": "[encoded data removed]",
      "text/plain": [
       "<Figure size 432x288 with 1 Axes>"
      ]
     },
     "metadata": {
      "needs_background": "light"
     },
     "output_type": "display_data"
    }
   ],
   "source": [
    "# To find the learning rate for Subtracted features\n",
    "\n",
    "Learningrate = [0.009*i for i in range(1,19)]\n",
    "Training_Erms=[]\n",
    "for l in Learningrate:\n",
    "    \n",
    "    La_Delta_E_W  = np.dot(La,W_Now_)\n",
    "    Delta_E       = np.add(Delta_E_D_,La_Delta_E_W)    \n",
    "    Delta_W       = -np.dot(l,Delta_E)\n",
    "    W_T_Next      = W_Now_ + Delta_W\n",
    "    W_Now_         = W_T_Next\n",
    "    \n",
    "    TR_TEST_OUT   = getValTest(TRAINING_PHI_Subtract,W_T_Next) \n",
    "    Erms_TR       = getErms(TR_TEST_OUT,TrainingTargetSubtract)\n",
    "    Training_Erms.append(float(Erms_TR.split(',')[1]))\n",
    "\n",
    "    \n",
    "plt.plot(Learningrate,Training_Erms,'ro-')\n",
    "plt.ylabel(\"Training_Erms\")\n",
    "plt.xlabel(\"Learningrate\")\n",
    "plt.title(\"Training_Erms Vs. Learningrate\")"
   ]
  },
  {
   "cell_type": "code",
   "execution_count": 63,
   "metadata": {},
   "outputs": [
    {
     "name": "stdout",
     "output_type": "stream",
     "text": [
      "----------Gradient Descent Solution for Subtracted features--------------------\n",
      "Accuracy\n",
      "Training accuracy   = 49.553730810424845\n",
      "Validation accuracy = 52.75459098497496\n",
      "Test accuracy       = 49.41569282136895\n",
      "\n",
      "E_rms Training   = 0.71026\n",
      "E_rms Validation = 0.68735\n",
      "E_rms Testing    = 0.71123\n"
     ]
    }
   ],
   "source": [
    "print ('----------Gradient Descent Solution for Subtracted features--------------------')\n",
    "print(\"Accuracy\")\n",
    "print(\"Training accuracy   = \" +TrainingAccuracy_Subtract.split(',')[0])\n",
    "print(\"Validation accuracy = \" + ValidationAccuracy_Subtract.split(',')[0])\n",
    "print(\"Test accuracy       = \" + TestAccuracy_Subtract.split(',')[0]+\"\\n\")\n",
    "print (\"E_rms Training   = \" + str(np.around(min(L_Erms_TR),5)))\n",
    "print (\"E_rms Validation = \" + str(np.around(min(L_Erms_Val),5)))\n",
    "print (\"E_rms Testing    = \" + str(np.around(min(L_Erms_Test),5)))"
   ]
  },
  {
   "cell_type": "markdown",
   "metadata": {},
   "source": [
    "# Logistic Regression"
   ]
  },
  {
   "cell_type": "code",
   "execution_count": 64,
   "metadata": {},
   "outputs": [],
   "source": [
    "# We have our desirable dataset ConcatenaatedFeatures and SubtractedFearures"
   ]
  },
  {
   "cell_type": "code",
   "execution_count": 65,
   "metadata": {},
   "outputs": [],
   "source": [
    "# Creating bias term\n",
    "Bias = pd.DataFrame(np.ones((len(ConcatenatedFeatures),1)), columns = ['Bias'])"
   ]
  },
  {
   "cell_type": "code",
   "execution_count": 66,
   "metadata": {},
   "outputs": [
    {
     "data": {
      "text/plain": [
       "(4000, 1025)"
      ]
     },
     "execution_count": 66,
     "metadata": {},
     "output_type": "execute_result"
    }
   ],
   "source": [
    "# For ConccatenatedFeatures\n",
    "\n",
    "ConcatenatedFeatures_ = pd.concat([Bias, ConcatenatedFeatures[ConcatenatedFeatures.columns[2:-1]]], axis=1)\n",
    "ConcatenatedFeatures_.shape"
   ]
  },
  {
   "cell_type": "code",
   "execution_count": 67,
   "metadata": {},
   "outputs": [
    {
     "data": {
      "text/html": [
       "<div>\n",
       "<style scoped>\n",
       "    .dataframe tbody tr th:only-of-type {\n",
       "        vertical-align: middle;\n",
       "    }\n",
       "\n",
       "    .dataframe tbody tr th {\n",
       "        vertical-align: top;\n",
       "    }\n",
       "\n",
       "    .dataframe thead th {\n",
       "        text-align: right;\n",
       "    }\n",
       "</style>\n",
       "<table border=\"1\" class=\"dataframe\">\n",
       "  <thead>\n",
       "    <tr style=\"text-align: right;\">\n",
       "      <th></th>\n",
       "      <th>Bias</th>\n",
       "      <th>f1</th>\n",
       "      <th>f2</th>\n",
       "      <th>f3</th>\n",
       "      <th>f4</th>\n",
       "      <th>f5</th>\n",
       "      <th>f6</th>\n",
       "      <th>f7</th>\n",
       "      <th>f8</th>\n",
       "      <th>f9</th>\n",
       "      <th>...</th>\n",
       "      <th>f1015</th>\n",
       "      <th>f1016</th>\n",
       "      <th>f1017</th>\n",
       "      <th>f1018</th>\n",
       "      <th>f1019</th>\n",
       "      <th>f1020</th>\n",
       "      <th>f1021</th>\n",
       "      <th>f1022</th>\n",
       "      <th>f1023</th>\n",
       "      <th>f1024</th>\n",
       "    </tr>\n",
       "  </thead>\n",
       "  <tbody>\n",
       "    <tr>\n",
       "      <th>0</th>\n",
       "      <td>1.0</td>\n",
       "      <td>0</td>\n",
       "      <td>0</td>\n",
       "      <td>0</td>\n",
       "      <td>0</td>\n",
       "      <td>0</td>\n",
       "      <td>0</td>\n",
       "      <td>0</td>\n",
       "      <td>0</td>\n",
       "      <td>0</td>\n",
       "      <td>...</td>\n",
       "      <td>0</td>\n",
       "      <td>0</td>\n",
       "      <td>0</td>\n",
       "      <td>0</td>\n",
       "      <td>0</td>\n",
       "      <td>0</td>\n",
       "      <td>0</td>\n",
       "      <td>0</td>\n",
       "      <td>0</td>\n",
       "      <td>0</td>\n",
       "    </tr>\n",
       "    <tr>\n",
       "      <th>1</th>\n",
       "      <td>1.0</td>\n",
       "      <td>0</td>\n",
       "      <td>1</td>\n",
       "      <td>1</td>\n",
       "      <td>0</td>\n",
       "      <td>0</td>\n",
       "      <td>0</td>\n",
       "      <td>0</td>\n",
       "      <td>1</td>\n",
       "      <td>0</td>\n",
       "      <td>...</td>\n",
       "      <td>0</td>\n",
       "      <td>0</td>\n",
       "      <td>0</td>\n",
       "      <td>0</td>\n",
       "      <td>0</td>\n",
       "      <td>0</td>\n",
       "      <td>0</td>\n",
       "      <td>0</td>\n",
       "      <td>0</td>\n",
       "      <td>0</td>\n",
       "    </tr>\n",
       "    <tr>\n",
       "      <th>2</th>\n",
       "      <td>1.0</td>\n",
       "      <td>0</td>\n",
       "      <td>0</td>\n",
       "      <td>0</td>\n",
       "      <td>0</td>\n",
       "      <td>0</td>\n",
       "      <td>0</td>\n",
       "      <td>0</td>\n",
       "      <td>0</td>\n",
       "      <td>0</td>\n",
       "      <td>...</td>\n",
       "      <td>0</td>\n",
       "      <td>0</td>\n",
       "      <td>0</td>\n",
       "      <td>0</td>\n",
       "      <td>0</td>\n",
       "      <td>0</td>\n",
       "      <td>0</td>\n",
       "      <td>0</td>\n",
       "      <td>0</td>\n",
       "      <td>0</td>\n",
       "    </tr>\n",
       "    <tr>\n",
       "      <th>3</th>\n",
       "      <td>1.0</td>\n",
       "      <td>0</td>\n",
       "      <td>1</td>\n",
       "      <td>1</td>\n",
       "      <td>0</td>\n",
       "      <td>1</td>\n",
       "      <td>0</td>\n",
       "      <td>0</td>\n",
       "      <td>0</td>\n",
       "      <td>0</td>\n",
       "      <td>...</td>\n",
       "      <td>0</td>\n",
       "      <td>1</td>\n",
       "      <td>0</td>\n",
       "      <td>0</td>\n",
       "      <td>0</td>\n",
       "      <td>0</td>\n",
       "      <td>0</td>\n",
       "      <td>0</td>\n",
       "      <td>0</td>\n",
       "      <td>0</td>\n",
       "    </tr>\n",
       "    <tr>\n",
       "      <th>4</th>\n",
       "      <td>1.0</td>\n",
       "      <td>0</td>\n",
       "      <td>0</td>\n",
       "      <td>0</td>\n",
       "      <td>0</td>\n",
       "      <td>0</td>\n",
       "      <td>0</td>\n",
       "      <td>0</td>\n",
       "      <td>0</td>\n",
       "      <td>0</td>\n",
       "      <td>...</td>\n",
       "      <td>0</td>\n",
       "      <td>0</td>\n",
       "      <td>0</td>\n",
       "      <td>0</td>\n",
       "      <td>0</td>\n",
       "      <td>0</td>\n",
       "      <td>0</td>\n",
       "      <td>0</td>\n",
       "      <td>0</td>\n",
       "      <td>0</td>\n",
       "    </tr>\n",
       "  </tbody>\n",
       "</table>\n",
       "<p>5 rows × 1025 columns</p>\n",
       "</div>"
      ],
      "text/plain": [
       "   Bias f1 f2 f3 f4 f5 f6 f7 f8 f9  ...  f1015 f1016 f1017 f1018 f1019 f1020  \\\n",
       "0   1.0  0  0  0  0  0  0  0  0  0  ...      0     0     0     0     0     0   \n",
       "1   1.0  0  1  1  0  0  0  0  1  0  ...      0     0     0     0     0     0   \n",
       "2   1.0  0  0  0  0  0  0  0  0  0  ...      0     0     0     0     0     0   \n",
       "3   1.0  0  1  1  0  1  0  0  0  0  ...      0     1     0     0     0     0   \n",
       "4   1.0  0  0  0  0  0  0  0  0  0  ...      0     0     0     0     0     0   \n",
       "\n",
       "  f1021 f1022 f1023 f1024  \n",
       "0     0     0     0     0  \n",
       "1     0     0     0     0  \n",
       "2     0     0     0     0  \n",
       "3     0     0     0     0  \n",
       "4     0     0     0     0  \n",
       "\n",
       "[5 rows x 1025 columns]"
      ]
     },
     "execution_count": 67,
     "metadata": {},
     "output_type": "execute_result"
    }
   ],
   "source": [
    "ConcatenatedFeatures_.head()"
   ]
  },
  {
   "cell_type": "code",
   "execution_count": 68,
   "metadata": {},
   "outputs": [
    {
     "data": {
      "text/plain": [
       "(4000, 513)"
      ]
     },
     "execution_count": 68,
     "metadata": {},
     "output_type": "execute_result"
    }
   ],
   "source": [
    "# For SubtractedFeatures\n",
    "subtractedFeatures_ = pd.concat([Bias, subtractedFeatures[subtractedFeatures.columns[2:-1]]], axis=1)\n",
    "subtractedFeatures_.shape"
   ]
  },
  {
   "cell_type": "code",
   "execution_count": 69,
   "metadata": {},
   "outputs": [
    {
     "data": {
      "text/html": [
       "<div>\n",
       "<style scoped>\n",
       "    .dataframe tbody tr th:only-of-type {\n",
       "        vertical-align: middle;\n",
       "    }\n",
       "\n",
       "    .dataframe tbody tr th {\n",
       "        vertical-align: top;\n",
       "    }\n",
       "\n",
       "    .dataframe thead th {\n",
       "        text-align: right;\n",
       "    }\n",
       "</style>\n",
       "<table border=\"1\" class=\"dataframe\">\n",
       "  <thead>\n",
       "    <tr style=\"text-align: right;\">\n",
       "      <th></th>\n",
       "      <th>Bias</th>\n",
       "      <th>f1</th>\n",
       "      <th>f2</th>\n",
       "      <th>f3</th>\n",
       "      <th>f4</th>\n",
       "      <th>f5</th>\n",
       "      <th>f6</th>\n",
       "      <th>f7</th>\n",
       "      <th>f8</th>\n",
       "      <th>f9</th>\n",
       "      <th>...</th>\n",
       "      <th>f503</th>\n",
       "      <th>f504</th>\n",
       "      <th>f505</th>\n",
       "      <th>f506</th>\n",
       "      <th>f507</th>\n",
       "      <th>f508</th>\n",
       "      <th>f509</th>\n",
       "      <th>f510</th>\n",
       "      <th>f511</th>\n",
       "      <th>f512</th>\n",
       "    </tr>\n",
       "  </thead>\n",
       "  <tbody>\n",
       "    <tr>\n",
       "      <th>0</th>\n",
       "      <td>1.0</td>\n",
       "      <td>0</td>\n",
       "      <td>0</td>\n",
       "      <td>0</td>\n",
       "      <td>0</td>\n",
       "      <td>0</td>\n",
       "      <td>0</td>\n",
       "      <td>0</td>\n",
       "      <td>0</td>\n",
       "      <td>0</td>\n",
       "      <td>...</td>\n",
       "      <td>0</td>\n",
       "      <td>0</td>\n",
       "      <td>0</td>\n",
       "      <td>0</td>\n",
       "      <td>0</td>\n",
       "      <td>0</td>\n",
       "      <td>0</td>\n",
       "      <td>0</td>\n",
       "      <td>0</td>\n",
       "      <td>0</td>\n",
       "    </tr>\n",
       "    <tr>\n",
       "      <th>1</th>\n",
       "      <td>1.0</td>\n",
       "      <td>0</td>\n",
       "      <td>0</td>\n",
       "      <td>1</td>\n",
       "      <td>0</td>\n",
       "      <td>0</td>\n",
       "      <td>0</td>\n",
       "      <td>0</td>\n",
       "      <td>0</td>\n",
       "      <td>0</td>\n",
       "      <td>...</td>\n",
       "      <td>0</td>\n",
       "      <td>0</td>\n",
       "      <td>0</td>\n",
       "      <td>0</td>\n",
       "      <td>0</td>\n",
       "      <td>0</td>\n",
       "      <td>0</td>\n",
       "      <td>0</td>\n",
       "      <td>0</td>\n",
       "      <td>0</td>\n",
       "    </tr>\n",
       "    <tr>\n",
       "      <th>2</th>\n",
       "      <td>1.0</td>\n",
       "      <td>0</td>\n",
       "      <td>0</td>\n",
       "      <td>0</td>\n",
       "      <td>0</td>\n",
       "      <td>0</td>\n",
       "      <td>0</td>\n",
       "      <td>0</td>\n",
       "      <td>0</td>\n",
       "      <td>0</td>\n",
       "      <td>...</td>\n",
       "      <td>0</td>\n",
       "      <td>0</td>\n",
       "      <td>0</td>\n",
       "      <td>0</td>\n",
       "      <td>0</td>\n",
       "      <td>0</td>\n",
       "      <td>0</td>\n",
       "      <td>0</td>\n",
       "      <td>0</td>\n",
       "      <td>0</td>\n",
       "    </tr>\n",
       "    <tr>\n",
       "      <th>3</th>\n",
       "      <td>1.0</td>\n",
       "      <td>0</td>\n",
       "      <td>1</td>\n",
       "      <td>1</td>\n",
       "      <td>0</td>\n",
       "      <td>1</td>\n",
       "      <td>0</td>\n",
       "      <td>0</td>\n",
       "      <td>0</td>\n",
       "      <td>0</td>\n",
       "      <td>...</td>\n",
       "      <td>0</td>\n",
       "      <td>0</td>\n",
       "      <td>0</td>\n",
       "      <td>0</td>\n",
       "      <td>0</td>\n",
       "      <td>0</td>\n",
       "      <td>0</td>\n",
       "      <td>0</td>\n",
       "      <td>0</td>\n",
       "      <td>0</td>\n",
       "    </tr>\n",
       "    <tr>\n",
       "      <th>4</th>\n",
       "      <td>1.0</td>\n",
       "      <td>0</td>\n",
       "      <td>0</td>\n",
       "      <td>0</td>\n",
       "      <td>0</td>\n",
       "      <td>0</td>\n",
       "      <td>0</td>\n",
       "      <td>0</td>\n",
       "      <td>0</td>\n",
       "      <td>0</td>\n",
       "      <td>...</td>\n",
       "      <td>0</td>\n",
       "      <td>0</td>\n",
       "      <td>0</td>\n",
       "      <td>0</td>\n",
       "      <td>0</td>\n",
       "      <td>0</td>\n",
       "      <td>0</td>\n",
       "      <td>0</td>\n",
       "      <td>0</td>\n",
       "      <td>0</td>\n",
       "    </tr>\n",
       "  </tbody>\n",
       "</table>\n",
       "<p>5 rows × 513 columns</p>\n",
       "</div>"
      ],
      "text/plain": [
       "   Bias f1 f2 f3 f4 f5 f6 f7 f8 f9 ...  f503 f504 f505 f506 f507 f508 f509  \\\n",
       "0   1.0  0  0  0  0  0  0  0  0  0 ...     0    0    0    0    0    0    0   \n",
       "1   1.0  0  0  1  0  0  0  0  0  0 ...     0    0    0    0    0    0    0   \n",
       "2   1.0  0  0  0  0  0  0  0  0  0 ...     0    0    0    0    0    0    0   \n",
       "3   1.0  0  1  1  0  1  0  0  0  0 ...     0    0    0    0    0    0    0   \n",
       "4   1.0  0  0  0  0  0  0  0  0  0 ...     0    0    0    0    0    0    0   \n",
       "\n",
       "  f510 f511 f512  \n",
       "0    0    0    0  \n",
       "1    0    0    0  \n",
       "2    0    0    0  \n",
       "3    0    0    0  \n",
       "4    0    0    0  \n",
       "\n",
       "[5 rows x 513 columns]"
      ]
     },
     "execution_count": 69,
     "metadata": {},
     "output_type": "execute_result"
    }
   ],
   "source": [
    "subtractedFeatures_.head()"
   ]
  },
  {
   "cell_type": "code",
   "execution_count": 70,
   "metadata": {},
   "outputs": [],
   "source": [
    "# For concatenatedfeatures\n",
    "weight = np.zeros(1025)  # Bceause 1025 is the number of features including bias"
   ]
  },
  {
   "cell_type": "code",
   "execution_count": 71,
   "metadata": {},
   "outputs": [],
   "source": [
    "def sigmoidFunction(inputData, weight):\n",
    "    sigmoid = 1/(np.exp(-1 * np.matmul(inputData, weight)))\n",
    "    return sigmoid"
   ]
  },
  {
   "cell_type": "code",
   "execution_count": 72,
   "metadata": {},
   "outputs": [],
   "source": [
    "def cost_function(m,data,weight,Target):\n",
    "    J = 1/m*(-1*Target.T.dot(np.log(sigmoidFunction(data,weight))) - (1 - Target).T.dot(np.log(1-sigmoidFunction(data,weight))))\n",
    "    return J"
   ]
  },
  {
   "cell_type": "code",
   "execution_count": 73,
   "metadata": {},
   "outputs": [],
   "source": [
    "def gd(m,weight,X, Target, Learningrate): # gd stands for Gradient Descent\n",
    "    cost_functionList = [0]* 100 \n",
    "    for i in tqdm_notebook(range(100)):\n",
    "        weight = weight - (Learningrate/m) * ( X.T.dot((sigmoidFunction(X,weight) - Target)))\n",
    "        cost = cost_function(m,X,weight,Target)\n",
    "        cost_functionList[i] = cost\n",
    "    return weight, cost_functionList"
   ]
  },
  {
   "cell_type": "code",
   "execution_count": 74,
   "metadata": {},
   "outputs": [
    {
     "data": {
      "application/vnd.jupyter.widget-view+json": {
       "model_id": "78881270a54f494fab6c08f09f02672b",
       "version_major": 2,
       "version_minor": 0
      },
      "text/plain": [
       "HBox(children=(IntProgress(value=0), HTML(value='')))"
      ]
     },
     "metadata": {},
     "output_type": "display_data"
    },
    {
     "name": "stderr",
     "output_type": "stream",
     "text": [
      "C:\\Users\\abhi\\Anaconda3\\lib\\site-packages\\ipykernel_launcher.py:2: RuntimeWarning: invalid value encountered in log\n",
      "  \n"
     ]
    },
    {
     "name": "stdout",
     "output_type": "stream",
     "text": [
      "\n"
     ]
    }
   ],
   "source": [
    "# For ConcatenatedFeatures training set\n",
    "m = len(ConcatenatedFeatures_) # number of training examples\n",
    "Target_ = ConcatenatedFeatures['target'].values.astype(float)\n",
    "TrainingPercent = int((80/100)*len(Target_))\n",
    "Target = Target_[:TrainingPercent]\n",
    "Learningrate = 0.004\n",
    "X_ = ConcatenatedFeatures_.values.astype(float)\n",
    "concatInput = X_[:TrainingPercent]\n",
    "New_weight_concat, costList_concat = gd(m,weight,concatInput,Target,Learningrate)"
   ]
  },
  {
   "cell_type": "code",
   "execution_count": 75,
   "metadata": {},
   "outputs": [],
   "source": [
    "# For subtractedFeatures\n",
    "\n",
    "weight_subtract = np.zeros(513)  # Bceause 513 is the number of features including bias"
   ]
  },
  {
   "cell_type": "code",
   "execution_count": 76,
   "metadata": {},
   "outputs": [
    {
     "data": {
      "application/vnd.jupyter.widget-view+json": {
       "model_id": "397de86000014568b37da56848c2299d",
       "version_major": 2,
       "version_minor": 0
      },
      "text/plain": [
       "HBox(children=(IntProgress(value=0), HTML(value='')))"
      ]
     },
     "metadata": {},
     "output_type": "display_data"
    },
    {
     "name": "stderr",
     "output_type": "stream",
     "text": [
      "C:\\Users\\abhi\\Anaconda3\\lib\\site-packages\\ipykernel_launcher.py:2: RuntimeWarning: invalid value encountered in log\n",
      "  \n"
     ]
    },
    {
     "name": "stdout",
     "output_type": "stream",
     "text": [
      "\n"
     ]
    }
   ],
   "source": [
    "# For subtractedFeatures training set\n",
    "\n",
    "Learningrate_ = 0.055\n",
    "X_subtract = subtractedFeatures_.values.astype(float)\n",
    "subtractInput = X_subtract[:TrainingPercent]\n",
    "New_weight_subtract, costList_subtract = gd(m,weight_subtract,subtractInput,Target,Learningrate_)"
   ]
  },
  {
   "cell_type": "code",
   "execution_count": 77,
   "metadata": {},
   "outputs": [],
   "source": [
    "# For concatenated test set\n",
    "\n",
    "predict_concat = sigmoidFunction(X_[TrainingPercent+1:],New_weight_concat)\n",
    "\n",
    "# For subtracted test set\n",
    "\n",
    "predict_subtract = sigmoidFunction(X_subtract[TrainingPercent+1:],New_weight_subtract)"
   ]
  },
  {
   "cell_type": "code",
   "execution_count": 78,
   "metadata": {},
   "outputs": [],
   "source": [
    "def estimatedOutput(predict,Target):\n",
    "    right = 0\n",
    "    wrong = 0\n",
    "    \n",
    "    for i in range(len(Target)):\n",
    "        if np.around(predict[i]) == Target[i]:\n",
    "            right += 1\n",
    "        else:\n",
    "            wrong +=1\n",
    "    return right, wrong"
   ]
  },
  {
   "cell_type": "code",
   "execution_count": 79,
   "metadata": {},
   "outputs": [
    {
     "name": "stdout",
     "output_type": "stream",
     "text": [
      "Accuracy is 96.87108886107634\n",
      "Error is 3.128911138923655\n",
      "\n",
      "Accuracy is 90.86357947434293\n",
      "Error is 9.136420525657071\n"
     ]
    }
   ],
   "source": [
    "# For concatenatedfeatures\n",
    "Target_concat = Target_[TrainingPercent+1:]\n",
    "Right, Wrong = estimatedOutput(predict_concat,Target_concat)\n",
    "print(\"Accuracy is \" + str(Right/len(Target_concat)*100))\n",
    "print(\"Error is \" + str(Wrong/len(Target_concat)*100))\n",
    "\n",
    "\n",
    "print()\n",
    "# For subtractedfeatures\n",
    "\n",
    "Target_subtract = Target_[TrainingPercent+1:]\n",
    "Right, Wrong = estimatedOutput(predict_subtract,Target_subtract)\n",
    "print(\"Accuracy is \" + str(Right/len(Target_subtract)*100))\n",
    "print(\"Error is \" + str(Wrong/len(Target_subtract)*100))"
   ]
  },
  {
   "cell_type": "code",
   "execution_count": 80,
   "metadata": {},
   "outputs": [
    {
     "data": {
      "text/plain": [
       "Text(0.5, 1.0, 'Cost funcion J Vs. Iterations')"
      ]
     },
     "execution_count": 80,
     "metadata": {},
     "output_type": "execute_result"
    },
    {
     "data": {
      "image/png": "[encoded data removed]",
      "text/plain": [
       "<Figure size 432x288 with 1 Axes>"
      ]
     },
     "metadata": {
      "needs_background": "light"
     },
     "output_type": "display_data"
    }
   ],
   "source": [
    "# For Concatenated set\n",
    "\n",
    "Iterations = list(range(100))\n",
    "plt.plot(Iterations,costList_concat,'r-')\n",
    "plt.ylabel(\"Cost funcion Concat ----->\")\n",
    "plt.xlabel(\"Iterations ----->\")\n",
    "plt.title(\"Cost funcion J Vs. Iterations\")"
   ]
  },
  {
   "cell_type": "code",
   "execution_count": 81,
   "metadata": {},
   "outputs": [
    {
     "data": {
      "text/plain": [
       "Text(0.5, 1.0, 'Cost funcion J Vs. Iterations')"
      ]
     },
     "execution_count": 81,
     "metadata": {},
     "output_type": "execute_result"
    },
    {
     "data": {
      "image/png": "[encoded data removed]",
      "text/plain": [
       "<Figure size 432x288 with 1 Axes>"
      ]
     },
     "metadata": {
      "needs_background": "light"
     },
     "output_type": "display_data"
    }
   ],
   "source": [
    "# For Subtracted set\n",
    "\n",
    "Iterations = list(range(100))\n",
    "plt.plot(Iterations,costList_subtract,'r-')\n",
    "plt.ylabel(\"Cost funcion subtract ----->\")\n",
    "plt.xlabel(\"Iterations ----->\")\n",
    "plt.title(\"Cost funcion J Vs. Iterations\")"
   ]
  },
  {
   "cell_type": "markdown",
   "metadata": {},
   "source": [
    "# Artificial Neural Network"
   ]
  },
  {
   "cell_type": "code",
   "execution_count": 82,
   "metadata": {},
   "outputs": [
    {
     "data": {
      "text/html": [
       "<div>\n",
       "<style scoped>\n",
       "    .dataframe tbody tr th:only-of-type {\n",
       "        vertical-align: middle;\n",
       "    }\n",
       "\n",
       "    .dataframe tbody tr th {\n",
       "        vertical-align: top;\n",
       "    }\n",
       "\n",
       "    .dataframe thead th {\n",
       "        text-align: right;\n",
       "    }\n",
       "</style>\n",
       "<table border=\"1\" class=\"dataframe\">\n",
       "  <thead>\n",
       "    <tr style=\"text-align: right;\">\n",
       "      <th></th>\n",
       "      <th>img_id_A</th>\n",
       "      <th>img_id_B</th>\n",
       "      <th>f1</th>\n",
       "      <th>f2</th>\n",
       "      <th>f3</th>\n",
       "      <th>f4</th>\n",
       "      <th>f5</th>\n",
       "      <th>f6</th>\n",
       "      <th>f7</th>\n",
       "      <th>f8</th>\n",
       "      <th>...</th>\n",
       "      <th>f1016</th>\n",
       "      <th>f1017</th>\n",
       "      <th>f1018</th>\n",
       "      <th>f1019</th>\n",
       "      <th>f1020</th>\n",
       "      <th>f1021</th>\n",
       "      <th>f1022</th>\n",
       "      <th>f1023</th>\n",
       "      <th>f1024</th>\n",
       "      <th>target</th>\n",
       "    </tr>\n",
       "  </thead>\n",
       "  <tbody>\n",
       "    <tr>\n",
       "      <th>0</th>\n",
       "      <td>0003a_num1.png</td>\n",
       "      <td>0011b_num2.png</td>\n",
       "      <td>0</td>\n",
       "      <td>0</td>\n",
       "      <td>0</td>\n",
       "      <td>0</td>\n",
       "      <td>0</td>\n",
       "      <td>0</td>\n",
       "      <td>0</td>\n",
       "      <td>0</td>\n",
       "      <td>...</td>\n",
       "      <td>0</td>\n",
       "      <td>0</td>\n",
       "      <td>0</td>\n",
       "      <td>0</td>\n",
       "      <td>0</td>\n",
       "      <td>0</td>\n",
       "      <td>0</td>\n",
       "      <td>0</td>\n",
       "      <td>0</td>\n",
       "      <td>0</td>\n",
       "    </tr>\n",
       "    <tr>\n",
       "      <th>1</th>\n",
       "      <td>0030a_num1.png</td>\n",
       "      <td>0030b_num4.png</td>\n",
       "      <td>0</td>\n",
       "      <td>1</td>\n",
       "      <td>1</td>\n",
       "      <td>0</td>\n",
       "      <td>0</td>\n",
       "      <td>0</td>\n",
       "      <td>0</td>\n",
       "      <td>1</td>\n",
       "      <td>...</td>\n",
       "      <td>0</td>\n",
       "      <td>0</td>\n",
       "      <td>0</td>\n",
       "      <td>0</td>\n",
       "      <td>0</td>\n",
       "      <td>0</td>\n",
       "      <td>0</td>\n",
       "      <td>0</td>\n",
       "      <td>0</td>\n",
       "      <td>1</td>\n",
       "    </tr>\n",
       "    <tr>\n",
       "      <th>2</th>\n",
       "      <td>0038b_num5.png</td>\n",
       "      <td>0038c_num1.png</td>\n",
       "      <td>0</td>\n",
       "      <td>0</td>\n",
       "      <td>0</td>\n",
       "      <td>0</td>\n",
       "      <td>0</td>\n",
       "      <td>0</td>\n",
       "      <td>0</td>\n",
       "      <td>0</td>\n",
       "      <td>...</td>\n",
       "      <td>0</td>\n",
       "      <td>0</td>\n",
       "      <td>0</td>\n",
       "      <td>0</td>\n",
       "      <td>0</td>\n",
       "      <td>0</td>\n",
       "      <td>0</td>\n",
       "      <td>0</td>\n",
       "      <td>0</td>\n",
       "      <td>1</td>\n",
       "    </tr>\n",
       "    <tr>\n",
       "      <th>3</th>\n",
       "      <td>0008b_num1.png</td>\n",
       "      <td>0008c_num4.png</td>\n",
       "      <td>0</td>\n",
       "      <td>1</td>\n",
       "      <td>1</td>\n",
       "      <td>0</td>\n",
       "      <td>1</td>\n",
       "      <td>0</td>\n",
       "      <td>0</td>\n",
       "      <td>0</td>\n",
       "      <td>...</td>\n",
       "      <td>1</td>\n",
       "      <td>0</td>\n",
       "      <td>0</td>\n",
       "      <td>0</td>\n",
       "      <td>0</td>\n",
       "      <td>0</td>\n",
       "      <td>0</td>\n",
       "      <td>0</td>\n",
       "      <td>0</td>\n",
       "      <td>1</td>\n",
       "    </tr>\n",
       "    <tr>\n",
       "      <th>4</th>\n",
       "      <td>0005a_num2.png</td>\n",
       "      <td>0005a_num3.png</td>\n",
       "      <td>0</td>\n",
       "      <td>0</td>\n",
       "      <td>0</td>\n",
       "      <td>0</td>\n",
       "      <td>0</td>\n",
       "      <td>0</td>\n",
       "      <td>0</td>\n",
       "      <td>0</td>\n",
       "      <td>...</td>\n",
       "      <td>0</td>\n",
       "      <td>0</td>\n",
       "      <td>0</td>\n",
       "      <td>0</td>\n",
       "      <td>0</td>\n",
       "      <td>0</td>\n",
       "      <td>0</td>\n",
       "      <td>0</td>\n",
       "      <td>0</td>\n",
       "      <td>1</td>\n",
       "    </tr>\n",
       "  </tbody>\n",
       "</table>\n",
       "<p>5 rows × 1027 columns</p>\n",
       "</div>"
      ],
      "text/plain": [
       "         img_id_A        img_id_B f1 f2 f3 f4 f5 f6 f7 f8  ...   f1016 f1017  \\\n",
       "0  0003a_num1.png  0011b_num2.png  0  0  0  0  0  0  0  0  ...       0     0   \n",
       "1  0030a_num1.png  0030b_num4.png  0  1  1  0  0  0  0  1  ...       0     0   \n",
       "2  0038b_num5.png  0038c_num1.png  0  0  0  0  0  0  0  0  ...       0     0   \n",
       "3  0008b_num1.png  0008c_num4.png  0  1  1  0  1  0  0  0  ...       1     0   \n",
       "4  0005a_num2.png  0005a_num3.png  0  0  0  0  0  0  0  0  ...       0     0   \n",
       "\n",
       "  f1018 f1019 f1020 f1021 f1022 f1023 f1024 target  \n",
       "0     0     0     0     0     0     0     0      0  \n",
       "1     0     0     0     0     0     0     0      1  \n",
       "2     0     0     0     0     0     0     0      1  \n",
       "3     0     0     0     0     0     0     0      1  \n",
       "4     0     0     0     0     0     0     0      1  \n",
       "\n",
       "[5 rows x 1027 columns]"
      ]
     },
     "execution_count": 82,
     "metadata": {},
     "output_type": "execute_result"
    }
   ],
   "source": [
    "ConcatenatedFeatures.head()"
   ]
  },
  {
   "cell_type": "code",
   "execution_count": 83,
   "metadata": {},
   "outputs": [
    {
     "data": {
      "text/html": [
       "<div>\n",
       "<style scoped>\n",
       "    .dataframe tbody tr th:only-of-type {\n",
       "        vertical-align: middle;\n",
       "    }\n",
       "\n",
       "    .dataframe tbody tr th {\n",
       "        vertical-align: top;\n",
       "    }\n",
       "\n",
       "    .dataframe thead th {\n",
       "        text-align: right;\n",
       "    }\n",
       "</style>\n",
       "<table border=\"1\" class=\"dataframe\">\n",
       "  <thead>\n",
       "    <tr style=\"text-align: right;\">\n",
       "      <th></th>\n",
       "      <th>img_id_A</th>\n",
       "      <th>img_id_B</th>\n",
       "      <th>f1</th>\n",
       "      <th>f2</th>\n",
       "      <th>f3</th>\n",
       "      <th>f4</th>\n",
       "      <th>f5</th>\n",
       "      <th>f6</th>\n",
       "      <th>f7</th>\n",
       "      <th>f8</th>\n",
       "      <th>...</th>\n",
       "      <th>f504</th>\n",
       "      <th>f505</th>\n",
       "      <th>f506</th>\n",
       "      <th>f507</th>\n",
       "      <th>f508</th>\n",
       "      <th>f509</th>\n",
       "      <th>f510</th>\n",
       "      <th>f511</th>\n",
       "      <th>f512</th>\n",
       "      <th>target</th>\n",
       "    </tr>\n",
       "  </thead>\n",
       "  <tbody>\n",
       "    <tr>\n",
       "      <th>0</th>\n",
       "      <td>0003a_num1.png</td>\n",
       "      <td>0011b_num2.png</td>\n",
       "      <td>0</td>\n",
       "      <td>0</td>\n",
       "      <td>0</td>\n",
       "      <td>0</td>\n",
       "      <td>0</td>\n",
       "      <td>0</td>\n",
       "      <td>0</td>\n",
       "      <td>0</td>\n",
       "      <td>...</td>\n",
       "      <td>0</td>\n",
       "      <td>0</td>\n",
       "      <td>0</td>\n",
       "      <td>0</td>\n",
       "      <td>0</td>\n",
       "      <td>0</td>\n",
       "      <td>0</td>\n",
       "      <td>0</td>\n",
       "      <td>0</td>\n",
       "      <td>0</td>\n",
       "    </tr>\n",
       "    <tr>\n",
       "      <th>1</th>\n",
       "      <td>0030a_num1.png</td>\n",
       "      <td>0030b_num4.png</td>\n",
       "      <td>0</td>\n",
       "      <td>0</td>\n",
       "      <td>1</td>\n",
       "      <td>0</td>\n",
       "      <td>0</td>\n",
       "      <td>0</td>\n",
       "      <td>0</td>\n",
       "      <td>0</td>\n",
       "      <td>...</td>\n",
       "      <td>0</td>\n",
       "      <td>0</td>\n",
       "      <td>0</td>\n",
       "      <td>0</td>\n",
       "      <td>0</td>\n",
       "      <td>0</td>\n",
       "      <td>0</td>\n",
       "      <td>0</td>\n",
       "      <td>0</td>\n",
       "      <td>1</td>\n",
       "    </tr>\n",
       "    <tr>\n",
       "      <th>2</th>\n",
       "      <td>0038b_num5.png</td>\n",
       "      <td>0038c_num1.png</td>\n",
       "      <td>0</td>\n",
       "      <td>0</td>\n",
       "      <td>0</td>\n",
       "      <td>0</td>\n",
       "      <td>0</td>\n",
       "      <td>0</td>\n",
       "      <td>0</td>\n",
       "      <td>0</td>\n",
       "      <td>...</td>\n",
       "      <td>0</td>\n",
       "      <td>0</td>\n",
       "      <td>0</td>\n",
       "      <td>0</td>\n",
       "      <td>0</td>\n",
       "      <td>0</td>\n",
       "      <td>0</td>\n",
       "      <td>0</td>\n",
       "      <td>0</td>\n",
       "      <td>1</td>\n",
       "    </tr>\n",
       "    <tr>\n",
       "      <th>3</th>\n",
       "      <td>0008b_num1.png</td>\n",
       "      <td>0008c_num4.png</td>\n",
       "      <td>0</td>\n",
       "      <td>1</td>\n",
       "      <td>1</td>\n",
       "      <td>0</td>\n",
       "      <td>1</td>\n",
       "      <td>0</td>\n",
       "      <td>0</td>\n",
       "      <td>0</td>\n",
       "      <td>...</td>\n",
       "      <td>0</td>\n",
       "      <td>0</td>\n",
       "      <td>0</td>\n",
       "      <td>0</td>\n",
       "      <td>0</td>\n",
       "      <td>0</td>\n",
       "      <td>0</td>\n",
       "      <td>0</td>\n",
       "      <td>0</td>\n",
       "      <td>1</td>\n",
       "    </tr>\n",
       "    <tr>\n",
       "      <th>4</th>\n",
       "      <td>0005a_num2.png</td>\n",
       "      <td>0005a_num3.png</td>\n",
       "      <td>0</td>\n",
       "      <td>0</td>\n",
       "      <td>0</td>\n",
       "      <td>0</td>\n",
       "      <td>0</td>\n",
       "      <td>0</td>\n",
       "      <td>0</td>\n",
       "      <td>0</td>\n",
       "      <td>...</td>\n",
       "      <td>0</td>\n",
       "      <td>0</td>\n",
       "      <td>0</td>\n",
       "      <td>0</td>\n",
       "      <td>0</td>\n",
       "      <td>0</td>\n",
       "      <td>0</td>\n",
       "      <td>0</td>\n",
       "      <td>0</td>\n",
       "      <td>1</td>\n",
       "    </tr>\n",
       "  </tbody>\n",
       "</table>\n",
       "<p>5 rows × 515 columns</p>\n",
       "</div>"
      ],
      "text/plain": [
       "         img_id_A        img_id_B f1 f2 f3 f4 f5 f6 f7 f8  ...   f504 f505  \\\n",
       "0  0003a_num1.png  0011b_num2.png  0  0  0  0  0  0  0  0  ...      0    0   \n",
       "1  0030a_num1.png  0030b_num4.png  0  0  1  0  0  0  0  0  ...      0    0   \n",
       "2  0038b_num5.png  0038c_num1.png  0  0  0  0  0  0  0  0  ...      0    0   \n",
       "3  0008b_num1.png  0008c_num4.png  0  1  1  0  1  0  0  0  ...      0    0   \n",
       "4  0005a_num2.png  0005a_num3.png  0  0  0  0  0  0  0  0  ...      0    0   \n",
       "\n",
       "  f506 f507 f508 f509 f510 f511 f512 target  \n",
       "0    0    0    0    0    0    0    0      0  \n",
       "1    0    0    0    0    0    0    0      1  \n",
       "2    0    0    0    0    0    0    0      1  \n",
       "3    0    0    0    0    0    0    0      1  \n",
       "4    0    0    0    0    0    0    0      1  \n",
       "\n",
       "[5 rows x 515 columns]"
      ]
     },
     "execution_count": 83,
     "metadata": {},
     "output_type": "execute_result"
    }
   ],
   "source": [
    "subtractedFeatures.head()"
   ]
  },
  {
   "cell_type": "markdown",
   "metadata": {},
   "source": [
    "# Training The Model"
   ]
  },
  {
   "cell_type": "code",
   "execution_count": 84,
   "metadata": {},
   "outputs": [],
   "source": [
    "from sklearn.model_selection import train_test_split"
   ]
  },
  {
   "cell_type": "code",
   "execution_count": 85,
   "metadata": {},
   "outputs": [],
   "source": [
    "# For concatenated set\n",
    "\n",
    "X_train_concat, X_test_concat, y_train_concat, y_test_concat = train_test_split(ConcatenatedFeatures_.values[:,1:], ConcatenatedFeatures['target'].values,test_size =0.2,random_state=0)"
   ]
  },
  {
   "cell_type": "code",
   "execution_count": 86,
   "metadata": {},
   "outputs": [],
   "source": [
    "# For subtracted set\n",
    "\n",
    "X_train_subtract, X_test_subtract, y_train_subtract, y_test_subtract = train_test_split(subtractedFeatures_.values[:,1:], subtractedFeatures['target'].values,test_size =0.2,random_state=0)"
   ]
  },
  {
   "cell_type": "code",
   "execution_count": 87,
   "metadata": {},
   "outputs": [
    {
     "name": "stderr",
     "output_type": "stream",
     "text": [
      "Using TensorFlow backend.\n"
     ]
    }
   ],
   "source": [
    "import keras\n",
    "from keras.models import Sequential\n",
    "from keras.layers import Dense"
   ]
  },
  {
   "cell_type": "code",
   "execution_count": 88,
   "metadata": {},
   "outputs": [],
   "source": [
    "# Initialising the ANN"
   ]
  },
  {
   "cell_type": "code",
   "execution_count": 89,
   "metadata": {},
   "outputs": [],
   "source": [
    "classifier_concat = Sequential()\n",
    "classifier_subtract =Sequential()"
   ]
  },
  {
   "cell_type": "code",
   "execution_count": 90,
   "metadata": {},
   "outputs": [],
   "source": [
    "# Adding the input layer and the first hidden layer"
   ]
  },
  {
   "cell_type": "code",
   "execution_count": 91,
   "metadata": {},
   "outputs": [],
   "source": [
    "# For concatenated dataset\n",
    "\n",
    "classifier_concat.add(Dense(units=128, kernel_initializer='uniform',activation='relu',input_dim=1024))\n",
    "\n",
    "# For subtracted dataset\n",
    "\n",
    "classifier_subtract.add(Dense(units=128, kernel_initializer='uniform',activation='relu',input_dim=512))"
   ]
  },
  {
   "cell_type": "code",
   "execution_count": 92,
   "metadata": {},
   "outputs": [],
   "source": [
    "# For concatenated dataset\n",
    "\n",
    "classifier_concat.add(Dense(units=1, kernel_initializer='uniform',activation='sigmoid'))\n",
    "\n",
    "# For subtracted dataset\n",
    "\n",
    "classifier_subtract.add(Dense(units=1, kernel_initializer='uniform',activation='sigmoid'))"
   ]
  },
  {
   "cell_type": "code",
   "execution_count": 93,
   "metadata": {},
   "outputs": [],
   "source": [
    "# Compiling the ANN"
   ]
  },
  {
   "cell_type": "code",
   "execution_count": 94,
   "metadata": {},
   "outputs": [],
   "source": [
    "# For concatenated dataset\n",
    "\n",
    "classifier_concat.compile(optimizer='sgd',loss ='binary_crossentropy', metrics=['accuracy'])\n",
    "\n",
    "# For subtracted dataset\n",
    "\n",
    "classifier_subtract.compile(optimizer='sgd',loss ='binary_crossentropy', metrics=['accuracy'])"
   ]
  },
  {
   "cell_type": "code",
   "execution_count": 97,
   "metadata": {},
   "outputs": [
    {
     "data": {
      "text/plain": [
       "<keras.callbacks.History at 0x9c93e3e550>"
      ]
     },
     "execution_count": 97,
     "metadata": {},
     "output_type": "execute_result"
    }
   ],
   "source": [
    "# fitting the ANN to the Training set\n",
    "\n",
    "# For concatenated Dataset\n",
    "classifier_concat.fit(X_train_concat,y_train_concat,batch_size=128,epochs=50,verbose=0)"
   ]
  },
  {
   "cell_type": "code",
   "execution_count": 98,
   "metadata": {},
   "outputs": [
    {
     "data": {
      "text/plain": [
       "<keras.callbacks.History at 0x9c93e440b8>"
      ]
     },
     "execution_count": 98,
     "metadata": {},
     "output_type": "execute_result"
    }
   ],
   "source": [
    "# fitting the ANN to the Training set\n",
    "\n",
    "# For subtracted Dataset\n",
    "classifier_subtract.fit(X_train_subtract,y_train_subtract,batch_size=24,epochs=50,verbose=0)"
   ]
  },
  {
   "cell_type": "code",
   "execution_count": 99,
   "metadata": {},
   "outputs": [],
   "source": [
    "# For concatenated Dataset\n",
    "\n",
    "y_pred_concat = classifier_concat.predict(X_test_concat)\n",
    "\n",
    "# For subtracted Dataset\n",
    "\n",
    "y_pred_subtract = classifier_subtract.predict(X_test_subtract)"
   ]
  },
  {
   "cell_type": "code",
   "execution_count": 100,
   "metadata": {},
   "outputs": [],
   "source": [
    "y_pred_concat = (y_pred_concat > 0.5)\n",
    "y_pred_concat =y_pred_concat.astype(int)\n",
    "y_pred_concat = [y_pred_concat[i][0] for i in range(len(y_pred_subtract))]\n",
    "\n",
    "y_pred_subtract = (y_pred_subtract > 0.5)\n",
    "y_pred_subtract = y_pred_subtract.astype(int)\n",
    "y_pred_subtract = [y_pred_subtract[i][0] for i in range(len(y_pred_subtract))]"
   ]
  },
  {
   "cell_type": "code",
   "execution_count": 101,
   "metadata": {},
   "outputs": [],
   "source": [
    "def evaluation(predict,Target):\n",
    "    right = 0\n",
    "    wrong = 0\n",
    "    \n",
    "    for i in range(len(Target)):\n",
    "        if predict[i] == Target[i]:\n",
    "            right += 1\n",
    "        else:\n",
    "            wrong +=1\n",
    "    return right, wrong"
   ]
  },
  {
   "cell_type": "code",
   "execution_count": 102,
   "metadata": {},
   "outputs": [
    {
     "name": "stdout",
     "output_type": "stream",
     "text": [
      "Accuracy is 98.375\n",
      "Error is 1.625\n",
      "\n",
      "Accuracy is 97.0\n",
      "Error is 3.0\n"
     ]
    }
   ],
   "source": [
    "# For concatenatedfeatures\n",
    "\n",
    "Right_concat, Wrong_concat = evaluation(y_pred_concat,y_test_concat)\n",
    "print(\"Accuracy is \" + str(Right_concat/len(y_test_concat)*100))\n",
    "print(\"Error is \" + str(Wrong_concat/len(y_test_concat)*100))\n",
    "\n",
    "print()\n",
    "# For subtractedfeatures\n",
    "\n",
    "Right_subtract, Wrong_subtract = evaluation(y_pred_subtract,y_test_subtract)\n",
    "print(\"Accuracy is \" + str(Right_subtract/len(y_test_subtract)*100))\n",
    "print(\"Error is \" + str(Wrong_subtract/len(y_test_subtract)*100))"
   ]
  }
 ],
 "metadata": {
  "kernelspec": {
   "display_name": "Python 3",
   "language": "python",
   "name": "python3"
  },
  "language_info": {
   "codemirror_mode": {
    "name": "ipython",
    "version": 3
   },
   "file_extension": ".py",
   "mimetype": "text/x-python",
   "name": "python",
   "nbconvert_exporter": "python",
   "pygments_lexer": "ipython3",
   "version": "3.5.6"
  }
 },
 "nbformat": 4,
 "nbformat_minor": 2
}
